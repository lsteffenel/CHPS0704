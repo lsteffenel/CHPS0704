{
  "nbformat": 4,
  "nbformat_minor": 0,
  "metadata": {
    "colab": {
      "provenance": [],
      "gpuType": "T4",
      "authorship_tag": "ABX9TyNyIpP3zLsJ4ipX/xKQlyzq",
      "include_colab_link": true
    },
    "kernelspec": {
      "name": "python3",
      "display_name": "Python 3"
    },
    "language_info": {
      "name": "python"
    },
    "accelerator": "GPU"
  },
  "cells": [
    {
      "cell_type": "markdown",
      "metadata": {
        "id": "view-in-github",
        "colab_type": "text"
      },
      "source": [
        "<a href=\"https://colab.research.google.com/github/lsteffenel/CHPS0704/blob/main/TP5/1-Comparaison_TS.ipynb\" target=\"_parent\"><img src=\"https://colab.research.google.com/assets/colab-badge.svg\" alt=\"Open In Colab\"/></a>"
      ]
    },
    {
      "cell_type": "markdown",
      "source": [
        "#Premier Exemple\n"
      ],
      "metadata": {
        "id": "dVfqIeiqYIQv"
      }
    },
    {
      "cell_type": "code",
      "execution_count": null,
      "metadata": {
        "id": "3WWenzEO1Luf"
      },
      "outputs": [],
      "source": [
        "import copy\n",
        "import random\n",
        "from math import sin, cos\n",
        "import matplotlib.pyplot as plt\n",
        "\n",
        "import torch\n",
        "import torch.nn.functional as F\n",
        "\n",
        "from sklearn.model_selection import train_test_split\n",
        "\n",
        "from scipy import interpolate\n",
        "import numpy as np\n",
        "\n",
        "from statsmodels.tsa.holtwinters import ExponentialSmoothing\n",
        "\n",
        "\n",
        "\n",
        "random.seed(1)\n",
        "torch.manual_seed(1)\n",
        "\n",
        "features = 256\n",
        "ts_len = 3_000\n",
        "\n"
      ]
    },
    {
      "cell_type": "code",
      "source": [
        "def get_time_series_data(length):\n",
        "    a = .2\n",
        "    b = 300\n",
        "    c = 20\n",
        "    ls = 5\n",
        "    ms = 20\n",
        "    gs = 100\n",
        "\n",
        "    ts = []\n",
        "\n",
        "    for i in range(length):\n",
        "        ts.append(b + a * i + ls * sin(i / 5) + ms * cos(i / 24) + gs * sin(i / 120) + c * random.random())\n",
        "\n",
        "    return ts\n"
      ],
      "metadata": {
        "id": "36muLxCy2GDF"
      },
      "execution_count": null,
      "outputs": []
    },
    {
      "cell_type": "code",
      "source": [
        "def get_time_series_datasets(features, ts_len):\n",
        "    ts = get_time_series_data(ts_len)\n",
        "\n",
        "    X = []\n",
        "    Y = []\n",
        "    for i in range(features + 1, ts_len):\n",
        "        X.append(ts[i - (features + 1):i - 1])\n",
        "        Y.append([ts[i]])\n",
        "\n",
        "    X_train, X_test, Y_train, Y_test = train_test_split(X, Y, test_size = 0.3, shuffle = False)\n",
        "    X_val, X_test, Y_val, Y_test = train_test_split(X_test, Y_test, test_size = 0.5, shuffle = False)\n",
        "\n",
        "    x_train = torch.tensor(data = X_train)\n",
        "    y_train = torch.tensor(data = Y_train)\n",
        "\n",
        "    x_val = torch.tensor(data = X_val)\n",
        "    y_val = torch.tensor(data = Y_val)\n",
        "\n",
        "    x_test = torch.tensor(data = X_test)\n",
        "    y_test = torch.tensor(data = Y_test)\n",
        "\n",
        "    return x_train, x_val, x_test, y_train, y_val, y_test"
      ],
      "metadata": {
        "id": "DV8hKGEC2F5-"
      },
      "execution_count": null,
      "outputs": []
    },
    {
      "cell_type": "code",
      "source": [
        "class DummyPredictor(torch.nn.Module):\n",
        "\n",
        "    def forward(self, x):\n",
        "        last_values = []\n",
        "        for r in x.tolist():\n",
        "            last_values.append([r[-1]])\n",
        "        return torch.tensor(data = last_values)"
      ],
      "metadata": {
        "id": "kMU6lqEU2Xuo"
      },
      "execution_count": null,
      "outputs": []
    },
    {
      "cell_type": "code",
      "source": [
        "class InterpolationPredictor(torch.nn.Module):\n",
        "\n",
        "    def forward(self, x):\n",
        "        last_values = []\n",
        "        values = x.tolist()\n",
        "        for v in values:\n",
        "            x = np.arange(0, len(v))\n",
        "            y = interpolate.interp1d(x, v, fill_value = 'extrapolate')\n",
        "            last_values.append([y(len(v)).tolist()])\n",
        "        return torch.tensor(data = last_values)\n"
      ],
      "metadata": {
        "id": "SqfdMidT2Ylk"
      },
      "execution_count": null,
      "outputs": []
    },
    {
      "cell_type": "code",
      "source": [
        "class HwesPredictor(torch.nn.Module):\n",
        "\n",
        "    def forward(self, x):\n",
        "        last_values = []\n",
        "        for r in x.tolist():\n",
        "            model = ExponentialSmoothing(r)\n",
        "            results = model.fit()\n",
        "            forecast = results.forecast()\n",
        "            last_values.append([forecast[0]])\n",
        "        return torch.tensor(data = last_values)\n"
      ],
      "metadata": {
        "id": "YUjPKF7H2z7x"
      },
      "execution_count": null,
      "outputs": []
    },
    {
      "cell_type": "code",
      "source": [
        "class FCNN(torch.nn.Module):\n",
        "\n",
        "    def __init__(self, n_inp, l_1, l_2, n_out):\n",
        "        super(FCNN, self).__init__()\n",
        "        self.lin1 = torch.nn.Linear(n_inp, l_1)\n",
        "        self.lin2 = torch.nn.Linear(l_1, l_2)\n",
        "        self.lin3 = torch.nn.Linear(l_2, n_out)\n",
        "\n",
        "    def forward(self, x):\n",
        "        x1 = F.relu(self.lin1(x))\n",
        "        x2 = F.relu(self.lin2(x1))\n",
        "        y = self.lin3(x2)\n",
        "        return y"
      ],
      "metadata": {
        "id": "VAVgbI-m20wq"
      },
      "execution_count": null,
      "outputs": []
    },
    {
      "cell_type": "code",
      "source": [
        "x_train, x_val, x_test, y_train, y_val, y_test = get_time_series_datasets(features,ts_len)\n",
        "\n",
        "dummy_predictor = DummyPredictor()\n",
        "interpolation_predictor = InterpolationPredictor()\n",
        "hwes_predictor = HwesPredictor()\n",
        "\n",
        "net = FCNN(n_inp = features, l_1 = 64, l_2 = 32, n_out = 1)\n",
        "net.train()\n",
        "\n",
        "optimizer = torch.optim.Adam(params = net.parameters())\n",
        "loss_func = torch.nn.MSELoss()\n",
        "\n",
        "best_model = None\n",
        "min_val_loss = 1_000_000\n",
        "\n",
        "training_loss = []\n",
        "validation_loss = []\n",
        "\n",
        "for t in range(10_000):\n",
        "\n",
        "    prediction = net(x_train)\n",
        "    loss = loss_func(prediction, y_train)\n",
        "\n",
        "    optimizer.zero_grad()\n",
        "    loss.backward()\n",
        "    optimizer.step()\n",
        "\n",
        "    val_prediction = net(x_val)\n",
        "    val_loss = loss_func(val_prediction, y_val)\n",
        "\n",
        "    training_loss.append(loss.item())\n",
        "    validation_loss.append(val_loss.item())\n",
        "\n",
        "    if val_loss.item() < min_val_loss:\n",
        "        best_model = copy.deepcopy(net)\n",
        "        min_val_loss = val_loss.item()\n",
        "        #print(t,\" - meilleur\")\n",
        "\n",
        "    if t % 1000 == 0:\n",
        "        print(f'epoch {t}: train - {round(loss.item(), 4)}, val: - {round(val_loss.item(), 4)}')\n",
        "\n",
        "net.eval()\n",
        "\n"
      ],
      "metadata": {
        "id": "hVl2qT7S3FSd"
      },
      "execution_count": null,
      "outputs": []
    },
    {
      "cell_type": "code",
      "source": [
        "print('Testing')\n",
        "print(f'FCNN Loss: {loss_func(best_model(x_test), y_test).item()}')\n",
        "print(f'Dummy Loss: {loss_func(dummy_predictor(x_test), y_test).item()}')\n",
        "print(f'Linear Interpolation Loss: {loss_func(interpolation_predictor(x_test), y_test).item()}')\n",
        "print(f'HWES Loss: {loss_func(hwes_predictor(x_test), y_test).item()}')"
      ],
      "metadata": {
        "id": "rlBwqr9W5RS0"
      },
      "execution_count": null,
      "outputs": []
    },
    {
      "cell_type": "code",
      "source": [
        "plt.title(\"Training progress\")\n",
        "plt.yscale(\"log\")\n",
        "plt.plot(training_loss, label = 'training loss')\n",
        "plt.plot(validation_loss, label = 'validation loss')\n",
        "plt.legend()\n",
        "plt.show()\n",
        "\n"
      ],
      "metadata": {
        "id": "qMoQ4Wrm3YK3"
      },
      "execution_count": null,
      "outputs": []
    },
    {
      "cell_type": "code",
      "source": [
        "plt.title('Test')\n",
        "plt.plot(y_test, '--', label = 'actual')\n",
        "plt.plot(best_model(x_test).tolist(), label = 'FCNN')\n",
        "plt.plot(hwes_predictor(x_test).tolist(), label = 'HWES')\n",
        "plt.legend()\n",
        "plt.show()\n"
      ],
      "metadata": {
        "id": "I2cxSISP4zFP"
      },
      "execution_count": null,
      "outputs": []
    },
    {
      "cell_type": "code",
      "source": [
        "plt.title('Test - Zoom')\n",
        "plt.plot(y_test[50:250], '--', label = 'actual')\n",
        "plt.plot(best_model(x_test).tolist()[50:250], label = 'FCNN')\n",
        "plt.plot(hwes_predictor(x_test).tolist()[50:250], label = 'HWES')\n",
        "plt.legend()\n",
        "plt.show()\n",
        "\n"
      ],
      "metadata": {
        "id": "oE2qXmHz3ga1"
      },
      "execution_count": null,
      "outputs": []
    },
    {
      "cell_type": "code",
      "source": [
        "test_n = len(y_test)\n",
        "net_abs_dev = (best_model(x_test) - y_test).abs_()\n",
        "hwes_abs_dev = (hwes_predictor(x_test) - y_test).abs_()\n",
        "diff_pos = F.relu(hwes_abs_dev - net_abs_dev).reshape(test_n).tolist()\n",
        "diff_min = (-F.relu(net_abs_dev - hwes_abs_dev)).reshape(test_n).tolist()\n",
        "plt.title('HWES Predictor VS FCNN Predictor')\n",
        "plt.hlines(0, xmin = 0, xmax = test_n, linestyles = 'dashed')\n",
        "plt.bar(list(range(test_n)), diff_pos, color = 'g', label = 'FCNN Wins')\n",
        "plt.bar(list(range(test_n)), diff_min, color = 'r', label = 'HWES Wins')\n",
        "plt.legend()\n",
        "plt.show()"
      ],
      "metadata": {
        "id": "M1EazmAS3gPp"
      },
      "execution_count": null,
      "outputs": []
    },
    {
      "cell_type": "markdown",
      "source": [
        "# Challenge\n",
        "\n",
        "Maintenant, téléchargez le fichier carbon_time.csv, qui affiche la mesure des émissions totales de carbone (CO, CO2, suie et autres) sur la région de Reims entre 2020-08-26 et 2024-01-17 (4 mesures par jour). Ouvrez-le avec Pandas, generez le dataset et effectuez le même exercice de modélisation.\n",
        "\n",
        "Quelle est la meilleure méthode ?"
      ],
      "metadata": {
        "id": "sdZJBfHZYWkW"
      }
    },
    {
      "cell_type": "code",
      "source": [],
      "metadata": {
        "id": "hdOc_x2TUkm4"
      },
      "execution_count": null,
      "outputs": []
    }
  ]
}