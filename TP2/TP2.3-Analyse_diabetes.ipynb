{
  "cells": [
    {
      "cell_type": "markdown",
      "metadata": {
        "id": "view-in-github",
        "colab_type": "text"
      },
      "source": [
        "<a href=\"https://colab.research.google.com/github/lsteffenel/CHPS0704/blob/main/TP2.3-Analyse_diabetes.ipynb\" target=\"_parent\"><img src=\"https://colab.research.google.com/assets/colab-badge.svg\" alt=\"Open In Colab\"/></a>"
      ]
    },
    {
      "cell_type": "markdown",
      "metadata": {
        "_cell_guid": "611b1805-944f-4fb4-89b8-d49b83405bc3",
        "_uuid": "21690b95318e8c753ee9e3555521cda3b9e880cc",
        "id": "LxpSB2reT0TD"
      },
      "source": [
        "\n",
        "# TP2.3 Analyse de données :\n",
        "# PRÉDICTION DE DIABÈTE\n",
        "## 1.\t Préparation des données\n",
        "\n"
      ]
    },
    {
      "cell_type": "markdown",
      "metadata": {
        "_uuid": "b128351b0626753498f60a823c81213b266caa53",
        "id": "ONcBjm0GT0TE"
      },
      "source": [
        "Cet ensemble de données provient d’une extraction fournie par un Institut du diabète. Pour vous faciliter la munipulation, la base de données est disponible sur le fichier `diabetes_2.csv`\n",
        "\n",
        "L'objectif de cet ensemble est de construire un outil permettant de réaliser un diagnostic positif ou négatif de la présence d'un diabète chez un patient. Plusieurs contraintes ont été placées sur la sélection de ces instances dans la base de données d'origine (bien plus volumineuse). En particulier, tous les patients ici sont des femmes âgées d'au moins 21 ans.\n",
        "\n",
        "Les ensembles de données comprennent plusieurs variables prédictives médicales et la variable cible « _Outcome_ » dont la valeur _1_ signifie que la patiente est diabétique et la valeur _0_ qu'il ne l'est pas.  \n",
        "Les variables prédictives comprennent le nombre de grossesses que le patient a eues, son IMC, son taux d'insuline, son âge, etc.\n",
        "\n",
        "Chaque ligne représente un patient et les colonnes sont :\n",
        "-\t_Grossesses_ : nombre de fois où la patiente a déjà été enceinte\n",
        "-\t_Glucose_ : concentration en glucose plasmatique 2 heures dans un test de tolérance au glucose par voie orale\n",
        "-\t_BloodPressure_ : pression artérielle diastolique (mm Hg)\n",
        "-\t_SkinThickness_ : épaisseur du pli cutané des triceps (mm)\n",
        "-\t_Insuline_ : insuline sérique de 2 heures (mu U / ml)\n",
        "-\t_BMI_ : IMC : indice de masse corporelle (poids en kg / (taille en m) ^ 2)\n",
        "-\t_DiabetesPedigreeFunction_ : Fonction pédigrée du diabète\n",
        "-\t_Age_ : age (ans)\n",
        "-\t_Outcome_ : Variable de classe dont les états sont soit 1 (diabète), soit 0 (non diabète)."
      ]
    },
    {
      "cell_type": "markdown",
      "metadata": {
        "_cell_guid": "62bca6ec-6451-4368-9641-9e375e462a80",
        "_uuid": "ed60186d96269fb714d6ec56cd3fe110b0103613",
        "id": "lQpBY0-zT0TF"
      },
      "source": [
        "\n",
        "## Étape 1 : Lecture des données\n",
        "\n",
        "Grâce à la bibliothèque '_pandas_', nous pouvons manipuler notre jeux de données : lire, écrire, stocker, visualiser, supprimer des lignes, des colonnes, créer des dataframes, etc."
      ]
    },
    {
      "cell_type": "code",
      "execution_count": 4,
      "metadata": {
        "_cell_guid": "7fce0ff8-1860-45fc-9462-058bc3472a02",
        "_uuid": "ab7de5d3b393fe6171e25a60844bf11c413abd75",
        "id": "q50ZVyANT0TF"
      },
      "outputs": [],
      "source": [
        "# importer la lib pandas pour le traitement sur le jeux de données\n",
        "import pandas as pd"
      ]
    },
    {
      "cell_type": "markdown",
      "metadata": {
        "_uuid": "bbd14f65156940ede4004e451239a476bed5eb77",
        "id": "shQtE-uOT0TF"
      },
      "source": [
        "### Documentation Pandas\n",
        "Consulter le lien https://pandas.pydata.org/pandas-docs/stable/generated/pandas.DataFrame.html pour rechercher les informations sur les fonctionnalités présentes dans le code ci-dessous :\n"
      ]
    },
    {
      "cell_type": "code",
      "source": [
        "!wget https://raw.githubusercontent.com/lsteffenel/CHPS0704/main/data/diabetes_2.csv"
      ],
      "metadata": {
        "id": "C3r4wZV_T2bh",
        "outputId": "55349cbd-f09d-47b4-eff3-e84fd66a0c9c",
        "colab": {
          "base_uri": "https://localhost:8080/"
        }
      },
      "execution_count": 2,
      "outputs": [
        {
          "output_type": "stream",
          "name": "stdout",
          "text": [
            "--2024-09-12 08:43:19--  https://raw.githubusercontent.com/lsteffenel/CHPS0704/main/data/diabetes_2.csv\n",
            "Resolving raw.githubusercontent.com (raw.githubusercontent.com)... 185.199.108.133, 185.199.109.133, 185.199.110.133, ...\n",
            "Connecting to raw.githubusercontent.com (raw.githubusercontent.com)|185.199.108.133|:443... connected.\n",
            "HTTP request sent, awaiting response... 200 OK\n",
            "Length: 23873 (23K) [text/plain]\n",
            "Saving to: ‘diabetes_2.csv’\n",
            "\n",
            "\rdiabetes_2.csv        0%[                    ]       0  --.-KB/s               \rdiabetes_2.csv      100%[===================>]  23.31K  --.-KB/s    in 0.002s  \n",
            "\n",
            "2024-09-12 08:43:20 (9.42 MB/s) - ‘diabetes_2.csv’ saved [23873/23873]\n",
            "\n"
          ]
        }
      ]
    },
    {
      "cell_type": "code",
      "execution_count": 5,
      "metadata": {
        "_cell_guid": "7676ceb4-c3c8-4588-b2e9-c609e44dbe97",
        "_uuid": "f8664515f75fdb2a01c622c67fb926a9c3c9e014",
        "id": "AKPrgESpT0TG",
        "outputId": "fdb923a7-db49-44c0-c103-b87e172f8334",
        "colab": {
          "base_uri": "https://localhost:8080/",
          "height": 224
        }
      },
      "outputs": [
        {
          "output_type": "stream",
          "name": "stdout",
          "text": [
            "Shape (n_rows,n_columns) of dataframe: (768, 9)\n"
          ]
        },
        {
          "output_type": "execute_result",
          "data": {
            "text/plain": [
              "   Pregnancies  Glucose  BloodPressure  SkinThickness  Insulin   BMI  \\\n",
              "0            6      148             72             35        0  33.6   \n",
              "1            1       85             66             29        0  26.6   \n",
              "2            8      183             64              0        0  23.3   \n",
              "3            1       89             66             23       94  28.1   \n",
              "4            0      137             40             35      168  43.1   \n",
              "\n",
              "   DiabetesPedigreeFunction  Age  Outcome  \n",
              "0                     0.627   50        1  \n",
              "1                     0.351   31        0  \n",
              "2                     0.672   32        1  \n",
              "3                     0.167   21        0  \n",
              "4                     2.288   33        1  "
            ],
            "text/html": [
              "\n",
              "  <div id=\"df-ad380a5e-d1ec-4ef3-86d9-bc3d5d433dd3\" class=\"colab-df-container\">\n",
              "    <div>\n",
              "<style scoped>\n",
              "    .dataframe tbody tr th:only-of-type {\n",
              "        vertical-align: middle;\n",
              "    }\n",
              "\n",
              "    .dataframe tbody tr th {\n",
              "        vertical-align: top;\n",
              "    }\n",
              "\n",
              "    .dataframe thead th {\n",
              "        text-align: right;\n",
              "    }\n",
              "</style>\n",
              "<table border=\"1\" class=\"dataframe\">\n",
              "  <thead>\n",
              "    <tr style=\"text-align: right;\">\n",
              "      <th></th>\n",
              "      <th>Pregnancies</th>\n",
              "      <th>Glucose</th>\n",
              "      <th>BloodPressure</th>\n",
              "      <th>SkinThickness</th>\n",
              "      <th>Insulin</th>\n",
              "      <th>BMI</th>\n",
              "      <th>DiabetesPedigreeFunction</th>\n",
              "      <th>Age</th>\n",
              "      <th>Outcome</th>\n",
              "    </tr>\n",
              "  </thead>\n",
              "  <tbody>\n",
              "    <tr>\n",
              "      <th>0</th>\n",
              "      <td>6</td>\n",
              "      <td>148</td>\n",
              "      <td>72</td>\n",
              "      <td>35</td>\n",
              "      <td>0</td>\n",
              "      <td>33.6</td>\n",
              "      <td>0.627</td>\n",
              "      <td>50</td>\n",
              "      <td>1</td>\n",
              "    </tr>\n",
              "    <tr>\n",
              "      <th>1</th>\n",
              "      <td>1</td>\n",
              "      <td>85</td>\n",
              "      <td>66</td>\n",
              "      <td>29</td>\n",
              "      <td>0</td>\n",
              "      <td>26.6</td>\n",
              "      <td>0.351</td>\n",
              "      <td>31</td>\n",
              "      <td>0</td>\n",
              "    </tr>\n",
              "    <tr>\n",
              "      <th>2</th>\n",
              "      <td>8</td>\n",
              "      <td>183</td>\n",
              "      <td>64</td>\n",
              "      <td>0</td>\n",
              "      <td>0</td>\n",
              "      <td>23.3</td>\n",
              "      <td>0.672</td>\n",
              "      <td>32</td>\n",
              "      <td>1</td>\n",
              "    </tr>\n",
              "    <tr>\n",
              "      <th>3</th>\n",
              "      <td>1</td>\n",
              "      <td>89</td>\n",
              "      <td>66</td>\n",
              "      <td>23</td>\n",
              "      <td>94</td>\n",
              "      <td>28.1</td>\n",
              "      <td>0.167</td>\n",
              "      <td>21</td>\n",
              "      <td>0</td>\n",
              "    </tr>\n",
              "    <tr>\n",
              "      <th>4</th>\n",
              "      <td>0</td>\n",
              "      <td>137</td>\n",
              "      <td>40</td>\n",
              "      <td>35</td>\n",
              "      <td>168</td>\n",
              "      <td>43.1</td>\n",
              "      <td>2.288</td>\n",
              "      <td>33</td>\n",
              "      <td>1</td>\n",
              "    </tr>\n",
              "  </tbody>\n",
              "</table>\n",
              "</div>\n",
              "    <div class=\"colab-df-buttons\">\n",
              "\n",
              "  <div class=\"colab-df-container\">\n",
              "    <button class=\"colab-df-convert\" onclick=\"convertToInteractive('df-ad380a5e-d1ec-4ef3-86d9-bc3d5d433dd3')\"\n",
              "            title=\"Convert this dataframe to an interactive table.\"\n",
              "            style=\"display:none;\">\n",
              "\n",
              "  <svg xmlns=\"http://www.w3.org/2000/svg\" height=\"24px\" viewBox=\"0 -960 960 960\">\n",
              "    <path d=\"M120-120v-720h720v720H120Zm60-500h600v-160H180v160Zm220 220h160v-160H400v160Zm0 220h160v-160H400v160ZM180-400h160v-160H180v160Zm440 0h160v-160H620v160ZM180-180h160v-160H180v160Zm440 0h160v-160H620v160Z\"/>\n",
              "  </svg>\n",
              "    </button>\n",
              "\n",
              "  <style>\n",
              "    .colab-df-container {\n",
              "      display:flex;\n",
              "      gap: 12px;\n",
              "    }\n",
              "\n",
              "    .colab-df-convert {\n",
              "      background-color: #E8F0FE;\n",
              "      border: none;\n",
              "      border-radius: 50%;\n",
              "      cursor: pointer;\n",
              "      display: none;\n",
              "      fill: #1967D2;\n",
              "      height: 32px;\n",
              "      padding: 0 0 0 0;\n",
              "      width: 32px;\n",
              "    }\n",
              "\n",
              "    .colab-df-convert:hover {\n",
              "      background-color: #E2EBFA;\n",
              "      box-shadow: 0px 1px 2px rgba(60, 64, 67, 0.3), 0px 1px 3px 1px rgba(60, 64, 67, 0.15);\n",
              "      fill: #174EA6;\n",
              "    }\n",
              "\n",
              "    .colab-df-buttons div {\n",
              "      margin-bottom: 4px;\n",
              "    }\n",
              "\n",
              "    [theme=dark] .colab-df-convert {\n",
              "      background-color: #3B4455;\n",
              "      fill: #D2E3FC;\n",
              "    }\n",
              "\n",
              "    [theme=dark] .colab-df-convert:hover {\n",
              "      background-color: #434B5C;\n",
              "      box-shadow: 0px 1px 3px 1px rgba(0, 0, 0, 0.15);\n",
              "      filter: drop-shadow(0px 1px 2px rgba(0, 0, 0, 0.3));\n",
              "      fill: #FFFFFF;\n",
              "    }\n",
              "  </style>\n",
              "\n",
              "    <script>\n",
              "      const buttonEl =\n",
              "        document.querySelector('#df-ad380a5e-d1ec-4ef3-86d9-bc3d5d433dd3 button.colab-df-convert');\n",
              "      buttonEl.style.display =\n",
              "        google.colab.kernel.accessAllowed ? 'block' : 'none';\n",
              "\n",
              "      async function convertToInteractive(key) {\n",
              "        const element = document.querySelector('#df-ad380a5e-d1ec-4ef3-86d9-bc3d5d433dd3');\n",
              "        const dataTable =\n",
              "          await google.colab.kernel.invokeFunction('convertToInteractive',\n",
              "                                                    [key], {});\n",
              "        if (!dataTable) return;\n",
              "\n",
              "        const docLinkHtml = 'Like what you see? Visit the ' +\n",
              "          '<a target=\"_blank\" href=https://colab.research.google.com/notebooks/data_table.ipynb>data table notebook</a>'\n",
              "          + ' to learn more about interactive tables.';\n",
              "        element.innerHTML = '';\n",
              "        dataTable['output_type'] = 'display_data';\n",
              "        await google.colab.output.renderOutput(dataTable, element);\n",
              "        const docLink = document.createElement('div');\n",
              "        docLink.innerHTML = docLinkHtml;\n",
              "        element.appendChild(docLink);\n",
              "      }\n",
              "    </script>\n",
              "  </div>\n",
              "\n",
              "\n",
              "<div id=\"df-a0640ab0-7749-490f-b53b-890b9095ea0d\">\n",
              "  <button class=\"colab-df-quickchart\" onclick=\"quickchart('df-a0640ab0-7749-490f-b53b-890b9095ea0d')\"\n",
              "            title=\"Suggest charts\"\n",
              "            style=\"display:none;\">\n",
              "\n",
              "<svg xmlns=\"http://www.w3.org/2000/svg\" height=\"24px\"viewBox=\"0 0 24 24\"\n",
              "     width=\"24px\">\n",
              "    <g>\n",
              "        <path d=\"M19 3H5c-1.1 0-2 .9-2 2v14c0 1.1.9 2 2 2h14c1.1 0 2-.9 2-2V5c0-1.1-.9-2-2-2zM9 17H7v-7h2v7zm4 0h-2V7h2v10zm4 0h-2v-4h2v4z\"/>\n",
              "    </g>\n",
              "</svg>\n",
              "  </button>\n",
              "\n",
              "<style>\n",
              "  .colab-df-quickchart {\n",
              "      --bg-color: #E8F0FE;\n",
              "      --fill-color: #1967D2;\n",
              "      --hover-bg-color: #E2EBFA;\n",
              "      --hover-fill-color: #174EA6;\n",
              "      --disabled-fill-color: #AAA;\n",
              "      --disabled-bg-color: #DDD;\n",
              "  }\n",
              "\n",
              "  [theme=dark] .colab-df-quickchart {\n",
              "      --bg-color: #3B4455;\n",
              "      --fill-color: #D2E3FC;\n",
              "      --hover-bg-color: #434B5C;\n",
              "      --hover-fill-color: #FFFFFF;\n",
              "      --disabled-bg-color: #3B4455;\n",
              "      --disabled-fill-color: #666;\n",
              "  }\n",
              "\n",
              "  .colab-df-quickchart {\n",
              "    background-color: var(--bg-color);\n",
              "    border: none;\n",
              "    border-radius: 50%;\n",
              "    cursor: pointer;\n",
              "    display: none;\n",
              "    fill: var(--fill-color);\n",
              "    height: 32px;\n",
              "    padding: 0;\n",
              "    width: 32px;\n",
              "  }\n",
              "\n",
              "  .colab-df-quickchart:hover {\n",
              "    background-color: var(--hover-bg-color);\n",
              "    box-shadow: 0 1px 2px rgba(60, 64, 67, 0.3), 0 1px 3px 1px rgba(60, 64, 67, 0.15);\n",
              "    fill: var(--button-hover-fill-color);\n",
              "  }\n",
              "\n",
              "  .colab-df-quickchart-complete:disabled,\n",
              "  .colab-df-quickchart-complete:disabled:hover {\n",
              "    background-color: var(--disabled-bg-color);\n",
              "    fill: var(--disabled-fill-color);\n",
              "    box-shadow: none;\n",
              "  }\n",
              "\n",
              "  .colab-df-spinner {\n",
              "    border: 2px solid var(--fill-color);\n",
              "    border-color: transparent;\n",
              "    border-bottom-color: var(--fill-color);\n",
              "    animation:\n",
              "      spin 1s steps(1) infinite;\n",
              "  }\n",
              "\n",
              "  @keyframes spin {\n",
              "    0% {\n",
              "      border-color: transparent;\n",
              "      border-bottom-color: var(--fill-color);\n",
              "      border-left-color: var(--fill-color);\n",
              "    }\n",
              "    20% {\n",
              "      border-color: transparent;\n",
              "      border-left-color: var(--fill-color);\n",
              "      border-top-color: var(--fill-color);\n",
              "    }\n",
              "    30% {\n",
              "      border-color: transparent;\n",
              "      border-left-color: var(--fill-color);\n",
              "      border-top-color: var(--fill-color);\n",
              "      border-right-color: var(--fill-color);\n",
              "    }\n",
              "    40% {\n",
              "      border-color: transparent;\n",
              "      border-right-color: var(--fill-color);\n",
              "      border-top-color: var(--fill-color);\n",
              "    }\n",
              "    60% {\n",
              "      border-color: transparent;\n",
              "      border-right-color: var(--fill-color);\n",
              "    }\n",
              "    80% {\n",
              "      border-color: transparent;\n",
              "      border-right-color: var(--fill-color);\n",
              "      border-bottom-color: var(--fill-color);\n",
              "    }\n",
              "    90% {\n",
              "      border-color: transparent;\n",
              "      border-bottom-color: var(--fill-color);\n",
              "    }\n",
              "  }\n",
              "</style>\n",
              "\n",
              "  <script>\n",
              "    async function quickchart(key) {\n",
              "      const quickchartButtonEl =\n",
              "        document.querySelector('#' + key + ' button');\n",
              "      quickchartButtonEl.disabled = true;  // To prevent multiple clicks.\n",
              "      quickchartButtonEl.classList.add('colab-df-spinner');\n",
              "      try {\n",
              "        const charts = await google.colab.kernel.invokeFunction(\n",
              "            'suggestCharts', [key], {});\n",
              "      } catch (error) {\n",
              "        console.error('Error during call to suggestCharts:', error);\n",
              "      }\n",
              "      quickchartButtonEl.classList.remove('colab-df-spinner');\n",
              "      quickchartButtonEl.classList.add('colab-df-quickchart-complete');\n",
              "    }\n",
              "    (() => {\n",
              "      let quickchartButtonEl =\n",
              "        document.querySelector('#df-a0640ab0-7749-490f-b53b-890b9095ea0d button');\n",
              "      quickchartButtonEl.style.display =\n",
              "        google.colab.kernel.accessAllowed ? 'block' : 'none';\n",
              "    })();\n",
              "  </script>\n",
              "</div>\n",
              "\n",
              "    </div>\n",
              "  </div>\n"
            ],
            "application/vnd.google.colaboratory.intrinsic+json": {
              "type": "dataframe",
              "variable_name": "df",
              "summary": "{\n  \"name\": \"df\",\n  \"rows\": 768,\n  \"fields\": [\n    {\n      \"column\": \"Pregnancies\",\n      \"properties\": {\n        \"dtype\": \"number\",\n        \"std\": 3,\n        \"min\": 0,\n        \"max\": 17,\n        \"num_unique_values\": 17,\n        \"samples\": [\n          6,\n          1,\n          3\n        ],\n        \"semantic_type\": \"\",\n        \"description\": \"\"\n      }\n    },\n    {\n      \"column\": \"Glucose\",\n      \"properties\": {\n        \"dtype\": \"number\",\n        \"std\": 31,\n        \"min\": 0,\n        \"max\": 199,\n        \"num_unique_values\": 136,\n        \"samples\": [\n          151,\n          101,\n          112\n        ],\n        \"semantic_type\": \"\",\n        \"description\": \"\"\n      }\n    },\n    {\n      \"column\": \"BloodPressure\",\n      \"properties\": {\n        \"dtype\": \"number\",\n        \"std\": 19,\n        \"min\": 0,\n        \"max\": 122,\n        \"num_unique_values\": 47,\n        \"samples\": [\n          86,\n          46,\n          85\n        ],\n        \"semantic_type\": \"\",\n        \"description\": \"\"\n      }\n    },\n    {\n      \"column\": \"SkinThickness\",\n      \"properties\": {\n        \"dtype\": \"number\",\n        \"std\": 15,\n        \"min\": 0,\n        \"max\": 99,\n        \"num_unique_values\": 51,\n        \"samples\": [\n          7,\n          12,\n          48\n        ],\n        \"semantic_type\": \"\",\n        \"description\": \"\"\n      }\n    },\n    {\n      \"column\": \"Insulin\",\n      \"properties\": {\n        \"dtype\": \"number\",\n        \"std\": 115,\n        \"min\": 0,\n        \"max\": 846,\n        \"num_unique_values\": 186,\n        \"samples\": [\n          52,\n          41,\n          183\n        ],\n        \"semantic_type\": \"\",\n        \"description\": \"\"\n      }\n    },\n    {\n      \"column\": \"BMI\",\n      \"properties\": {\n        \"dtype\": \"number\",\n        \"std\": 7.884160320375446,\n        \"min\": 0.0,\n        \"max\": 67.1,\n        \"num_unique_values\": 248,\n        \"samples\": [\n          19.9,\n          31.0,\n          38.1\n        ],\n        \"semantic_type\": \"\",\n        \"description\": \"\"\n      }\n    },\n    {\n      \"column\": \"DiabetesPedigreeFunction\",\n      \"properties\": {\n        \"dtype\": \"number\",\n        \"std\": 0.3313285950127749,\n        \"min\": 0.078,\n        \"max\": 2.42,\n        \"num_unique_values\": 517,\n        \"samples\": [\n          1.731,\n          0.426,\n          0.138\n        ],\n        \"semantic_type\": \"\",\n        \"description\": \"\"\n      }\n    },\n    {\n      \"column\": \"Age\",\n      \"properties\": {\n        \"dtype\": \"number\",\n        \"std\": 11,\n        \"min\": 21,\n        \"max\": 81,\n        \"num_unique_values\": 52,\n        \"samples\": [\n          60,\n          47,\n          72\n        ],\n        \"semantic_type\": \"\",\n        \"description\": \"\"\n      }\n    },\n    {\n      \"column\": \"Outcome\",\n      \"properties\": {\n        \"dtype\": \"number\",\n        \"std\": 0,\n        \"min\": 0,\n        \"max\": 1,\n        \"num_unique_values\": 2,\n        \"samples\": [\n          0,\n          1\n        ],\n        \"semantic_type\": \"\",\n        \"description\": \"\"\n      }\n    }\n  ]\n}"
            }
          },
          "metadata": {},
          "execution_count": 5
        }
      ],
      "source": [
        "# read the csv-formatted data file into a pandas dataframe\n",
        "df=pd.read_csv('diabetes_2.csv')\n",
        "# get shape of data frame\n",
        "print('Shape (n_rows,n_columns) of dataframe:',df.shape)\n",
        "# print top 5 rows (default) of the data frame\n",
        "df.head()"
      ]
    },
    {
      "cell_type": "markdown",
      "metadata": {
        "_cell_guid": "deab00b7-bed2-42cc-9cf5-f6ef98993826",
        "_uuid": "97efa0018c2526001458ca23e5ef7e74b2e0053f",
        "id": "cQ6bA344T0TG"
      },
      "source": [
        "## Manipuler le jeux de données en utilisant quelques commandes de Pandas"
      ]
    },
    {
      "cell_type": "markdown",
      "metadata": {
        "_cell_guid": "750a7c16-754f-44cb-93c0-859b469cd0ff",
        "_uuid": "a8eb867d916c940c7c42ab5003c3d240a95ed2a3",
        "id": "G6A3S66ET0TG"
      },
      "source": [
        "### Sélection d'une (ou plusieurs) colonne(s) comme un nouveau dataframe et affichage uniquement les 5 premières lignes.\n"
      ]
    },
    {
      "cell_type": "code",
      "execution_count": 6,
      "metadata": {
        "_cell_guid": "fb406652-7a9f-4620-a069-b7a1a9acf690",
        "_uuid": "bd0f540e866e891c4e16d8d4a532391346444974",
        "id": "BqdS_y38T0TG",
        "outputId": "4ea095ed-ed94-4ec3-e4cb-da27dcf0e2ea",
        "colab": {
          "base_uri": "https://localhost:8080/",
          "height": 206
        }
      },
      "outputs": [
        {
          "output_type": "execute_result",
          "data": {
            "text/plain": [
              "   Outcome  Pregnancies  Insulin\n",
              "0        1            6        0\n",
              "1        0            1        0\n",
              "2        1            8        0\n",
              "3        0            1       94\n",
              "4        1            0      168"
            ],
            "text/html": [
              "\n",
              "  <div id=\"df-3746785d-d6dd-415f-ae37-919a082b74ef\" class=\"colab-df-container\">\n",
              "    <div>\n",
              "<style scoped>\n",
              "    .dataframe tbody tr th:only-of-type {\n",
              "        vertical-align: middle;\n",
              "    }\n",
              "\n",
              "    .dataframe tbody tr th {\n",
              "        vertical-align: top;\n",
              "    }\n",
              "\n",
              "    .dataframe thead th {\n",
              "        text-align: right;\n",
              "    }\n",
              "</style>\n",
              "<table border=\"1\" class=\"dataframe\">\n",
              "  <thead>\n",
              "    <tr style=\"text-align: right;\">\n",
              "      <th></th>\n",
              "      <th>Outcome</th>\n",
              "      <th>Pregnancies</th>\n",
              "      <th>Insulin</th>\n",
              "    </tr>\n",
              "  </thead>\n",
              "  <tbody>\n",
              "    <tr>\n",
              "      <th>0</th>\n",
              "      <td>1</td>\n",
              "      <td>6</td>\n",
              "      <td>0</td>\n",
              "    </tr>\n",
              "    <tr>\n",
              "      <th>1</th>\n",
              "      <td>0</td>\n",
              "      <td>1</td>\n",
              "      <td>0</td>\n",
              "    </tr>\n",
              "    <tr>\n",
              "      <th>2</th>\n",
              "      <td>1</td>\n",
              "      <td>8</td>\n",
              "      <td>0</td>\n",
              "    </tr>\n",
              "    <tr>\n",
              "      <th>3</th>\n",
              "      <td>0</td>\n",
              "      <td>1</td>\n",
              "      <td>94</td>\n",
              "    </tr>\n",
              "    <tr>\n",
              "      <th>4</th>\n",
              "      <td>1</td>\n",
              "      <td>0</td>\n",
              "      <td>168</td>\n",
              "    </tr>\n",
              "  </tbody>\n",
              "</table>\n",
              "</div>\n",
              "    <div class=\"colab-df-buttons\">\n",
              "\n",
              "  <div class=\"colab-df-container\">\n",
              "    <button class=\"colab-df-convert\" onclick=\"convertToInteractive('df-3746785d-d6dd-415f-ae37-919a082b74ef')\"\n",
              "            title=\"Convert this dataframe to an interactive table.\"\n",
              "            style=\"display:none;\">\n",
              "\n",
              "  <svg xmlns=\"http://www.w3.org/2000/svg\" height=\"24px\" viewBox=\"0 -960 960 960\">\n",
              "    <path d=\"M120-120v-720h720v720H120Zm60-500h600v-160H180v160Zm220 220h160v-160H400v160Zm0 220h160v-160H400v160ZM180-400h160v-160H180v160Zm440 0h160v-160H620v160ZM180-180h160v-160H180v160Zm440 0h160v-160H620v160Z\"/>\n",
              "  </svg>\n",
              "    </button>\n",
              "\n",
              "  <style>\n",
              "    .colab-df-container {\n",
              "      display:flex;\n",
              "      gap: 12px;\n",
              "    }\n",
              "\n",
              "    .colab-df-convert {\n",
              "      background-color: #E8F0FE;\n",
              "      border: none;\n",
              "      border-radius: 50%;\n",
              "      cursor: pointer;\n",
              "      display: none;\n",
              "      fill: #1967D2;\n",
              "      height: 32px;\n",
              "      padding: 0 0 0 0;\n",
              "      width: 32px;\n",
              "    }\n",
              "\n",
              "    .colab-df-convert:hover {\n",
              "      background-color: #E2EBFA;\n",
              "      box-shadow: 0px 1px 2px rgba(60, 64, 67, 0.3), 0px 1px 3px 1px rgba(60, 64, 67, 0.15);\n",
              "      fill: #174EA6;\n",
              "    }\n",
              "\n",
              "    .colab-df-buttons div {\n",
              "      margin-bottom: 4px;\n",
              "    }\n",
              "\n",
              "    [theme=dark] .colab-df-convert {\n",
              "      background-color: #3B4455;\n",
              "      fill: #D2E3FC;\n",
              "    }\n",
              "\n",
              "    [theme=dark] .colab-df-convert:hover {\n",
              "      background-color: #434B5C;\n",
              "      box-shadow: 0px 1px 3px 1px rgba(0, 0, 0, 0.15);\n",
              "      filter: drop-shadow(0px 1px 2px rgba(0, 0, 0, 0.3));\n",
              "      fill: #FFFFFF;\n",
              "    }\n",
              "  </style>\n",
              "\n",
              "    <script>\n",
              "      const buttonEl =\n",
              "        document.querySelector('#df-3746785d-d6dd-415f-ae37-919a082b74ef button.colab-df-convert');\n",
              "      buttonEl.style.display =\n",
              "        google.colab.kernel.accessAllowed ? 'block' : 'none';\n",
              "\n",
              "      async function convertToInteractive(key) {\n",
              "        const element = document.querySelector('#df-3746785d-d6dd-415f-ae37-919a082b74ef');\n",
              "        const dataTable =\n",
              "          await google.colab.kernel.invokeFunction('convertToInteractive',\n",
              "                                                    [key], {});\n",
              "        if (!dataTable) return;\n",
              "\n",
              "        const docLinkHtml = 'Like what you see? Visit the ' +\n",
              "          '<a target=\"_blank\" href=https://colab.research.google.com/notebooks/data_table.ipynb>data table notebook</a>'\n",
              "          + ' to learn more about interactive tables.';\n",
              "        element.innerHTML = '';\n",
              "        dataTable['output_type'] = 'display_data';\n",
              "        await google.colab.output.renderOutput(dataTable, element);\n",
              "        const docLink = document.createElement('div');\n",
              "        docLink.innerHTML = docLinkHtml;\n",
              "        element.appendChild(docLink);\n",
              "      }\n",
              "    </script>\n",
              "  </div>\n",
              "\n",
              "\n",
              "<div id=\"df-847a3c7a-26dd-4720-b4a3-f242f6c38383\">\n",
              "  <button class=\"colab-df-quickchart\" onclick=\"quickchart('df-847a3c7a-26dd-4720-b4a3-f242f6c38383')\"\n",
              "            title=\"Suggest charts\"\n",
              "            style=\"display:none;\">\n",
              "\n",
              "<svg xmlns=\"http://www.w3.org/2000/svg\" height=\"24px\"viewBox=\"0 0 24 24\"\n",
              "     width=\"24px\">\n",
              "    <g>\n",
              "        <path d=\"M19 3H5c-1.1 0-2 .9-2 2v14c0 1.1.9 2 2 2h14c1.1 0 2-.9 2-2V5c0-1.1-.9-2-2-2zM9 17H7v-7h2v7zm4 0h-2V7h2v10zm4 0h-2v-4h2v4z\"/>\n",
              "    </g>\n",
              "</svg>\n",
              "  </button>\n",
              "\n",
              "<style>\n",
              "  .colab-df-quickchart {\n",
              "      --bg-color: #E8F0FE;\n",
              "      --fill-color: #1967D2;\n",
              "      --hover-bg-color: #E2EBFA;\n",
              "      --hover-fill-color: #174EA6;\n",
              "      --disabled-fill-color: #AAA;\n",
              "      --disabled-bg-color: #DDD;\n",
              "  }\n",
              "\n",
              "  [theme=dark] .colab-df-quickchart {\n",
              "      --bg-color: #3B4455;\n",
              "      --fill-color: #D2E3FC;\n",
              "      --hover-bg-color: #434B5C;\n",
              "      --hover-fill-color: #FFFFFF;\n",
              "      --disabled-bg-color: #3B4455;\n",
              "      --disabled-fill-color: #666;\n",
              "  }\n",
              "\n",
              "  .colab-df-quickchart {\n",
              "    background-color: var(--bg-color);\n",
              "    border: none;\n",
              "    border-radius: 50%;\n",
              "    cursor: pointer;\n",
              "    display: none;\n",
              "    fill: var(--fill-color);\n",
              "    height: 32px;\n",
              "    padding: 0;\n",
              "    width: 32px;\n",
              "  }\n",
              "\n",
              "  .colab-df-quickchart:hover {\n",
              "    background-color: var(--hover-bg-color);\n",
              "    box-shadow: 0 1px 2px rgba(60, 64, 67, 0.3), 0 1px 3px 1px rgba(60, 64, 67, 0.15);\n",
              "    fill: var(--button-hover-fill-color);\n",
              "  }\n",
              "\n",
              "  .colab-df-quickchart-complete:disabled,\n",
              "  .colab-df-quickchart-complete:disabled:hover {\n",
              "    background-color: var(--disabled-bg-color);\n",
              "    fill: var(--disabled-fill-color);\n",
              "    box-shadow: none;\n",
              "  }\n",
              "\n",
              "  .colab-df-spinner {\n",
              "    border: 2px solid var(--fill-color);\n",
              "    border-color: transparent;\n",
              "    border-bottom-color: var(--fill-color);\n",
              "    animation:\n",
              "      spin 1s steps(1) infinite;\n",
              "  }\n",
              "\n",
              "  @keyframes spin {\n",
              "    0% {\n",
              "      border-color: transparent;\n",
              "      border-bottom-color: var(--fill-color);\n",
              "      border-left-color: var(--fill-color);\n",
              "    }\n",
              "    20% {\n",
              "      border-color: transparent;\n",
              "      border-left-color: var(--fill-color);\n",
              "      border-top-color: var(--fill-color);\n",
              "    }\n",
              "    30% {\n",
              "      border-color: transparent;\n",
              "      border-left-color: var(--fill-color);\n",
              "      border-top-color: var(--fill-color);\n",
              "      border-right-color: var(--fill-color);\n",
              "    }\n",
              "    40% {\n",
              "      border-color: transparent;\n",
              "      border-right-color: var(--fill-color);\n",
              "      border-top-color: var(--fill-color);\n",
              "    }\n",
              "    60% {\n",
              "      border-color: transparent;\n",
              "      border-right-color: var(--fill-color);\n",
              "    }\n",
              "    80% {\n",
              "      border-color: transparent;\n",
              "      border-right-color: var(--fill-color);\n",
              "      border-bottom-color: var(--fill-color);\n",
              "    }\n",
              "    90% {\n",
              "      border-color: transparent;\n",
              "      border-bottom-color: var(--fill-color);\n",
              "    }\n",
              "  }\n",
              "</style>\n",
              "\n",
              "  <script>\n",
              "    async function quickchart(key) {\n",
              "      const quickchartButtonEl =\n",
              "        document.querySelector('#' + key + ' button');\n",
              "      quickchartButtonEl.disabled = true;  // To prevent multiple clicks.\n",
              "      quickchartButtonEl.classList.add('colab-df-spinner');\n",
              "      try {\n",
              "        const charts = await google.colab.kernel.invokeFunction(\n",
              "            'suggestCharts', [key], {});\n",
              "      } catch (error) {\n",
              "        console.error('Error during call to suggestCharts:', error);\n",
              "      }\n",
              "      quickchartButtonEl.classList.remove('colab-df-spinner');\n",
              "      quickchartButtonEl.classList.add('colab-df-quickchart-complete');\n",
              "    }\n",
              "    (() => {\n",
              "      let quickchartButtonEl =\n",
              "        document.querySelector('#df-847a3c7a-26dd-4720-b4a3-f242f6c38383 button');\n",
              "      quickchartButtonEl.style.display =\n",
              "        google.colab.kernel.accessAllowed ? 'block' : 'none';\n",
              "    })();\n",
              "  </script>\n",
              "</div>\n",
              "\n",
              "  <div id=\"id_abd7f107-0b7d-4b89-a9c4-e507ccf721b4\">\n",
              "    <style>\n",
              "      .colab-df-generate {\n",
              "        background-color: #E8F0FE;\n",
              "        border: none;\n",
              "        border-radius: 50%;\n",
              "        cursor: pointer;\n",
              "        display: none;\n",
              "        fill: #1967D2;\n",
              "        height: 32px;\n",
              "        padding: 0 0 0 0;\n",
              "        width: 32px;\n",
              "      }\n",
              "\n",
              "      .colab-df-generate:hover {\n",
              "        background-color: #E2EBFA;\n",
              "        box-shadow: 0px 1px 2px rgba(60, 64, 67, 0.3), 0px 1px 3px 1px rgba(60, 64, 67, 0.15);\n",
              "        fill: #174EA6;\n",
              "      }\n",
              "\n",
              "      [theme=dark] .colab-df-generate {\n",
              "        background-color: #3B4455;\n",
              "        fill: #D2E3FC;\n",
              "      }\n",
              "\n",
              "      [theme=dark] .colab-df-generate:hover {\n",
              "        background-color: #434B5C;\n",
              "        box-shadow: 0px 1px 3px 1px rgba(0, 0, 0, 0.15);\n",
              "        filter: drop-shadow(0px 1px 2px rgba(0, 0, 0, 0.3));\n",
              "        fill: #FFFFFF;\n",
              "      }\n",
              "    </style>\n",
              "    <button class=\"colab-df-generate\" onclick=\"generateWithVariable('df2')\"\n",
              "            title=\"Generate code using this dataframe.\"\n",
              "            style=\"display:none;\">\n",
              "\n",
              "  <svg xmlns=\"http://www.w3.org/2000/svg\" height=\"24px\"viewBox=\"0 0 24 24\"\n",
              "       width=\"24px\">\n",
              "    <path d=\"M7,19H8.4L18.45,9,17,7.55,7,17.6ZM5,21V16.75L18.45,3.32a2,2,0,0,1,2.83,0l1.4,1.43a1.91,1.91,0,0,1,.58,1.4,1.91,1.91,0,0,1-.58,1.4L9.25,21ZM18.45,9,17,7.55Zm-12,3A5.31,5.31,0,0,0,4.9,8.1,5.31,5.31,0,0,0,1,6.5,5.31,5.31,0,0,0,4.9,4.9,5.31,5.31,0,0,0,6.5,1,5.31,5.31,0,0,0,8.1,4.9,5.31,5.31,0,0,0,12,6.5,5.46,5.46,0,0,0,6.5,12Z\"/>\n",
              "  </svg>\n",
              "    </button>\n",
              "    <script>\n",
              "      (() => {\n",
              "      const buttonEl =\n",
              "        document.querySelector('#id_abd7f107-0b7d-4b89-a9c4-e507ccf721b4 button.colab-df-generate');\n",
              "      buttonEl.style.display =\n",
              "        google.colab.kernel.accessAllowed ? 'block' : 'none';\n",
              "\n",
              "      buttonEl.onclick = () => {\n",
              "        google.colab.notebook.generateWithVariable('df2');\n",
              "      }\n",
              "      })();\n",
              "    </script>\n",
              "  </div>\n",
              "\n",
              "    </div>\n",
              "  </div>\n"
            ],
            "application/vnd.google.colaboratory.intrinsic+json": {
              "type": "dataframe",
              "variable_name": "df2",
              "summary": "{\n  \"name\": \"df2\",\n  \"rows\": 5,\n  \"fields\": [\n    {\n      \"column\": \"Outcome\",\n      \"properties\": {\n        \"dtype\": \"number\",\n        \"std\": 0,\n        \"min\": 0,\n        \"max\": 1,\n        \"num_unique_values\": 2,\n        \"samples\": [\n          0,\n          1\n        ],\n        \"semantic_type\": \"\",\n        \"description\": \"\"\n      }\n    },\n    {\n      \"column\": \"Pregnancies\",\n      \"properties\": {\n        \"dtype\": \"number\",\n        \"std\": 3,\n        \"min\": 0,\n        \"max\": 8,\n        \"num_unique_values\": 4,\n        \"samples\": [\n          1,\n          0\n        ],\n        \"semantic_type\": \"\",\n        \"description\": \"\"\n      }\n    },\n    {\n      \"column\": \"Insulin\",\n      \"properties\": {\n        \"dtype\": \"number\",\n        \"std\": 76,\n        \"min\": 0,\n        \"max\": 168,\n        \"num_unique_values\": 3,\n        \"samples\": [\n          0,\n          94\n        ],\n        \"semantic_type\": \"\",\n        \"description\": \"\"\n      }\n    }\n  ]\n}"
            }
          },
          "metadata": {},
          "execution_count": 6
        }
      ],
      "source": [
        "df2=df[['Outcome','Pregnancies','Insulin']].head()\n",
        "df2"
      ]
    },
    {
      "cell_type": "code",
      "execution_count": 7,
      "metadata": {
        "_uuid": "ca2d41601ee1076a9fd7d1b6a7ed41a9be37a811",
        "id": "bPYJg9pfT0TG",
        "outputId": "09e5a176-8c07-4b34-fb25-a31da3a44cda",
        "colab": {
          "base_uri": "https://localhost:8080/",
          "height": 206
        }
      },
      "outputs": [
        {
          "output_type": "execute_result",
          "data": {
            "text/plain": [
              "   Age\n",
              "0   50\n",
              "1   31\n",
              "2   32\n",
              "3   21\n",
              "4   33"
            ],
            "text/html": [
              "\n",
              "  <div id=\"df-91c38958-b1da-4283-9ca6-4ee85ceaa507\" class=\"colab-df-container\">\n",
              "    <div>\n",
              "<style scoped>\n",
              "    .dataframe tbody tr th:only-of-type {\n",
              "        vertical-align: middle;\n",
              "    }\n",
              "\n",
              "    .dataframe tbody tr th {\n",
              "        vertical-align: top;\n",
              "    }\n",
              "\n",
              "    .dataframe thead th {\n",
              "        text-align: right;\n",
              "    }\n",
              "</style>\n",
              "<table border=\"1\" class=\"dataframe\">\n",
              "  <thead>\n",
              "    <tr style=\"text-align: right;\">\n",
              "      <th></th>\n",
              "      <th>Age</th>\n",
              "    </tr>\n",
              "  </thead>\n",
              "  <tbody>\n",
              "    <tr>\n",
              "      <th>0</th>\n",
              "      <td>50</td>\n",
              "    </tr>\n",
              "    <tr>\n",
              "      <th>1</th>\n",
              "      <td>31</td>\n",
              "    </tr>\n",
              "    <tr>\n",
              "      <th>2</th>\n",
              "      <td>32</td>\n",
              "    </tr>\n",
              "    <tr>\n",
              "      <th>3</th>\n",
              "      <td>21</td>\n",
              "    </tr>\n",
              "    <tr>\n",
              "      <th>4</th>\n",
              "      <td>33</td>\n",
              "    </tr>\n",
              "  </tbody>\n",
              "</table>\n",
              "</div>\n",
              "    <div class=\"colab-df-buttons\">\n",
              "\n",
              "  <div class=\"colab-df-container\">\n",
              "    <button class=\"colab-df-convert\" onclick=\"convertToInteractive('df-91c38958-b1da-4283-9ca6-4ee85ceaa507')\"\n",
              "            title=\"Convert this dataframe to an interactive table.\"\n",
              "            style=\"display:none;\">\n",
              "\n",
              "  <svg xmlns=\"http://www.w3.org/2000/svg\" height=\"24px\" viewBox=\"0 -960 960 960\">\n",
              "    <path d=\"M120-120v-720h720v720H120Zm60-500h600v-160H180v160Zm220 220h160v-160H400v160Zm0 220h160v-160H400v160ZM180-400h160v-160H180v160Zm440 0h160v-160H620v160ZM180-180h160v-160H180v160Zm440 0h160v-160H620v160Z\"/>\n",
              "  </svg>\n",
              "    </button>\n",
              "\n",
              "  <style>\n",
              "    .colab-df-container {\n",
              "      display:flex;\n",
              "      gap: 12px;\n",
              "    }\n",
              "\n",
              "    .colab-df-convert {\n",
              "      background-color: #E8F0FE;\n",
              "      border: none;\n",
              "      border-radius: 50%;\n",
              "      cursor: pointer;\n",
              "      display: none;\n",
              "      fill: #1967D2;\n",
              "      height: 32px;\n",
              "      padding: 0 0 0 0;\n",
              "      width: 32px;\n",
              "    }\n",
              "\n",
              "    .colab-df-convert:hover {\n",
              "      background-color: #E2EBFA;\n",
              "      box-shadow: 0px 1px 2px rgba(60, 64, 67, 0.3), 0px 1px 3px 1px rgba(60, 64, 67, 0.15);\n",
              "      fill: #174EA6;\n",
              "    }\n",
              "\n",
              "    .colab-df-buttons div {\n",
              "      margin-bottom: 4px;\n",
              "    }\n",
              "\n",
              "    [theme=dark] .colab-df-convert {\n",
              "      background-color: #3B4455;\n",
              "      fill: #D2E3FC;\n",
              "    }\n",
              "\n",
              "    [theme=dark] .colab-df-convert:hover {\n",
              "      background-color: #434B5C;\n",
              "      box-shadow: 0px 1px 3px 1px rgba(0, 0, 0, 0.15);\n",
              "      filter: drop-shadow(0px 1px 2px rgba(0, 0, 0, 0.3));\n",
              "      fill: #FFFFFF;\n",
              "    }\n",
              "  </style>\n",
              "\n",
              "    <script>\n",
              "      const buttonEl =\n",
              "        document.querySelector('#df-91c38958-b1da-4283-9ca6-4ee85ceaa507 button.colab-df-convert');\n",
              "      buttonEl.style.display =\n",
              "        google.colab.kernel.accessAllowed ? 'block' : 'none';\n",
              "\n",
              "      async function convertToInteractive(key) {\n",
              "        const element = document.querySelector('#df-91c38958-b1da-4283-9ca6-4ee85ceaa507');\n",
              "        const dataTable =\n",
              "          await google.colab.kernel.invokeFunction('convertToInteractive',\n",
              "                                                    [key], {});\n",
              "        if (!dataTable) return;\n",
              "\n",
              "        const docLinkHtml = 'Like what you see? Visit the ' +\n",
              "          '<a target=\"_blank\" href=https://colab.research.google.com/notebooks/data_table.ipynb>data table notebook</a>'\n",
              "          + ' to learn more about interactive tables.';\n",
              "        element.innerHTML = '';\n",
              "        dataTable['output_type'] = 'display_data';\n",
              "        await google.colab.output.renderOutput(dataTable, element);\n",
              "        const docLink = document.createElement('div');\n",
              "        docLink.innerHTML = docLinkHtml;\n",
              "        element.appendChild(docLink);\n",
              "      }\n",
              "    </script>\n",
              "  </div>\n",
              "\n",
              "\n",
              "<div id=\"df-f1212db0-d5f6-4818-b5f4-e7cab22bda5b\">\n",
              "  <button class=\"colab-df-quickchart\" onclick=\"quickchart('df-f1212db0-d5f6-4818-b5f4-e7cab22bda5b')\"\n",
              "            title=\"Suggest charts\"\n",
              "            style=\"display:none;\">\n",
              "\n",
              "<svg xmlns=\"http://www.w3.org/2000/svg\" height=\"24px\"viewBox=\"0 0 24 24\"\n",
              "     width=\"24px\">\n",
              "    <g>\n",
              "        <path d=\"M19 3H5c-1.1 0-2 .9-2 2v14c0 1.1.9 2 2 2h14c1.1 0 2-.9 2-2V5c0-1.1-.9-2-2-2zM9 17H7v-7h2v7zm4 0h-2V7h2v10zm4 0h-2v-4h2v4z\"/>\n",
              "    </g>\n",
              "</svg>\n",
              "  </button>\n",
              "\n",
              "<style>\n",
              "  .colab-df-quickchart {\n",
              "      --bg-color: #E8F0FE;\n",
              "      --fill-color: #1967D2;\n",
              "      --hover-bg-color: #E2EBFA;\n",
              "      --hover-fill-color: #174EA6;\n",
              "      --disabled-fill-color: #AAA;\n",
              "      --disabled-bg-color: #DDD;\n",
              "  }\n",
              "\n",
              "  [theme=dark] .colab-df-quickchart {\n",
              "      --bg-color: #3B4455;\n",
              "      --fill-color: #D2E3FC;\n",
              "      --hover-bg-color: #434B5C;\n",
              "      --hover-fill-color: #FFFFFF;\n",
              "      --disabled-bg-color: #3B4455;\n",
              "      --disabled-fill-color: #666;\n",
              "  }\n",
              "\n",
              "  .colab-df-quickchart {\n",
              "    background-color: var(--bg-color);\n",
              "    border: none;\n",
              "    border-radius: 50%;\n",
              "    cursor: pointer;\n",
              "    display: none;\n",
              "    fill: var(--fill-color);\n",
              "    height: 32px;\n",
              "    padding: 0;\n",
              "    width: 32px;\n",
              "  }\n",
              "\n",
              "  .colab-df-quickchart:hover {\n",
              "    background-color: var(--hover-bg-color);\n",
              "    box-shadow: 0 1px 2px rgba(60, 64, 67, 0.3), 0 1px 3px 1px rgba(60, 64, 67, 0.15);\n",
              "    fill: var(--button-hover-fill-color);\n",
              "  }\n",
              "\n",
              "  .colab-df-quickchart-complete:disabled,\n",
              "  .colab-df-quickchart-complete:disabled:hover {\n",
              "    background-color: var(--disabled-bg-color);\n",
              "    fill: var(--disabled-fill-color);\n",
              "    box-shadow: none;\n",
              "  }\n",
              "\n",
              "  .colab-df-spinner {\n",
              "    border: 2px solid var(--fill-color);\n",
              "    border-color: transparent;\n",
              "    border-bottom-color: var(--fill-color);\n",
              "    animation:\n",
              "      spin 1s steps(1) infinite;\n",
              "  }\n",
              "\n",
              "  @keyframes spin {\n",
              "    0% {\n",
              "      border-color: transparent;\n",
              "      border-bottom-color: var(--fill-color);\n",
              "      border-left-color: var(--fill-color);\n",
              "    }\n",
              "    20% {\n",
              "      border-color: transparent;\n",
              "      border-left-color: var(--fill-color);\n",
              "      border-top-color: var(--fill-color);\n",
              "    }\n",
              "    30% {\n",
              "      border-color: transparent;\n",
              "      border-left-color: var(--fill-color);\n",
              "      border-top-color: var(--fill-color);\n",
              "      border-right-color: var(--fill-color);\n",
              "    }\n",
              "    40% {\n",
              "      border-color: transparent;\n",
              "      border-right-color: var(--fill-color);\n",
              "      border-top-color: var(--fill-color);\n",
              "    }\n",
              "    60% {\n",
              "      border-color: transparent;\n",
              "      border-right-color: var(--fill-color);\n",
              "    }\n",
              "    80% {\n",
              "      border-color: transparent;\n",
              "      border-right-color: var(--fill-color);\n",
              "      border-bottom-color: var(--fill-color);\n",
              "    }\n",
              "    90% {\n",
              "      border-color: transparent;\n",
              "      border-bottom-color: var(--fill-color);\n",
              "    }\n",
              "  }\n",
              "</style>\n",
              "\n",
              "  <script>\n",
              "    async function quickchart(key) {\n",
              "      const quickchartButtonEl =\n",
              "        document.querySelector('#' + key + ' button');\n",
              "      quickchartButtonEl.disabled = true;  // To prevent multiple clicks.\n",
              "      quickchartButtonEl.classList.add('colab-df-spinner');\n",
              "      try {\n",
              "        const charts = await google.colab.kernel.invokeFunction(\n",
              "            'suggestCharts', [key], {});\n",
              "      } catch (error) {\n",
              "        console.error('Error during call to suggestCharts:', error);\n",
              "      }\n",
              "      quickchartButtonEl.classList.remove('colab-df-spinner');\n",
              "      quickchartButtonEl.classList.add('colab-df-quickchart-complete');\n",
              "    }\n",
              "    (() => {\n",
              "      let quickchartButtonEl =\n",
              "        document.querySelector('#df-f1212db0-d5f6-4818-b5f4-e7cab22bda5b button');\n",
              "      quickchartButtonEl.style.display =\n",
              "        google.colab.kernel.accessAllowed ? 'block' : 'none';\n",
              "    })();\n",
              "  </script>\n",
              "</div>\n",
              "\n",
              "  <div id=\"id_97f6606b-c454-456c-a40b-37fd5f197632\">\n",
              "    <style>\n",
              "      .colab-df-generate {\n",
              "        background-color: #E8F0FE;\n",
              "        border: none;\n",
              "        border-radius: 50%;\n",
              "        cursor: pointer;\n",
              "        display: none;\n",
              "        fill: #1967D2;\n",
              "        height: 32px;\n",
              "        padding: 0 0 0 0;\n",
              "        width: 32px;\n",
              "      }\n",
              "\n",
              "      .colab-df-generate:hover {\n",
              "        background-color: #E2EBFA;\n",
              "        box-shadow: 0px 1px 2px rgba(60, 64, 67, 0.3), 0px 1px 3px 1px rgba(60, 64, 67, 0.15);\n",
              "        fill: #174EA6;\n",
              "      }\n",
              "\n",
              "      [theme=dark] .colab-df-generate {\n",
              "        background-color: #3B4455;\n",
              "        fill: #D2E3FC;\n",
              "      }\n",
              "\n",
              "      [theme=dark] .colab-df-generate:hover {\n",
              "        background-color: #434B5C;\n",
              "        box-shadow: 0px 1px 3px 1px rgba(0, 0, 0, 0.15);\n",
              "        filter: drop-shadow(0px 1px 2px rgba(0, 0, 0, 0.3));\n",
              "        fill: #FFFFFF;\n",
              "      }\n",
              "    </style>\n",
              "    <button class=\"colab-df-generate\" onclick=\"generateWithVariable('df3')\"\n",
              "            title=\"Generate code using this dataframe.\"\n",
              "            style=\"display:none;\">\n",
              "\n",
              "  <svg xmlns=\"http://www.w3.org/2000/svg\" height=\"24px\"viewBox=\"0 0 24 24\"\n",
              "       width=\"24px\">\n",
              "    <path d=\"M7,19H8.4L18.45,9,17,7.55,7,17.6ZM5,21V16.75L18.45,3.32a2,2,0,0,1,2.83,0l1.4,1.43a1.91,1.91,0,0,1,.58,1.4,1.91,1.91,0,0,1-.58,1.4L9.25,21ZM18.45,9,17,7.55Zm-12,3A5.31,5.31,0,0,0,4.9,8.1,5.31,5.31,0,0,0,1,6.5,5.31,5.31,0,0,0,4.9,4.9,5.31,5.31,0,0,0,6.5,1,5.31,5.31,0,0,0,8.1,4.9,5.31,5.31,0,0,0,12,6.5,5.46,5.46,0,0,0,6.5,12Z\"/>\n",
              "  </svg>\n",
              "    </button>\n",
              "    <script>\n",
              "      (() => {\n",
              "      const buttonEl =\n",
              "        document.querySelector('#id_97f6606b-c454-456c-a40b-37fd5f197632 button.colab-df-generate');\n",
              "      buttonEl.style.display =\n",
              "        google.colab.kernel.accessAllowed ? 'block' : 'none';\n",
              "\n",
              "      buttonEl.onclick = () => {\n",
              "        google.colab.notebook.generateWithVariable('df3');\n",
              "      }\n",
              "      })();\n",
              "    </script>\n",
              "  </div>\n",
              "\n",
              "    </div>\n",
              "  </div>\n"
            ],
            "application/vnd.google.colaboratory.intrinsic+json": {
              "type": "dataframe",
              "variable_name": "df3",
              "summary": "{\n  \"name\": \"df3\",\n  \"rows\": 5,\n  \"fields\": [\n    {\n      \"column\": \"Age\",\n      \"properties\": {\n        \"dtype\": \"number\",\n        \"std\": 10,\n        \"min\": 21,\n        \"max\": 50,\n        \"num_unique_values\": 5,\n        \"samples\": [\n          31,\n          33,\n          32\n        ],\n        \"semantic_type\": \"\",\n        \"description\": \"\"\n      }\n    }\n  ]\n}"
            }
          },
          "metadata": {},
          "execution_count": 7
        }
      ],
      "source": [
        "df3=df[['Age']].head()\n",
        "df3"
      ]
    },
    {
      "cell_type": "markdown",
      "metadata": {
        "_cell_guid": "5fc9a3a6-94bf-47df-9faa-32811b041675",
        "_uuid": "7e854771be11f6e9eaa085ebada2e08c4f64c415",
        "id": "NF5pUSddT0TG"
      },
      "source": [
        "### Sélection des données qui satisfont une condition, et calcul de leur nombre.\n"
      ]
    },
    {
      "cell_type": "code",
      "execution_count": 8,
      "metadata": {
        "_cell_guid": "8a019cad-c2da-4e9b-ae42-f4d343627f86",
        "_uuid": "88bb67cf8ed32c5b87bd3a97b644201fa6e5e158",
        "id": "WYaoVwqsT0TH",
        "outputId": "1a8a87d7-639a-4ff9-c105-4e30e7416609",
        "colab": {
          "base_uri": "https://localhost:8080/"
        }
      },
      "outputs": [
        {
          "output_type": "stream",
          "name": "stdout",
          "text": [
            "(465, 9)\n",
            "The number of rows where BMI>30 =  465\n"
          ]
        }
      ],
      "source": [
        "# Le premier élément est le nombre de lignes, le second est celui de colonnes:\n",
        "print(df[df.BMI>30].shape)\n",
        "# le premier élément (nbr lignes) a pour indice 0, le second (nbr colonnes) 1.\n",
        "print('The number of rows where BMI>30 = ',df[df.BMI>30].shape[0])"
      ]
    },
    {
      "cell_type": "code",
      "execution_count": null,
      "metadata": {
        "_uuid": "18e8f12cffd92085a3220d890073f301b5d51bab",
        "id": "edRHJ16ZT0TH",
        "outputId": "71d64ca2-cc2c-460c-8568-9d4d69517157"
      },
      "outputs": [
        {
          "data": {
            "text/html": [
              "<div>\n",
              "<style scoped>\n",
              "    .dataframe tbody tr th:only-of-type {\n",
              "        vertical-align: middle;\n",
              "    }\n",
              "\n",
              "    .dataframe tbody tr th {\n",
              "        vertical-align: top;\n",
              "    }\n",
              "\n",
              "    .dataframe thead th {\n",
              "        text-align: right;\n",
              "    }\n",
              "</style>\n",
              "<table border=\"1\" class=\"dataframe\">\n",
              "  <thead>\n",
              "    <tr style=\"text-align: right;\">\n",
              "      <th></th>\n",
              "      <th>Pregnancies</th>\n",
              "      <th>Glucose</th>\n",
              "      <th>BloodPressure</th>\n",
              "      <th>SkinThickness</th>\n",
              "      <th>Insulin</th>\n",
              "      <th>BMI</th>\n",
              "      <th>DiabetesPedigreeFunction</th>\n",
              "      <th>Age</th>\n",
              "      <th>Outcome</th>\n",
              "    </tr>\n",
              "  </thead>\n",
              "  <tbody>\n",
              "    <tr>\n",
              "      <th>9</th>\n",
              "      <td>8</td>\n",
              "      <td>125</td>\n",
              "      <td>96</td>\n",
              "      <td>0</td>\n",
              "      <td>0</td>\n",
              "      <td>0.0</td>\n",
              "      <td>0.232</td>\n",
              "      <td>54</td>\n",
              "      <td>1</td>\n",
              "    </tr>\n",
              "    <tr>\n",
              "      <th>49</th>\n",
              "      <td>7</td>\n",
              "      <td>105</td>\n",
              "      <td>0</td>\n",
              "      <td>0</td>\n",
              "      <td>0</td>\n",
              "      <td>0.0</td>\n",
              "      <td>0.305</td>\n",
              "      <td>24</td>\n",
              "      <td>0</td>\n",
              "    </tr>\n",
              "    <tr>\n",
              "      <th>60</th>\n",
              "      <td>2</td>\n",
              "      <td>84</td>\n",
              "      <td>0</td>\n",
              "      <td>0</td>\n",
              "      <td>0</td>\n",
              "      <td>0.0</td>\n",
              "      <td>0.304</td>\n",
              "      <td>21</td>\n",
              "      <td>0</td>\n",
              "    </tr>\n",
              "    <tr>\n",
              "      <th>81</th>\n",
              "      <td>2</td>\n",
              "      <td>74</td>\n",
              "      <td>0</td>\n",
              "      <td>0</td>\n",
              "      <td>0</td>\n",
              "      <td>0.0</td>\n",
              "      <td>0.102</td>\n",
              "      <td>22</td>\n",
              "      <td>0</td>\n",
              "    </tr>\n",
              "    <tr>\n",
              "      <th>145</th>\n",
              "      <td>0</td>\n",
              "      <td>102</td>\n",
              "      <td>75</td>\n",
              "      <td>23</td>\n",
              "      <td>0</td>\n",
              "      <td>0.0</td>\n",
              "      <td>0.572</td>\n",
              "      <td>21</td>\n",
              "      <td>0</td>\n",
              "    </tr>\n",
              "  </tbody>\n",
              "</table>\n",
              "</div>"
            ],
            "text/plain": [
              "     Pregnancies  Glucose  BloodPressure  SkinThickness  Insulin  BMI  \\\n",
              "9              8      125             96              0        0  0.0   \n",
              "49             7      105              0              0        0  0.0   \n",
              "60             2       84              0              0        0  0.0   \n",
              "81             2       74              0              0        0  0.0   \n",
              "145            0      102             75             23        0  0.0   \n",
              "\n",
              "     DiabetesPedigreeFunction  Age  Outcome  \n",
              "9                       0.232   54        1  \n",
              "49                      0.305   24        0  \n",
              "60                      0.304   21        0  \n",
              "81                      0.102   22        0  \n",
              "145                     0.572   21        0  "
            ]
          },
          "execution_count": 6,
          "metadata": {},
          "output_type": "execute_result"
        }
      ],
      "source": [
        "# A nouveau les 5 premiers enregistrements\n",
        "df[df.BMI<10].head()"
      ]
    },
    {
      "cell_type": "code",
      "execution_count": null,
      "metadata": {
        "_uuid": "56d2a95284fa6cbb72f0e5628021ebd0d9e5a39a",
        "id": "zUyHQWqhT0TH",
        "outputId": "e33016bc-742e-4edb-bfcb-c9dc0e8788ec"
      },
      "outputs": [
        {
          "data": {
            "text/plain": [
              "0       True\n",
              "1      False\n",
              "2      False\n",
              "3      False\n",
              "4       True\n",
              "       ...  \n",
              "763     True\n",
              "764     True\n",
              "765    False\n",
              "766     True\n",
              "767     True\n",
              "Name: BMI, Length: 768, dtype: bool"
            ]
          },
          "execution_count": 7,
          "metadata": {},
          "output_type": "execute_result"
        }
      ],
      "source": [
        "# On peut observer le comportement par défaut avec cette commande :\n",
        "df.BMI>30"
      ]
    },
    {
      "cell_type": "markdown",
      "metadata": {
        "_cell_guid": "c17cece8-bb4c-4f20-aff3-788d78261caa",
        "_uuid": "ea9d748159e64456b1a46949e65bea43def8a919",
        "id": "MPeiJKePT0TH"
      },
      "source": [
        "## Exercice 1\n",
        "### Question 1.1\n",
        "1. Faire une sélection des données pour lesquelles le glucose est supérieur à 90, _puis en_\n",
        "1. Sélectionner uniquement les colonnes: Outcome, BMI, and Age, _puis en_\n",
        "1. Sélectionner uniquement les 8 premières lignes.\n",
        "\n",
        "<!-- df[df.Glucose>90][[\"Outcome\",\"BMI\",\"Age\"]].head(8) -->"
      ]
    },
    {
      "cell_type": "code",
      "execution_count": null,
      "metadata": {
        "_cell_guid": "9b17f63e-e806-4ea0-a87c-d81d95681f0b",
        "_uuid": "bffcf6d351e2f701f93fcd86f77fc9b705a67980",
        "id": "SfozW8DHT0TH"
      },
      "outputs": [],
      "source": []
    },
    {
      "cell_type": "markdown",
      "metadata": {
        "_uuid": "ef17436e6f2f93323eb4cb3a31d0c6ff67c5192c",
        "id": "OWpXLqTUT0TH"
      },
      "source": [
        "### Question 1.2\n",
        "1. Faire une sélection des enregistrements où le glucose est entre 90 et 130, _puis en_\n",
        "1. Sélectionner uniquement les colonnes: Outcome, BMI, and Age, _puis en_\n",
        "1. Sélectionner uniquement les 6 premières lignes.\n",
        "\n",
        "<!-- df[(df.Glucose>90)&(df.Glucose<130)][[\"Outcome\",\"BMI\",\"Age\"]].head(6) -->"
      ]
    },
    {
      "cell_type": "code",
      "execution_count": null,
      "metadata": {
        "_uuid": "f4782d04ae70a960def69f99d99d7e216653cfc1",
        "id": "V8FbF8yET0TH"
      },
      "outputs": [],
      "source": [
        "# Votre code ici"
      ]
    },
    {
      "cell_type": "markdown",
      "metadata": {
        "_cell_guid": "403a958d-9a9f-4508-8e1d-e6008287359b",
        "_uuid": "039262a85dc5980f97b36d9062e94b4c9475d070",
        "id": "h89psYjeT0TH"
      },
      "source": [
        "### Question 1.3\n",
        "1. Sélectionner les données qui ont Outcome = 1 et Pregnancies>0, _puis_\n",
        "1. Se restreindre aux seules colonnes Glucose et BloodPressure, _puis_\n",
        "1. Se restreindre aux 3 premieres lignes du dataframe résultant.\n",
        "<!--\n",
        "df[ (df.Outcome==1) & (df.Pregnancies>0) ] [ [\"Glucose\",\"BloodPressure\"] ] . head(3)\n",
        "-->"
      ]
    },
    {
      "cell_type": "code",
      "execution_count": null,
      "metadata": {
        "_cell_guid": "e0f91c00-948a-41f0-93fc-8c99b224d25d",
        "_uuid": "2e014e268bf96ba548516b4b54bce9efbb4a2263",
        "id": "Ogbb9nDET0TH"
      },
      "outputs": [],
      "source": []
    },
    {
      "cell_type": "markdown",
      "metadata": {
        "_cell_guid": "72cca19f-d904-4a9e-8234-494097780b5d",
        "_uuid": "70c7586a9a1c1a5f17485814756d73f02d9810ef",
        "id": "cqZud8NaT0TH"
      },
      "source": [
        "### Question 1.4\n",
        "\n",
        "Dans ce jeux de données, combien de personnes présentant un diabète ont une tension artérielle supérieur à 70 ?\n",
        "<!--\n",
        "  df[ (df.Outcome==1) & (df.BloodPressure>70)] . count()\n",
        "-->"
      ]
    },
    {
      "cell_type": "code",
      "execution_count": null,
      "metadata": {
        "_cell_guid": "013cfdb0-6c45-40d2-9e4e-adca8b708059",
        "_uuid": "27c661ecfd8916e3828e49e8bc6467f5cb467bc8",
        "id": "3GZEUmoGT0TH"
      },
      "outputs": [],
      "source": [
        "# Votre code ici\n"
      ]
    },
    {
      "cell_type": "markdown",
      "metadata": {
        "_cell_guid": "77cc6ac1-6ac0-4888-a726-6d5566cefe21",
        "_uuid": "bbce1a0cf2284344da3822edbad555d95a5cb7d7",
        "id": "2drdedJIT0TH"
      },
      "source": [
        "### Savoir si notre jeux de données possède des champs vides (non renseignés) ?"
      ]
    },
    {
      "cell_type": "code",
      "execution_count": null,
      "metadata": {
        "_cell_guid": "05090970-2e64-4cef-b9c9-624be8565c1f",
        "_uuid": "661a5978d2e0ae4e569bf27e8c8ba2464825522c",
        "id": "RJeIO26uT0TH",
        "outputId": "c5ec3673-2102-4162-b773-9aaece9f3a0b"
      },
      "outputs": [
        {
          "data": {
            "text/plain": [
              "Pregnancies                 0\n",
              "Glucose                     0\n",
              "BloodPressure               0\n",
              "SkinThickness               0\n",
              "Insulin                     0\n",
              "BMI                         0\n",
              "DiabetesPedigreeFunction    0\n",
              "Age                         0\n",
              "Outcome                     0\n",
              "dtype: int64"
            ]
          },
          "execution_count": 10,
          "metadata": {},
          "output_type": "execute_result"
        }
      ],
      "source": [
        "# Nombre de cellules nulles (non renseignées) par colonnes\n",
        "df.isnull().sum()"
      ]
    },
    {
      "cell_type": "code",
      "execution_count": null,
      "metadata": {
        "_uuid": "aca5bb6753c2be58712f073be8f208d9ab06ff3c",
        "id": "pxqwNVInT0TI",
        "outputId": "f4760587-83fd-43c0-af13-6681d113ee0a"
      },
      "outputs": [
        {
          "data": {
            "text/plain": [
              "Pregnancies                 768\n",
              "Glucose                     768\n",
              "BloodPressure               768\n",
              "SkinThickness               768\n",
              "Insulin                     768\n",
              "BMI                         768\n",
              "DiabetesPedigreeFunction    768\n",
              "Age                         768\n",
              "Outcome                     768\n",
              "dtype: int64"
            ]
          },
          "execution_count": 11,
          "metadata": {},
          "output_type": "execute_result"
        }
      ],
      "source": [
        "# Nombre de cellules non nulles (donc renseignées) par colonnes\n",
        "df.notnull().sum()"
      ]
    },
    {
      "cell_type": "markdown",
      "metadata": {
        "_cell_guid": "d6a9ac39-07b2-46ac-8dcc-b2f82570c76b",
        "_uuid": "d63f6b8a3d0e66747242ed21353dd1a8b5717182",
        "id": "mbQmm_UtT0TI"
      },
      "source": [
        "### Afficher la liste des colonnes"
      ]
    },
    {
      "cell_type": "code",
      "execution_count": null,
      "metadata": {
        "_cell_guid": "cfbb4659-731c-4708-aa71-698612092749",
        "_uuid": "a2e31ea0dbc72ca923bdbd62f07ea0e2c945ec4b",
        "id": "3kE4hWKmT0TI",
        "outputId": "dbc4b418-168b-440b-8d23-23fa5d5a4ecc"
      },
      "outputs": [
        {
          "data": {
            "text/plain": [
              "Index(['Pregnancies', 'Glucose', 'BloodPressure', 'SkinThickness', 'Insulin',\n",
              "       'BMI', 'DiabetesPedigreeFunction', 'Age', 'Outcome'],\n",
              "      dtype='object')"
            ]
          },
          "execution_count": 12,
          "metadata": {},
          "output_type": "execute_result"
        }
      ],
      "source": [
        "df.columns"
      ]
    },
    {
      "cell_type": "markdown",
      "metadata": {
        "_cell_guid": "9fce5963-934d-4e65-8be5-0b89437c6ccd",
        "_uuid": "c081853ff061d52fcc7d433e0d4e1651393b206a",
        "id": "Vt-sEiyIT0TI"
      },
      "source": [
        "### Afficher le type de données des colonnes"
      ]
    },
    {
      "cell_type": "code",
      "execution_count": null,
      "metadata": {
        "_cell_guid": "c33b7896-03e5-465a-a4bf-c608383b2356",
        "_uuid": "ffb21509b5494b35d0099259279b6355cbc2847c",
        "id": "Dt5Q9DQoT0TI",
        "outputId": "f0272cf7-4f65-4b98-f6ca-a7cfebf452a7"
      },
      "outputs": [
        {
          "data": {
            "text/plain": [
              "Pregnancies                   int64\n",
              "Glucose                       int64\n",
              "BloodPressure                 int64\n",
              "SkinThickness                 int64\n",
              "Insulin                       int64\n",
              "BMI                         float64\n",
              "DiabetesPedigreeFunction    float64\n",
              "Age                           int64\n",
              "Outcome                       int64\n",
              "dtype: object"
            ]
          },
          "execution_count": 13,
          "metadata": {},
          "output_type": "execute_result"
        }
      ],
      "source": [
        "df.dtypes"
      ]
    },
    {
      "cell_type": "markdown",
      "metadata": {
        "_cell_guid": "5c1863f1-1f91-4e55-b8e9-d57511aa6baf",
        "_uuid": "f0996bbcfd6c9aec73732db10f46b9f372129ca0",
        "id": "vP-DbInDT0TI"
      },
      "source": [
        "### Avoir un résumé statistique de notre Dataframe"
      ]
    },
    {
      "cell_type": "code",
      "execution_count": null,
      "metadata": {
        "_cell_guid": "296b4930-4e59-444d-bf0a-fb35a5f2297e",
        "_uuid": "33014b6da3b7f11f134a1131b7471b8e6327a28d",
        "id": "mKC1UtdRT0TI",
        "outputId": "98f8d70d-53ed-4719-dc7b-adf5b1133002"
      },
      "outputs": [
        {
          "data": {
            "text/html": [
              "<div>\n",
              "<style scoped>\n",
              "    .dataframe tbody tr th:only-of-type {\n",
              "        vertical-align: middle;\n",
              "    }\n",
              "\n",
              "    .dataframe tbody tr th {\n",
              "        vertical-align: top;\n",
              "    }\n",
              "\n",
              "    .dataframe thead th {\n",
              "        text-align: right;\n",
              "    }\n",
              "</style>\n",
              "<table border=\"1\" class=\"dataframe\">\n",
              "  <thead>\n",
              "    <tr style=\"text-align: right;\">\n",
              "      <th></th>\n",
              "      <th>Pregnancies</th>\n",
              "      <th>Glucose</th>\n",
              "      <th>BloodPressure</th>\n",
              "      <th>SkinThickness</th>\n",
              "      <th>Insulin</th>\n",
              "      <th>BMI</th>\n",
              "      <th>DiabetesPedigreeFunction</th>\n",
              "      <th>Age</th>\n",
              "      <th>Outcome</th>\n",
              "    </tr>\n",
              "  </thead>\n",
              "  <tbody>\n",
              "    <tr>\n",
              "      <th>count</th>\n",
              "      <td>768.000000</td>\n",
              "      <td>768.000000</td>\n",
              "      <td>768.000000</td>\n",
              "      <td>768.000000</td>\n",
              "      <td>768.000000</td>\n",
              "      <td>768.000000</td>\n",
              "      <td>768.000000</td>\n",
              "      <td>768.000000</td>\n",
              "      <td>768.000000</td>\n",
              "    </tr>\n",
              "    <tr>\n",
              "      <th>mean</th>\n",
              "      <td>3.845052</td>\n",
              "      <td>120.894531</td>\n",
              "      <td>69.105469</td>\n",
              "      <td>20.536458</td>\n",
              "      <td>79.799479</td>\n",
              "      <td>31.992578</td>\n",
              "      <td>0.471876</td>\n",
              "      <td>33.240885</td>\n",
              "      <td>0.348958</td>\n",
              "    </tr>\n",
              "    <tr>\n",
              "      <th>std</th>\n",
              "      <td>3.369578</td>\n",
              "      <td>31.972618</td>\n",
              "      <td>19.355807</td>\n",
              "      <td>15.952218</td>\n",
              "      <td>115.244002</td>\n",
              "      <td>7.884160</td>\n",
              "      <td>0.331329</td>\n",
              "      <td>11.760232</td>\n",
              "      <td>0.476951</td>\n",
              "    </tr>\n",
              "    <tr>\n",
              "      <th>min</th>\n",
              "      <td>0.000000</td>\n",
              "      <td>0.000000</td>\n",
              "      <td>0.000000</td>\n",
              "      <td>0.000000</td>\n",
              "      <td>0.000000</td>\n",
              "      <td>0.000000</td>\n",
              "      <td>0.078000</td>\n",
              "      <td>21.000000</td>\n",
              "      <td>0.000000</td>\n",
              "    </tr>\n",
              "    <tr>\n",
              "      <th>25%</th>\n",
              "      <td>1.000000</td>\n",
              "      <td>99.000000</td>\n",
              "      <td>62.000000</td>\n",
              "      <td>0.000000</td>\n",
              "      <td>0.000000</td>\n",
              "      <td>27.300000</td>\n",
              "      <td>0.243750</td>\n",
              "      <td>24.000000</td>\n",
              "      <td>0.000000</td>\n",
              "    </tr>\n",
              "    <tr>\n",
              "      <th>50%</th>\n",
              "      <td>3.000000</td>\n",
              "      <td>117.000000</td>\n",
              "      <td>72.000000</td>\n",
              "      <td>23.000000</td>\n",
              "      <td>30.500000</td>\n",
              "      <td>32.000000</td>\n",
              "      <td>0.372500</td>\n",
              "      <td>29.000000</td>\n",
              "      <td>0.000000</td>\n",
              "    </tr>\n",
              "    <tr>\n",
              "      <th>75%</th>\n",
              "      <td>6.000000</td>\n",
              "      <td>140.250000</td>\n",
              "      <td>80.000000</td>\n",
              "      <td>32.000000</td>\n",
              "      <td>127.250000</td>\n",
              "      <td>36.600000</td>\n",
              "      <td>0.626250</td>\n",
              "      <td>41.000000</td>\n",
              "      <td>1.000000</td>\n",
              "    </tr>\n",
              "    <tr>\n",
              "      <th>max</th>\n",
              "      <td>17.000000</td>\n",
              "      <td>199.000000</td>\n",
              "      <td>122.000000</td>\n",
              "      <td>99.000000</td>\n",
              "      <td>846.000000</td>\n",
              "      <td>67.100000</td>\n",
              "      <td>2.420000</td>\n",
              "      <td>81.000000</td>\n",
              "      <td>1.000000</td>\n",
              "    </tr>\n",
              "  </tbody>\n",
              "</table>\n",
              "</div>"
            ],
            "text/plain": [
              "       Pregnancies     Glucose  BloodPressure  SkinThickness     Insulin  \\\n",
              "count   768.000000  768.000000     768.000000     768.000000  768.000000   \n",
              "mean      3.845052  120.894531      69.105469      20.536458   79.799479   \n",
              "std       3.369578   31.972618      19.355807      15.952218  115.244002   \n",
              "min       0.000000    0.000000       0.000000       0.000000    0.000000   \n",
              "25%       1.000000   99.000000      62.000000       0.000000    0.000000   \n",
              "50%       3.000000  117.000000      72.000000      23.000000   30.500000   \n",
              "75%       6.000000  140.250000      80.000000      32.000000  127.250000   \n",
              "max      17.000000  199.000000     122.000000      99.000000  846.000000   \n",
              "\n",
              "              BMI  DiabetesPedigreeFunction         Age     Outcome  \n",
              "count  768.000000                768.000000  768.000000  768.000000  \n",
              "mean    31.992578                  0.471876   33.240885    0.348958  \n",
              "std      7.884160                  0.331329   11.760232    0.476951  \n",
              "min      0.000000                  0.078000   21.000000    0.000000  \n",
              "25%     27.300000                  0.243750   24.000000    0.000000  \n",
              "50%     32.000000                  0.372500   29.000000    0.000000  \n",
              "75%     36.600000                  0.626250   41.000000    1.000000  \n",
              "max     67.100000                  2.420000   81.000000    1.000000  "
            ]
          },
          "execution_count": 14,
          "metadata": {},
          "output_type": "execute_result"
        }
      ],
      "source": [
        "df.describe()"
      ]
    },
    {
      "cell_type": "markdown",
      "metadata": {
        "_cell_guid": "cf2e4537-a930-4f81-88d1-a8930a8b4cf1",
        "_uuid": "176e73769a5a9945b84cab3bde24657df5dd0ff0",
        "id": "g6IGh26JT0TI"
      },
      "source": [
        "Notez que le \"nombre\" de valeurs pour chaque colonne est le même que le nombre de lignes dans le bloc de données. Cela signifie qu'il n'y a pas de valeurs manquantes (NULL)."
      ]
    },
    {
      "cell_type": "markdown",
      "metadata": {
        "_cell_guid": "551975a1-14a8-46b0-89c7-82bc7d9b9d9c",
        "_uuid": "193e7f53c1b73c5133f014e11799f75a5372f019",
        "id": "2Dkppp9VT0TI"
      },
      "source": [
        "### Combien y a-t-il de diagnostics ?"
      ]
    },
    {
      "cell_type": "code",
      "execution_count": null,
      "metadata": {
        "_cell_guid": "0d41f17e-568f-46b6-93ea-753d0ebdcfb1",
        "_uuid": "0c1a82ecc0106e1097d491dfd3d732210b26c2d6",
        "id": "BRd-MBiST0TI",
        "outputId": "3e2a0ab4-e742-4a22-b605-fc135a4f2259"
      },
      "outputs": [
        {
          "data": {
            "text/plain": [
              "0    500\n",
              "1    268\n",
              "Name: Outcome, dtype: int64"
            ]
          },
          "execution_count": 15,
          "metadata": {},
          "output_type": "execute_result"
        }
      ],
      "source": [
        "df.Outcome.value_counts()\n",
        "#df.Insulin.value_counts()"
      ]
    },
    {
      "cell_type": "markdown",
      "metadata": {
        "_uuid": "4e78bfd7544833d61203ca1e3fd08ed8c9b39579",
        "id": "xc7r3tcQT0TI"
      },
      "source": [
        "### Quelle est la moyenne de l'épaisseur de la peau des patientes dont le diagnostic est le diabète  ?"
      ]
    },
    {
      "cell_type": "code",
      "execution_count": null,
      "metadata": {
        "_cell_guid": "1e620f57-d59e-480a-8b33-bddb13c49f67",
        "_uuid": "1590ed1b22aa690db1d857f8067b9f045ac7e525",
        "id": "9HGe3BqwT0TI",
        "outputId": "7a67ea57-3144-4fcf-f321-e4312bc33c67"
      },
      "outputs": [
        {
          "data": {
            "text/plain": [
              "22.16417910447761"
            ]
          },
          "execution_count": 16,
          "metadata": {},
          "output_type": "execute_result"
        }
      ],
      "source": [
        "# Il y a plein de manière d'écrire cette commande\n",
        "df[df.Outcome==1].SkinThickness.mean()"
      ]
    },
    {
      "cell_type": "code",
      "execution_count": null,
      "metadata": {
        "_uuid": "73422b9310f23b703ec467a5bbaf610dc36b6e35",
        "id": "v7kZI0SJT0TI",
        "outputId": "7bfef205-0461-4c61-95c2-3f0cf564e46d"
      },
      "outputs": [
        {
          "data": {
            "text/plain": [
              "22.16417910447761"
            ]
          },
          "execution_count": 17,
          "metadata": {},
          "output_type": "execute_result"
        }
      ],
      "source": [
        "# Ou\n",
        "df[df[\"Outcome\"]==1].SkinThickness.mean()"
      ]
    },
    {
      "cell_type": "code",
      "execution_count": null,
      "metadata": {
        "_uuid": "b6b6dcb97a9d24401c959b8799a80fa74af5f9f6",
        "id": "XyISz0WBT0TJ",
        "outputId": "85ebf779-51a8-4605-e433-6a5a8efeb078"
      },
      "outputs": [
        {
          "data": {
            "text/plain": [
              "22.16417910447761"
            ]
          },
          "execution_count": 18,
          "metadata": {},
          "output_type": "execute_result"
        }
      ],
      "source": [
        "# Ou encore...\n",
        "df[df[\"Outcome\"]==1][\"SkinThickness\"].mean()"
      ]
    },
    {
      "cell_type": "markdown",
      "metadata": {
        "_cell_guid": "e55f905e-cf5c-4d6a-95b4-c7c220f44271",
        "_uuid": "a60e9a25c97e972982a8366e1d88f085c3633bb5",
        "id": "40oDg0s5T0TJ"
      },
      "source": [
        "### Question 1.5\n",
        "Quel est le maximum du \"_BMI_\" lorsque la patiente n'est pas atteinte par le diabète ?\n",
        "<!-- df[df[\"Outcome\"]==0].BMI.max() -->"
      ]
    },
    {
      "cell_type": "code",
      "execution_count": null,
      "metadata": {
        "_uuid": "627faff81d96fce89ff297bf7648633bfaa25016",
        "id": "OVuW0gkOT0TO"
      },
      "outputs": [],
      "source": []
    },
    {
      "cell_type": "markdown",
      "metadata": {
        "_cell_guid": "e1736e25-67de-46fb-acf4-ac90041939ef",
        "_uuid": "25d01df8d668126cdd4d30f6598e75afb0ab0793",
        "id": "74uDysbDT0TO"
      },
      "source": [
        "## Étape  2 : Visualisation des données\n",
        "\n",
        "La visualisation des données est une étape très importante dans l'analyse des données.  \n",
        "_NB : Consultez ce lien pour la documentation de Matplot Scatter:   https://matplotlib.org/gallery/index.html_"
      ]
    },
    {
      "cell_type": "code",
      "execution_count": null,
      "metadata": {
        "_cell_guid": "331cee73-eb41-453f-b388-b8c5e94176bb",
        "_uuid": "a7e787e63fe6ba2f85d2e9a0b193b534ad83f549",
        "id": "ro3nbKv1T0TO"
      },
      "outputs": [],
      "source": [
        "# get a plotting library\n",
        "import matplotlib.pyplot as plt\n",
        "# make it interactive in the notebook (Only needed for that librairy)\n",
        "%matplotlib inline"
      ]
    },
    {
      "cell_type": "markdown",
      "metadata": {
        "_uuid": "bda30a79bc4f3afc3657ae8cab9a186268a97d85",
        "id": "B-N7TBA2T0TO"
      },
      "source": [
        "Première analyse visuelle par des  diagrammes de dispersion (scatter plot)"
      ]
    },
    {
      "cell_type": "code",
      "execution_count": null,
      "metadata": {
        "_cell_guid": "21d9d3b2-2a41-42ab-97bd-f252b57f561c",
        "_uuid": "647a3928cae82c66439a93077b7840d94e3a4017",
        "id": "i3CHnpt1T0TO",
        "outputId": "f686b53e-0cd0-4b12-bc78-28b1d07f8202"
      },
      "outputs": [
        {
          "data": {
            "text/plain": [
              "Text(0, 0.5, 'Glucose')"
            ]
          },
          "execution_count": 17,
          "metadata": {},
          "output_type": "execute_result"
        },
        {
          "data": {
            "image/png": "[encoded data removed]",
            "text/plain": [
              "<Figure size 432x288 with 1 Axes>"
            ]
          },
          "metadata": {
            "needs_background": "light"
          },
          "output_type": "display_data"
        }
      ],
      "source": [
        "# plot Glucose vs BloodPressure and color points according to Outcome\n",
        "plt.figure()\n",
        "plt.scatter(df[df.Outcome==1].BloodPressure,df[df.Outcome==1].Glucose,label='Diabete',color='r', marker=\"o\",s=5)\n",
        "plt.scatter(df[df.Outcome==0].BloodPressure,df[df.Outcome==0].Glucose,label='No Diabete',color='b',marker=\"x\",s=5)\n",
        "plt.legend()\n",
        "plt.xlabel('BloodPressure')\n",
        "plt.ylabel('Glucose')"
      ]
    },
    {
      "cell_type": "markdown",
      "metadata": {
        "_cell_guid": "fead5f6b-0e7b-4833-895e-3b7ac6ee32ef",
        "_uuid": "93961d8086e694b267f956aeaa54710f8f64525d",
        "id": "kQkh080WT0TO"
      },
      "source": [
        "Remarquez qu'on peut constater que plus le taux de glucose est élevé, plus l'enregistrement est associé à un diabète (résultat = 1, points rouges), tandis que plus il est bas, et plus il est associé à l'absence du diabète (résultat = 0, points bleus).\n",
        "\n",
        "Notez également qu'il y a un ensemble de points de valeur 0 pour _Glucose_ et un autre de valeur 0 pour _BloodPressure._ Cela n'a pas de sens physiologiquement (les patientes seraient mortes). Il semble dont que ces données ont été remplies avec 0 alors que la valeur aurait dû être _NULL_.  \n",
        "Vérifions combien de zéros apparaissent dans chaque colonne."
      ]
    },
    {
      "cell_type": "code",
      "execution_count": null,
      "metadata": {
        "_cell_guid": "20a93ecf-0d7f-44ff-8efb-ad5147edf80c",
        "_uuid": "519ebca3e20efff0a0849d63fea09f30d28345c5",
        "id": "cn9jCaUlT0TO",
        "outputId": "83214947-a8e6-48d0-c23d-d6684a7b31c2"
      },
      "outputs": [
        {
          "name": "stdout",
          "output_type": "stream",
          "text": [
            "24\n",
            "111 zero values\n",
            "5 zero values\n",
            "35 zero values\n",
            "227 zero values\n",
            "374 zero values\n",
            "11 zero values\n",
            "0 zero values\n",
            "0 zero values\n",
            "500 zero values\n"
          ]
        }
      ],
      "source": [
        "# Récupération du plus long nom de colonne\n",
        "dimension = max( [ len(c) for c in df.columns ] )\n",
        "print(dimension)\n",
        "\n",
        "\n",
        "# Pour chacune des colonnes\n",
        "for c in df.columns:\n",
        "    print(\n",
        "        df[df[c]==0][c].count(),'zero values'\n",
        "        )\n",
        "\n"
      ]
    },
    {
      "cell_type": "markdown",
      "metadata": {
        "_cell_guid": "2f2846db-cb07-4bed-b671-e440e0758bba",
        "_uuid": "8132d76d6cd8fcb4c8fc04ab610fece35cde5e80",
        "id": "EbHIFxfRT0TO"
      },
      "source": [
        "Pour certaines de ces colonnes, 0 a un sens, comme pour le nombre de grossesses (_Pregnancies_) ou  le résultat (_Outcome_). Mais pour d'autres colonnes, comme _BloodPressure_ ou _BMI_, zéro n'a absolument aucun sens.  \n",
        "Examinons de plus près les données en dessinant un histogramme des valeurs pour chaque colonne."
      ]
    },
    {
      "cell_type": "code",
      "execution_count": null,
      "metadata": {
        "_cell_guid": "8f24890d-d9d3-4462-8168-ab49c8af32f7",
        "_uuid": "ffd4b37712db39342a59fbb4d41c28a8ee2f62a2",
        "id": "dRIp_j4IT0TO",
        "outputId": "d09c5cb1-6177-4cc4-bc0c-42cce447e665"
      },
      "outputs": [
        {
          "data": {
            "image/png": "[encoded data removed]",
            "text/plain": [
              "<Figure size 432x288 with 1 Axes>"
            ]
          },
          "metadata": {
            "needs_background": "light"
          },
          "output_type": "display_data"
        },
        {
          "data": {
            "image/png": "[encoded data removed]",
            "text/plain": [
              "<Figure size 432x288 with 1 Axes>"
            ]
          },
          "metadata": {
            "needs_background": "light"
          },
          "output_type": "display_data"
        },
        {
          "data": {
            "image/png": "[encoded data removed]",
            "text/plain": [
              "<Figure size 432x288 with 1 Axes>"
            ]
          },
          "metadata": {
            "needs_background": "light"
          },
          "output_type": "display_data"
        },
        {
          "data": {
            "image/png": "[encoded data removed]",
            "text/plain": [
              "<Figure size 432x288 with 1 Axes>"
            ]
          },
          "metadata": {
            "needs_background": "light"
          },
          "output_type": "display_data"
        },
        {
          "data": {
            "image/png": "[encoded data removed]",
            "text/plain": [
              "<Figure size 432x288 with 1 Axes>"
            ]
          },
          "metadata": {
            "needs_background": "light"
          },
          "output_type": "display_data"
        },
        {
          "data": {
            "image/png": "[encoded data removed]",
            "text/plain": [
              "<Figure size 432x288 with 1 Axes>"
            ]
          },
          "metadata": {
            "needs_background": "light"
          },
          "output_type": "display_data"
        },
        {
          "data": {
            "image/png": "[encoded data removed]",
            "text/plain": [
              "<Figure size 432x288 with 1 Axes>"
            ]
          },
          "metadata": {
            "needs_background": "light"
          },
          "output_type": "display_data"
        },
        {
          "data": {
            "image/png": "[encoded data removed]",
            "text/plain": [
              "<Figure size 432x288 with 1 Axes>"
            ]
          },
          "metadata": {
            "needs_background": "light"
          },
          "output_type": "display_data"
        },
        {
          "data": {
            "image/png": "[encoded data removed]",
            "text/plain": [
              "<Figure size 432x288 with 1 Axes>"
            ]
          },
          "metadata": {
            "needs_background": "light"
          },
          "output_type": "display_data"
        }
      ],
      "source": [
        "# Pour chacun des attributs\n",
        "for c in df.columns:\n",
        "    plt.figure()               # On construit un nouveau dessin\n",
        "    plt.hist(df[c],bins=15)    # On regroupe les valeurs de la colonne 'c' par plage de largeur 15\n",
        "    plt.xlabel(c)              # On donne le nom de l'attribut pour l'abscisse\n",
        "    plt.ylabel('Fréquence')    # On nomme l'axe des ordonnées \"Fréquence\"\n",
        "    plt.show()                 # On demande l'affichage"
      ]
    },
    {
      "cell_type": "markdown",
      "metadata": {
        "_cell_guid": "745faf2f-0716-44d2-9dfe-dceaaae1e01f",
        "_uuid": "e75612ee2a546a04c6205ea89aa08120146ea693",
        "id": "O5OLg3SeT0TO"
      },
      "source": [
        "À partir de ces histogrammes, il semble que bon nombre de valeurs à 0 sont en effet des données dont la valeur manquait et qui auraient dû être étiquetées NULL. Elles devront être prises en compte avant que nous formions un modèle pour classer les données.\n",
        "\n",
        "De plus, nous pouvons remarquer que la colonne _Insuline_ n'a que 374 valeurs renseignées (sur un total de 768 lignes), soit presque 50% des valeurs sont des 0.\n",
        "\n",
        "Dans l'étape 3 où nous traiterons les cas d'inconsistance des données, nous supprimerons la colonne d'insuline, car beaucoup de ses valeurs sont manquantes.  Ensuite, nous remplacerons les zéros dans les colonnes où zéro n'a pas de sens. Nous ferons le choix d'utiliser la moyenne des valeurs non nulles dans chaque colonne pour remplacer ces valeurs nulles.\n",
        "\n",
        "_NB : il ne faudra pas oublier lors de l'analyse finale des résultats de vérifier que ces hypothèses sont pertinentes (valides) sous peine d'avoir introduit des biais ou des erreurs importantes. Une connaissance experte du domaine est alors très souvent nécessaire._\n"
      ]
    },
    {
      "cell_type": "markdown",
      "metadata": {
        "_cell_guid": "faced6ae-b534-489f-b480-d18bbc08aa32",
        "_uuid": "b95266104aee37803afc7c4cc285c59e98668b2a",
        "id": "twzALaHFT0TO"
      },
      "source": [
        "### EXERCICE 2 :\n",
        "\n",
        "En vous appuyant sur les 2 exemples de code ci-dessous, inspecter chacune des caractéristiques. Vous recherchez en particulier une caractéristique dont un seuil permettrait de scinder efficacement l'ensemble de enregistrements en 'Diabète' et 'Non diabète'.\n",
        "\n",
        "#### Visualisation des nuages de points/graphes de dispersion."
      ]
    },
    {
      "cell_type": "code",
      "execution_count": null,
      "metadata": {
        "_cell_guid": "af973b17-9114-4ab0-a0d6-35c1adfbdfa4",
        "_uuid": "89876f8e29d81b09b9a15d2601d7d48d643e4b68",
        "id": "bOLoksFeT0TP",
        "outputId": "f9a54e8b-a5be-4e98-f2a3-6e517dc07adf"
      },
      "outputs": [
        {
          "data": {
            "image/png": "[encoded data removed]",
            "text/plain": [
              "<Figure size 432x288 with 1 Axes>"
            ]
          },
          "metadata": {
            "needs_background": "light"
          },
          "output_type": "display_data"
        }
      ],
      "source": [
        "# Exemple 1 : Visualisation de liaison entre Sucre et Pression artérielle\n",
        "#             pour les patientes diabétiques en utilisant un ScatterPlot\n",
        "plt.figure\n",
        "for c in df.columns:\n",
        "    plt.scatter(\n",
        "        df[df.Outcome==1].BloodPressure,\n",
        "        df[df.Outcome==1].Glucose,\n",
        "        label='Diabete',\n",
        "        color='r',\n",
        "        s=3\n",
        "    )\n",
        "    plt.xlabel(\"Pression sanguine\")\n",
        "    plt.ylabel(\"Sucre\")"
      ]
    },
    {
      "cell_type": "markdown",
      "metadata": {
        "_cell_guid": "d96a2c27-e1cc-4c82-90ef-d748c2c77aba",
        "_uuid": "305aa95e080599946640c60d91790ca6cff279fb",
        "id": "LpyYO_3hT0TP"
      },
      "source": [
        "\n",
        "\n",
        "#### Superposition d'histogrammes"
      ]
    },
    {
      "cell_type": "code",
      "execution_count": null,
      "metadata": {
        "_cell_guid": "22f952c5-c19b-4405-ae1f-56d8e3d939c6",
        "_uuid": "3f1ea92a15b99405db5c9282e43333f0dc6ef9b8",
        "id": "om6zpT7tT0TP",
        "outputId": "61f7c702-a1c2-479f-b5f5-8e060b688d44"
      },
      "outputs": [
        {
          "data": {
            "image/png": "[encoded data removed]",
            "text/plain": [
              "<Figure size 432x288 with 1 Axes>"
            ]
          },
          "metadata": {
            "needs_background": "light"
          },
          "output_type": "display_data"
        }
      ],
      "source": [
        "# Exemple 2 : superposition des histogrammes de l'Age en fonction du diabète\n",
        "plt.figure()\n",
        "plt.hist(df[df.Outcome==1]['Age'],bins=15,label='Diabetes',color='r',alpha=0.2)\n",
        "plt.hist(df[df.Outcome==0]['Age'],bins=15,label='No Diabetes',color='b',alpha=0.2)\n",
        "plt.xlabel('Age')\n",
        "plt.ylabel('Frequence')\n",
        "plt.legend()\n",
        "plt.show()"
      ]
    },
    {
      "cell_type": "markdown",
      "metadata": {
        "_cell_guid": "9a6f5bb1-107a-4236-b065-427b8a894981",
        "_uuid": "304383d9b793b70dd591f77b2015c7ffdeea046a",
        "id": "CmB2dsBBT0TP"
      },
      "source": [
        "### Question 2.1\n",
        "Choisir la colonne (l'attribut) qui, pour vous, maximise visuellement l'efficacité de la séparation.  Vous expliciterez votre démarche.\n",
        "\n",
        "### Question 2.2\n",
        "En vous inspirant du code ci-dessous, où l'on fait l'hypothèse que l'âge est l'attribut discriminant avec un seuil à 30 ans, calculer le degré d'exactitude de votre classificateur ?\n",
        "_NB : Pour la documentation sur Numpy visitez le lien : https://docs.scipy.org/doc/numpy/user/quickstart.html_\n"
      ]
    },
    {
      "cell_type": "code",
      "execution_count": null,
      "metadata": {
        "_cell_guid": "04ffb823-f176-4cfa-a5ec-581e63d7e82d",
        "_uuid": "839c2619fe68d7605404e615b367cb4f83d5c7eb",
        "id": "QXxJ9wnrT0TP",
        "outputId": "03d65561-2002-4a09-965c-f8e03329f1c9"
      },
      "outputs": [
        {
          "name": "stdout",
          "output_type": "stream",
          "text": [
            "number of correct examples = 500\n",
            "number of examples in total = 768\n",
            "accuracy = 0.6510416666666666\n"
          ]
        }
      ],
      "source": [
        "import numpy as np\n",
        "# create a new column in the data frame with the predicted outcome based on your split\n",
        "#   (here, Age<30 means outcome=0, otherwise outcome=1)\n",
        "df['PredictedOutcome']=np.where(df.Age<100,0,1)\n",
        "# calculate accuracy\n",
        "N_correct=df[df.PredictedOutcome==df.Outcome].shape[0]\n",
        "N_total=df.shape[0]\n",
        "accuracy=N_correct/N_total\n",
        "print('number of correct examples =',N_correct)\n",
        "print('number of examples in total =',N_total)\n",
        "print('accuracy =',accuracy)"
      ]
    },
    {
      "cell_type": "code",
      "execution_count": null,
      "metadata": {
        "_uuid": "b729624d0945a29722bd9c72ff1a88d5ecfa7c41",
        "id": "aDg-9-7YT0TP"
      },
      "outputs": [],
      "source": [
        "# Votre code ici\n"
      ]
    },
    {
      "cell_type": "markdown",
      "metadata": {
        "_cell_guid": "b0a4e153-f2b7-4dca-91f9-670e62d3c9a8",
        "_uuid": "ab54f8140c8db094e1cf5cbf81c8eedc4aa817fc",
        "id": "MpgYgoS3T0TP"
      },
      "source": [
        "Il existe de nombreuses mesures pour calculer la qualité d'un classificateur. (Je vous invite à faire une petite recherche sur le sujet)."
      ]
    },
    {
      "cell_type": "markdown",
      "metadata": {
        "_cell_guid": "5c6b7690-4ef5-4898-9498-1e6aabc8c9c5",
        "_uuid": "af0cc5d26b6aa49f812ad082458b0564a803cc93",
        "id": "Cm3YuN9VT0TP"
      },
      "source": [
        "## Étape 3 :\n",
        "  La préparation des données pour le traitement se divise en 2 sous-étapes :\n",
        "  1. Correction de l'ensemble initial ;\n",
        "      - Nous avons remarqué que la colonne _Insuline_ était insuffisamment renseignée et nous allons la retirer\n",
        "      - Certaines valeurs à 0 doivent(/peuvent) être remplacées par la moyenne\n",
        "  1. Division de l'ensemble de données en un ensemble d'entrainement et un ensemble de test (TRAIN/TEST)\n"
      ]
    },
    {
      "cell_type": "markdown",
      "metadata": {
        "_uuid": "9aabea57025f7214e9beef07916506a60489ad3b",
        "id": "PiISuaJ1T0TP"
      },
      "source": [
        "#### Retrait des données non pertinentes ou incorrectes"
      ]
    },
    {
      "cell_type": "code",
      "execution_count": null,
      "metadata": {
        "_uuid": "6598c2a2a2ed4a95f1371c29750810c156660414",
        "id": "99CGMnu1T0TP",
        "outputId": "d4e862e0-e240-4400-a648-e615db5c79fc"
      },
      "outputs": [
        {
          "data": {
            "text/plain": [
              "Index(['Pregnancies', 'Glucose', 'BloodPressure', 'SkinThickness', 'BMI',\n",
              "       'DiabetesPedigreeFunction', 'Age', 'Outcome', 'PredictedOutcome'],\n",
              "      dtype='object')"
            ]
          },
          "execution_count": 27,
          "metadata": {},
          "output_type": "execute_result"
        }
      ],
      "source": [
        "# Retrait physique de la colonne _Insulin_ (axis=1 signifie par son nom)\n",
        "donnees = df\n",
        "donnees.drop('Insulin',axis=1,inplace=True)\n",
        "# où l'on voit bien que l'objet 'donnees' est bien le même objet que 'df' !!!\n",
        "df.columns\n"
      ]
    },
    {
      "cell_type": "markdown",
      "metadata": {
        "_uuid": "735b1d03920a062064e54fb522f1e8a926f8b1af",
        "id": "eVsssuTMT0TP"
      },
      "source": [
        "#### Création des sous-ensemble d'entrainement et de test\n",
        "On réalise ce découpage avant le remplacement de valeur afin de pouvoir utiliser les statistiques de chacun de ces ensembles.\n"
      ]
    },
    {
      "cell_type": "code",
      "execution_count": null,
      "metadata": {
        "_uuid": "5dd92f59d4a04a02af34b9ae1e4b451dedf31709",
        "id": "4OMPMM4IT0TP",
        "outputId": "32071280-7ff9-419a-f760-5cc108372af2"
      },
      "outputs": [
        {
          "data": {
            "text/html": [
              "<div>\n",
              "<style scoped>\n",
              "    .dataframe tbody tr th:only-of-type {\n",
              "        vertical-align: middle;\n",
              "    }\n",
              "\n",
              "    .dataframe tbody tr th {\n",
              "        vertical-align: top;\n",
              "    }\n",
              "\n",
              "    .dataframe thead th {\n",
              "        text-align: right;\n",
              "    }\n",
              "</style>\n",
              "<table border=\"1\" class=\"dataframe\">\n",
              "  <thead>\n",
              "    <tr style=\"text-align: right;\">\n",
              "      <th></th>\n",
              "      <th>Pregnancies</th>\n",
              "      <th>Glucose</th>\n",
              "      <th>BloodPressure</th>\n",
              "      <th>SkinThickness</th>\n",
              "      <th>BMI</th>\n",
              "      <th>DiabetesPedigreeFunction</th>\n",
              "      <th>Age</th>\n",
              "      <th>Outcome</th>\n",
              "      <th>PredictedOutcome</th>\n",
              "    </tr>\n",
              "  </thead>\n",
              "  <tbody>\n",
              "    <tr>\n",
              "      <td>count</td>\n",
              "      <td>537.000000</td>\n",
              "      <td>537.000000</td>\n",
              "      <td>537.000000</td>\n",
              "      <td>537.000000</td>\n",
              "      <td>537.000000</td>\n",
              "      <td>537.00000</td>\n",
              "      <td>537.000000</td>\n",
              "      <td>537.000000</td>\n",
              "      <td>537.0</td>\n",
              "    </tr>\n",
              "    <tr>\n",
              "      <td>mean</td>\n",
              "      <td>3.854749</td>\n",
              "      <td>121.543762</td>\n",
              "      <td>69.666667</td>\n",
              "      <td>21.031657</td>\n",
              "      <td>32.255121</td>\n",
              "      <td>0.47132</td>\n",
              "      <td>33.670391</td>\n",
              "      <td>0.361266</td>\n",
              "      <td>0.0</td>\n",
              "    </tr>\n",
              "    <tr>\n",
              "      <td>std</td>\n",
              "      <td>3.405075</td>\n",
              "      <td>32.242413</td>\n",
              "      <td>19.464823</td>\n",
              "      <td>16.030548</td>\n",
              "      <td>8.034497</td>\n",
              "      <td>0.33441</td>\n",
              "      <td>12.003471</td>\n",
              "      <td>0.480815</td>\n",
              "      <td>0.0</td>\n",
              "    </tr>\n",
              "    <tr>\n",
              "      <td>min</td>\n",
              "      <td>0.000000</td>\n",
              "      <td>0.000000</td>\n",
              "      <td>0.000000</td>\n",
              "      <td>0.000000</td>\n",
              "      <td>0.000000</td>\n",
              "      <td>0.08400</td>\n",
              "      <td>21.000000</td>\n",
              "      <td>0.000000</td>\n",
              "      <td>0.0</td>\n",
              "    </tr>\n",
              "    <tr>\n",
              "      <td>25%</td>\n",
              "      <td>1.000000</td>\n",
              "      <td>99.000000</td>\n",
              "      <td>64.000000</td>\n",
              "      <td>0.000000</td>\n",
              "      <td>27.500000</td>\n",
              "      <td>0.24000</td>\n",
              "      <td>24.000000</td>\n",
              "      <td>0.000000</td>\n",
              "      <td>0.0</td>\n",
              "    </tr>\n",
              "    <tr>\n",
              "      <td>50%</td>\n",
              "      <td>3.000000</td>\n",
              "      <td>118.000000</td>\n",
              "      <td>72.000000</td>\n",
              "      <td>24.000000</td>\n",
              "      <td>32.400000</td>\n",
              "      <td>0.37800</td>\n",
              "      <td>29.000000</td>\n",
              "      <td>0.000000</td>\n",
              "      <td>0.0</td>\n",
              "    </tr>\n",
              "    <tr>\n",
              "      <td>75%</td>\n",
              "      <td>6.000000</td>\n",
              "      <td>142.000000</td>\n",
              "      <td>80.000000</td>\n",
              "      <td>33.000000</td>\n",
              "      <td>36.800000</td>\n",
              "      <td>0.61300</td>\n",
              "      <td>41.000000</td>\n",
              "      <td>1.000000</td>\n",
              "      <td>0.0</td>\n",
              "    </tr>\n",
              "    <tr>\n",
              "      <td>max</td>\n",
              "      <td>17.000000</td>\n",
              "      <td>198.000000</td>\n",
              "      <td>122.000000</td>\n",
              "      <td>99.000000</td>\n",
              "      <td>67.100000</td>\n",
              "      <td>2.42000</td>\n",
              "      <td>81.000000</td>\n",
              "      <td>1.000000</td>\n",
              "      <td>0.0</td>\n",
              "    </tr>\n",
              "  </tbody>\n",
              "</table>\n",
              "</div>"
            ],
            "text/plain": [
              "       Pregnancies     Glucose  BloodPressure  SkinThickness         BMI  \\\n",
              "count   537.000000  537.000000     537.000000     537.000000  537.000000   \n",
              "mean      3.854749  121.543762      69.666667      21.031657   32.255121   \n",
              "std       3.405075   32.242413      19.464823      16.030548    8.034497   \n",
              "min       0.000000    0.000000       0.000000       0.000000    0.000000   \n",
              "25%       1.000000   99.000000      64.000000       0.000000   27.500000   \n",
              "50%       3.000000  118.000000      72.000000      24.000000   32.400000   \n",
              "75%       6.000000  142.000000      80.000000      33.000000   36.800000   \n",
              "max      17.000000  198.000000     122.000000      99.000000   67.100000   \n",
              "\n",
              "       DiabetesPedigreeFunction         Age     Outcome  PredictedOutcome  \n",
              "count                 537.00000  537.000000  537.000000             537.0  \n",
              "mean                    0.47132   33.670391    0.361266               0.0  \n",
              "std                     0.33441   12.003471    0.480815               0.0  \n",
              "min                     0.08400   21.000000    0.000000               0.0  \n",
              "25%                     0.24000   24.000000    0.000000               0.0  \n",
              "50%                     0.37800   29.000000    0.000000               0.0  \n",
              "75%                     0.61300   41.000000    1.000000               0.0  \n",
              "max                     2.42000   81.000000    1.000000               0.0  "
            ]
          },
          "execution_count": 28,
          "metadata": {},
          "output_type": "execute_result"
        }
      ],
      "source": [
        "# Avec la fonction train_test_split de sklearn on peut facilement diviser notre dataframe\n",
        "# en ensembles train/test\n",
        "import sklearn\n",
        "from sklearn.model_selection import train_test_split\n",
        "# 0,3 pour préciser que 30% seront pour l'ensemble de test et 70% pour l'entrainement\n",
        "train, test = train_test_split(donnees, test_size = 0.3, random_state = 0)\n",
        "\n",
        "# Visualisaton des ensembles\n",
        "train.describe()"
      ]
    },
    {
      "cell_type": "markdown",
      "metadata": {
        "_uuid": "7dc84414783894f633d6825bded084784e40b89b",
        "id": "g4m_cD20T0TP"
      },
      "source": [
        "#### Traitement des valeurs manquantes"
      ]
    },
    {
      "cell_type": "code",
      "execution_count": null,
      "metadata": {
        "_uuid": "618161304b8a1300870078881dd41fb17113866f",
        "id": "SH4SorGgT0TP"
      },
      "outputs": [],
      "source": [
        "# La bibliothèque numpy offre plusieurs fonctions très utiles. Par exemple, elle nous permet de créer une nouvelle colonne dans notre\n",
        "# dataframe si une condition est satisfaite\n",
        "import numpy as np\n",
        "\n",
        "def imputeColumns(dataset):\n",
        "    \"\"\" Pour chacune des colonnes du dataset,\n",
        "        mise à jour des valeurs à zero par la moyenne de ses valeurs non nulles.\n",
        "    \"\"\"\n",
        "    # liste des colonnes qui seront traitées\n",
        "    columnsToImpute=['Glucose', 'BloodPressure', 'SkinThickness','BMI']\n",
        "\n",
        "    for c in columnsToImpute:\n",
        "        avgOfCol=dataset[dataset[c]>0][[c]].mean()\n",
        "        dataset[c+'_imputed']=np.where(dataset[[c]]!=0,dataset[[c]],avgOfCol)\n",
        "#        dataset[c]=np.where(dataset[[c]]!=0,dataset[[c]],avgOfCol)\n",
        "\n",
        "imputeColumns(train)\n",
        "imputeColumns(test)\n",
        "# check that we've imputed the 0 values\n",
        "train[['Glucose','Glucose_imputed']].head()"
      ]
    },
    {
      "cell_type": "code",
      "execution_count": null,
      "metadata": {
        "_uuid": "025b6af32058ef73716c4d23aad292ff1f73ea7d",
        "id": "HCRdWcSmT0TQ"
      },
      "outputs": [],
      "source": [
        "# Réécrivez (par réflexion et non copiage direct) ce code par vous-même :\n"
      ]
    },
    {
      "cell_type": "markdown",
      "metadata": {
        "_cell_guid": "b1c70048-0d9a-4717-a689-7bb6f12ab2b7",
        "_uuid": "c7246d747c679e82bfced449f9bece04584db23b",
        "id": "ZBi40UcwT0TQ"
      },
      "source": [
        "## Étape 4:  \n",
        "Extraction des attributs d'entrèe , et l'attribut cible"
      ]
    },
    {
      "cell_type": "code",
      "execution_count": null,
      "metadata": {
        "_cell_guid": "64781656-e62a-4102-b981-8da23e702ca3",
        "_uuid": "836aaecfdd7c88aed5363ad22fd0964a88bdea46",
        "id": "JyXBd-sCT0TQ",
        "outputId": "1996427b-b086-421a-9845-796078b586cd"
      },
      "outputs": [
        {
          "data": {
            "text/plain": [
              "Index(['Pregnancies', 'Glucose', 'BloodPressure', 'SkinThickness', 'BMI',\n",
              "       'DiabetesPedigreeFunction', 'Age'],\n",
              "      dtype='object')"
            ]
          },
          "execution_count": 31,
          "metadata": {},
          "output_type": "execute_result"
        }
      ],
      "source": [
        "# Construction des sous-ensembles Entrée (X) et Sortie (Y)\n",
        "X_train = train[['Pregnancies', 'Glucose', 'BloodPressure', 'SkinThickness','BMI', 'DiabetesPedigreeFunction', 'Age']]\n",
        "Y_train = train[['Outcome']]\n",
        "X_test = test[['Pregnancies', 'Glucose', 'BloodPressure', 'SkinThickness', 'BMI', 'DiabetesPedigreeFunction', 'Age']]\n",
        "Y_test = test[['Outcome']]\n",
        "\n",
        "# Exemple d'affichage\n",
        "X_train.columns\n"
      ]
    },
    {
      "cell_type": "markdown",
      "metadata": {
        "_uuid": "c078536add4c245c66e5d7178c1a5311bb552abf",
        "id": "lF0NrOtjT0TQ"
      },
      "source": [
        "### EXERCICE 4 : Vérifier les ensembles d'apprentissage et de test\n",
        "\n",
        "### Question 4.1  :\n",
        "Vérifier succinctement que les deux ensembles ont des statistiques équivalentes\n",
        "<!-- train.describe() -->\n",
        "<!-- test.describe() -->"
      ]
    },
    {
      "cell_type": "code",
      "execution_count": null,
      "metadata": {
        "_uuid": "1df7c40267e9184e1b45bd1d552c358708008ddb",
        "id": "Uk2X9o4FT0TQ"
      },
      "outputs": [],
      "source": [
        "# Comparaison des statistiques des 2 ensembles Train et Test\n"
      ]
    },
    {
      "cell_type": "markdown",
      "metadata": {
        "_cell_guid": "49f3b58b-2693-4491-b306-0c13ec690533",
        "_uuid": "ed223b0092ce696ba89a153492709f45efe16809",
        "id": "EHw5DUlRT0TQ"
      },
      "source": [
        "## Étape 5:\n",
        "# La classification avec les arbres de decision"
      ]
    },
    {
      "cell_type": "markdown",
      "metadata": {
        "_cell_guid": "523f74e9-e7df-4e82-a203-633ea5552174",
        "_uuid": "de5c9ae754cb022d07bd9d75554cae40b367e7ce",
        "id": "XQOJ6VF1T0TQ"
      },
      "source": [
        "Nous allons voir un exemple de mise en oeuvre d'un classificateur 'arbre de décision' pour le problème du diabète. L'objectif est de prédire sur la base de mesures diagnostiques si un patient est atteint de diabète ou non.\n",
        "\n",
        "Nous construisons un modèle qui va faire des prédictions, nous devons donc trouver un moyen d'évaluer la qualité de ces prédictions . Étant donné que les prédictions par définition ne concernent que des données inédites, nous ne pouvons pas dépendre des données utilisées pour évaluer le modèle. Nous avons pour cela  diviser le jeu de données en deux parties non croisées.  \n",
        "_NB : nous utiliserons la bibliothèque http://scikit-learn.org/stable/_ ; en particulier [les arbres de décision](http://scikit-learn.org/stable/modules/tree.html#tree)"
      ]
    },
    {
      "cell_type": "code",
      "execution_count": null,
      "metadata": {
        "_cell_guid": "29397649-abd3-464e-9b91-924d9cd657ad",
        "_uuid": "c61f5bac084dee53b80bfe292420e5924d5217fd",
        "scrolled": true,
        "id": "NlkWzdjGT0TQ",
        "outputId": "c79d27f1-0fdd-4538-e8c2-396004288405"
      },
      "outputs": [
        {
          "data": {
            "text/html": [
              "<div>\n",
              "<style scoped>\n",
              "    .dataframe tbody tr th:only-of-type {\n",
              "        vertical-align: middle;\n",
              "    }\n",
              "\n",
              "    .dataframe tbody tr th {\n",
              "        vertical-align: top;\n",
              "    }\n",
              "\n",
              "    .dataframe thead th {\n",
              "        text-align: right;\n",
              "    }\n",
              "</style>\n",
              "<table border=\"1\" class=\"dataframe\">\n",
              "  <thead>\n",
              "    <tr style=\"text-align: right;\">\n",
              "      <th></th>\n",
              "      <th>Outcome</th>\n",
              "    </tr>\n",
              "  </thead>\n",
              "  <tbody>\n",
              "    <tr>\n",
              "      <td>count</td>\n",
              "      <td>537.000000</td>\n",
              "    </tr>\n",
              "    <tr>\n",
              "      <td>mean</td>\n",
              "      <td>0.361266</td>\n",
              "    </tr>\n",
              "    <tr>\n",
              "      <td>std</td>\n",
              "      <td>0.480815</td>\n",
              "    </tr>\n",
              "    <tr>\n",
              "      <td>min</td>\n",
              "      <td>0.000000</td>\n",
              "    </tr>\n",
              "    <tr>\n",
              "      <td>25%</td>\n",
              "      <td>0.000000</td>\n",
              "    </tr>\n",
              "    <tr>\n",
              "      <td>50%</td>\n",
              "      <td>0.000000</td>\n",
              "    </tr>\n",
              "    <tr>\n",
              "      <td>75%</td>\n",
              "      <td>1.000000</td>\n",
              "    </tr>\n",
              "    <tr>\n",
              "      <td>max</td>\n",
              "      <td>1.000000</td>\n",
              "    </tr>\n",
              "  </tbody>\n",
              "</table>\n",
              "</div>"
            ],
            "text/plain": [
              "          Outcome\n",
              "count  537.000000\n",
              "mean     0.361266\n",
              "std      0.480815\n",
              "min      0.000000\n",
              "25%      0.000000\n",
              "50%      0.000000\n",
              "75%      1.000000\n",
              "max      1.000000"
            ]
          },
          "execution_count": 33,
          "metadata": {},
          "output_type": "execute_result"
        }
      ],
      "source": [
        "Y_train.describe()"
      ]
    },
    {
      "cell_type": "code",
      "execution_count": null,
      "metadata": {
        "_cell_guid": "52488456-24c6-4391-94b5-efe0bbb450c4",
        "_uuid": "6bf61667a79045f103337652abcff25408cfe632",
        "id": "ELovJDjwT0TQ",
        "outputId": "52e2b431-da3e-431f-e543-01cd7ff4e57a"
      },
      "outputs": [
        {
          "data": {
            "text/html": [
              "<div>\n",
              "<style scoped>\n",
              "    .dataframe tbody tr th:only-of-type {\n",
              "        vertical-align: middle;\n",
              "    }\n",
              "\n",
              "    .dataframe tbody tr th {\n",
              "        vertical-align: top;\n",
              "    }\n",
              "\n",
              "    .dataframe thead th {\n",
              "        text-align: right;\n",
              "    }\n",
              "</style>\n",
              "<table border=\"1\" class=\"dataframe\">\n",
              "  <thead>\n",
              "    <tr style=\"text-align: right;\">\n",
              "      <th></th>\n",
              "      <th>Outcome</th>\n",
              "    </tr>\n",
              "  </thead>\n",
              "  <tbody>\n",
              "    <tr>\n",
              "      <td>count</td>\n",
              "      <td>231.000000</td>\n",
              "    </tr>\n",
              "    <tr>\n",
              "      <td>mean</td>\n",
              "      <td>0.320346</td>\n",
              "    </tr>\n",
              "    <tr>\n",
              "      <td>std</td>\n",
              "      <td>0.467623</td>\n",
              "    </tr>\n",
              "    <tr>\n",
              "      <td>min</td>\n",
              "      <td>0.000000</td>\n",
              "    </tr>\n",
              "    <tr>\n",
              "      <td>25%</td>\n",
              "      <td>0.000000</td>\n",
              "    </tr>\n",
              "    <tr>\n",
              "      <td>50%</td>\n",
              "      <td>0.000000</td>\n",
              "    </tr>\n",
              "    <tr>\n",
              "      <td>75%</td>\n",
              "      <td>1.000000</td>\n",
              "    </tr>\n",
              "    <tr>\n",
              "      <td>max</td>\n",
              "      <td>1.000000</td>\n",
              "    </tr>\n",
              "  </tbody>\n",
              "</table>\n",
              "</div>"
            ],
            "text/plain": [
              "          Outcome\n",
              "count  231.000000\n",
              "mean     0.320346\n",
              "std      0.467623\n",
              "min      0.000000\n",
              "25%      0.000000\n",
              "50%      0.000000\n",
              "75%      1.000000\n",
              "max      1.000000"
            ]
          },
          "execution_count": 34,
          "metadata": {},
          "output_type": "execute_result"
        }
      ],
      "source": [
        "Y_test.describe()"
      ]
    },
    {
      "cell_type": "markdown",
      "metadata": {
        "_cell_guid": "3de6aaec-ef78-43ce-91ac-201b0727b115",
        "_uuid": "acc8197690c4515e0a374ee794a66dc506dde15f",
        "id": "DQz6Kz_XT0TQ"
      },
      "source": [
        " Nous utilisons l'ensemble d'entrainement pour construire notre modèle pour les arbres de decision. Puis on va évaluer son score sur l'ensemble de test."
      ]
    },
    {
      "cell_type": "code",
      "execution_count": null,
      "metadata": {
        "_cell_guid": "d403ede8-30db-4755-bfe9-95f4bbd9e1ad",
        "_uuid": "8ce1eb84741e1d078f2f1cb9374ee6b2ee5bc206",
        "id": "b4rORKnlT0TQ",
        "outputId": "72ea8a60-c222-4e6d-cbd4-b61427e94d56"
      },
      "outputs": [
        {
          "data": {
            "text/plain": [
              "0.7402597402597403"
            ]
          },
          "execution_count": 35,
          "metadata": {},
          "output_type": "execute_result"
        }
      ],
      "source": [
        "from sklearn import tree\n",
        "\n",
        "# Create the classifier\n",
        "mon_arbre_de_decision = tree.DecisionTreeClassifier(random_state = 0)\n",
        "\n",
        "# Train the classifier on the training set\n",
        "mon_arbre_de_decision.fit(X_train, Y_train)\n",
        "\n",
        "# Evaluate the classifier on the testing set using classification accuracy\n",
        "mon_arbre_de_decision.score(X_test, Y_test)"
      ]
    },
    {
      "cell_type": "markdown",
      "metadata": {
        "_uuid": "ce1ff9a80d4f0e2d30f3f04fc1162ec59adfbca2",
        "id": "oPqzkuWYT0TQ"
      },
      "source": [
        "#### Visualisation de l'arbre"
      ]
    },
    {
      "cell_type": "code",
      "execution_count": null,
      "metadata": {
        "_uuid": "b925fc58c1095d1b969195b7dbfdfec7b5b66362",
        "id": "CpHC0LVST0TQ"
      },
      "outputs": [],
      "source": [
        "#code ici\n"
      ]
    },
    {
      "cell_type": "markdown",
      "metadata": {
        "_uuid": "bf67773351727f7bc2ad8a0bd733331d1a346d2e",
        "id": "hEPJFVAkT0TR"
      },
      "source": [
        "### EXERCICE 5 : Calcul d'indicateurs de classification\n",
        "\n",
        "### Question 5.1  :\n",
        "Calculer les pourcentages de couples VV, VF, FV, FF sur respectivement les ensembles de test et d'entrainement (d'apprentissage) où :\n",
        "- V(rai) et F(aux) représente l'appartenance à la classe \"est sujette au diabète\",\n",
        "- La première position correspond à l'estimation et la deuxième à la classe réelle\n",
        "\n",
        "### Question 5.2  :\n",
        "Affichez la matrice de confusion et les principales métriques de qualité du modèle (Accuracy, Recall, ...)."
      ]
    },
    {
      "cell_type": "code",
      "execution_count": null,
      "metadata": {
        "_uuid": "6f437a097ced4daa0f7898fa34b44259c4e5d690",
        "id": "rM-ET2NcT0TR"
      },
      "outputs": [],
      "source": [
        "# Votre code ici"
      ]
    },
    {
      "cell_type": "markdown",
      "metadata": {
        "_uuid": "9f44e45f7793cef3ea4c5556219817f4938c7320",
        "id": "ZskMlwhaT0TR"
      },
      "source": [
        "### Question 5.3\n",
        ":\n",
        "Proposer un nouvel échantillon et évaluer sa classification (fonctionnalité `predict`)"
      ]
    },
    {
      "cell_type": "code",
      "execution_count": null,
      "metadata": {
        "_uuid": "3335baf863b9608aba7a5c4556d790b751ac0065",
        "id": "_3tgal-TT0TR"
      },
      "outputs": [],
      "source": [
        "### Votre code ici\n",
        "# exemple = [[ 5,12,20.0, 12,5,123,1]]\n",
        "# mon_arbre_de_decision.predict(exemple)"
      ]
    },
    {
      "cell_type": "markdown",
      "source": [
        "### EXERCICE 6 : Comparaison avec d'autres modèles de classification\n",
        "\n",
        "Utilisez d'autres algorithmes (RandomForest, SVM, etc.) pour modéliser ce dataset. Comparez les métriques afin de trouver le modèle le plus adapté au dataset. En se traitant d'une application médicale, soyez attentifs aux risques des différents types d'erreur (type 1 et type 2)."
      ],
      "metadata": {
        "id": "KtL6E6jBa-ec"
      }
    },
    {
      "cell_type": "code",
      "execution_count": null,
      "metadata": {
        "_cell_guid": "c6652bac-37e1-4fe0-b52b-e9fea1b51595",
        "_uuid": "88b886833e4922e423885ff6fa8d16a18adce4ae",
        "id": "il9Vb0nfT0TR"
      },
      "outputs": [],
      "source": [
        "# Vos codes ici"
      ]
    }
  ],
  "metadata": {
    "kernelspec": {
      "display_name": "Python 3 (ipykernel)",
      "language": "python",
      "name": "python3"
    },
    "language_info": {
      "codemirror_mode": {
        "name": "ipython",
        "version": 3
      },
      "file_extension": ".py",
      "mimetype": "text/x-python",
      "name": "python",
      "nbconvert_exporter": "python",
      "pygments_lexer": "ipython3",
      "version": "3.7.10"
    },
    "name": "_merged",
    "colab": {
      "provenance": [],
      "include_colab_link": true
    }
  },
  "nbformat": 4,
  "nbformat_minor": 0
}
