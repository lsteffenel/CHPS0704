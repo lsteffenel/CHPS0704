{
  "cells": [
    {
      "cell_type": "markdown",
      "metadata": {
        "id": "view-in-github",
        "colab_type": "text"
      },
      "source": [
        "<a href=\"https://colab.research.google.com/github/lsteffenel/CHPS0704/blob/main/TP2/TP2.2-MNIST.ipynb\" target=\"_parent\"><img src=\"https://colab.research.google.com/assets/colab-badge.svg\" alt=\"Open In Colab\"/></a>"
      ]
    },
    {
      "cell_type": "markdown",
      "metadata": {
        "id": "sUMdZp82xfum"
      },
      "source": [
        "# Démarrage"
      ]
    },
    {
      "cell_type": "markdown",
      "metadata": {
        "id": "uEYRRxhrxfun"
      },
      "source": [
        "Pour ce notebook, nous allons définir quelques paramètres pour la visualisation, ainsi qu'une fonction pour enregistrer des images."
      ]
    },
    {
      "cell_type": "code",
      "execution_count": null,
      "metadata": {
        "id": "n78gbzv6xfun"
      },
      "outputs": [],
      "source": [
        "# Python ≥3.5 is required\n",
        "import sys\n",
        "assert sys.version_info >= (3, 5)\n",
        "\n",
        "# Is this notebook running on Colab or Kaggle?\n",
        "IS_COLAB = \"google.colab\" in sys.modules\n",
        "IS_KAGGLE = \"kaggle_secrets\" in sys.modules\n",
        "\n",
        "# Scikit-Learn ≥0.20 is required\n",
        "import sklearn\n",
        "assert sklearn.__version__ >= \"0.20\"\n",
        "\n",
        "# Common imports\n",
        "import numpy as np\n",
        "import os\n",
        "\n",
        "# to make this notebook's output stable across runs\n",
        "np.random.seed(42)\n",
        "\n",
        "# To plot pretty figures\n",
        "%matplotlib inline\n",
        "import matplotlib as mpl\n",
        "import matplotlib.pyplot as plt\n",
        "mpl.rc('axes', labelsize=14)\n",
        "mpl.rc('xtick', labelsize=12)\n",
        "mpl.rc('ytick', labelsize=12)\n",
        "\n",
        "# Where to save the figures\n",
        "PROJECT_ROOT_DIR = \".\"\n",
        "CHAPTER_ID = \"classification\"\n",
        "IMAGES_PATH = os.path.join(PROJECT_ROOT_DIR, \"images\", CHAPTER_ID)\n",
        "os.makedirs(IMAGES_PATH, exist_ok=True)\n",
        "\n",
        "def save_fig(fig_id, tight_layout=True, fig_extension=\"png\", resolution=300):\n",
        "    path = os.path.join(IMAGES_PATH, fig_id + \".\" + fig_extension)\n",
        "    print(\"Saving figure\", fig_id)\n",
        "    if tight_layout:\n",
        "        plt.tight_layout()\n",
        "    plt.savefig(path, format=fig_extension, dpi=resolution)"
      ]
    },
    {
      "cell_type": "markdown",
      "metadata": {
        "id": "2r5kIN42xfuo"
      },
      "source": [
        "# MNIST"
      ]
    },
    {
      "cell_type": "markdown",
      "source": [
        "Ici nous allons télécharger les images MNIST à partir de sklearn. Il est aussi possible de les avoir ailleurs (par exemple, un répertoire d'images), mais vu que c'est un dataset classique, autant gagner du temps.\n",
        "\n",
        "Les images seront stockées directement dans des matrices."
      ],
      "metadata": {
        "id": "UOR9ObMpywY-"
      }
    },
    {
      "cell_type": "code",
      "execution_count": null,
      "metadata": {
        "id": "42xECiz7xfup"
      },
      "outputs": [],
      "source": [
        "from sklearn.datasets import fetch_openml\n",
        "mnist = fetch_openml('mnist_784', version=1, as_frame=False)\n",
        "mnist.keys()"
      ]
    },
    {
      "cell_type": "code",
      "execution_count": null,
      "metadata": {
        "id": "XGQx0Q92xfup"
      },
      "outputs": [],
      "source": [
        "X, y = mnist[\"data\"], mnist[\"target\"]\n",
        "X.shape"
      ]
    },
    {
      "cell_type": "code",
      "execution_count": null,
      "metadata": {
        "id": "809Bhw0nxfuq"
      },
      "outputs": [],
      "source": [
        "y.shape"
      ]
    },
    {
      "cell_type": "code",
      "source": [
        "y = y.astype(np.uint8)"
      ],
      "metadata": {
        "id": "ufyjqbli56nH"
      },
      "execution_count": null,
      "outputs": []
    },
    {
      "cell_type": "markdown",
      "source": [
        "La partie \"features\" du dataset (X) contient 784 colonnes. Ceci est du au fait que l'image fait 28x28 pixels, mais qu'on les représente comme un seul array de 784 éléments"
      ],
      "metadata": {
        "id": "RUNWqEvL01V7"
      }
    },
    {
      "cell_type": "code",
      "execution_count": null,
      "metadata": {
        "id": "inOux9xTxfuq"
      },
      "outputs": [],
      "source": [
        "28*28"
      ]
    },
    {
      "cell_type": "markdown",
      "source": [
        "Allons voir comment ressemblent les images. Dans ce paragraphe on imprime la première image (X[0]), vous pouvez changer l'index pour afficher d'autres chiffres."
      ],
      "metadata": {
        "id": "15pVVPGN1Gtc"
      }
    },
    {
      "cell_type": "code",
      "execution_count": null,
      "metadata": {
        "id": "1BJxFNfXxfuq"
      },
      "outputs": [],
      "source": [
        "%matplotlib inline\n",
        "import matplotlib as mpl\n",
        "import matplotlib.pyplot as plt\n",
        "\n",
        "some_digit = X[0]\n",
        "some_digit_image = some_digit.reshape(28, 28)\n",
        "plt.imshow(some_digit_image, cmap=mpl.cm.binary)\n",
        "plt.axis(\"off\")\n",
        "\n",
        "save_fig(\"some_digit_plot\")\n",
        "plt.show()"
      ]
    },
    {
      "cell_type": "markdown",
      "source": [
        "Bien sûr, l'image est accompagnée d'un label (dans le dataframe Y). Voyons à quel chiffre correspond cette image :"
      ],
      "metadata": {
        "id": "rSBgLNeC1bYM"
      }
    },
    {
      "cell_type": "code",
      "source": [
        "y[0]"
      ],
      "metadata": {
        "id": "REP2gBiC1nzc"
      },
      "execution_count": null,
      "outputs": []
    },
    {
      "cell_type": "markdown",
      "source": [
        "Afin de simplifier la visualisation, les prochaines paragraphes définissent des fonctions pour l'affichage d'une ou de plusieurs images."
      ],
      "metadata": {
        "id": "eqGzHCVw1tUI"
      }
    },
    {
      "cell_type": "code",
      "execution_count": null,
      "metadata": {
        "id": "2h7TXnOexfuq"
      },
      "outputs": [],
      "source": [
        "def plot_digit(data):\n",
        "    image = data.reshape(28, 28)\n",
        "    plt.imshow(image, cmap = mpl.cm.binary,\n",
        "               interpolation=\"nearest\")\n",
        "    plt.axis(\"off\")"
      ]
    },
    {
      "cell_type": "code",
      "execution_count": null,
      "metadata": {
        "id": "I_IkX_2Qxfuq"
      },
      "outputs": [],
      "source": [
        "# EXTRA\n",
        "def plot_digits(instances, images_per_row=10, **options):\n",
        "    size = 28\n",
        "    images_per_row = min(len(instances), images_per_row)\n",
        "    # This is equivalent to n_rows = ceil(len(instances) / images_per_row):\n",
        "    n_rows = (len(instances) - 1) // images_per_row + 1\n",
        "\n",
        "    # Append empty images to fill the end of the grid, if needed:\n",
        "    n_empty = n_rows * images_per_row - len(instances)\n",
        "    padded_instances = np.concatenate([instances, np.zeros((n_empty, size * size))], axis=0)\n",
        "\n",
        "    # Reshape the array so it's organized as a grid containing 28×28 images:\n",
        "    image_grid = padded_instances.reshape((n_rows, images_per_row, size, size))\n",
        "\n",
        "    # Combine axes 0 and 2 (vertical image grid axis, and vertical image axis),\n",
        "    # and axes 1 and 3 (horizontal axes). We first need to move the axes that we\n",
        "    # want to combine next to each other, using transpose(), and only then we\n",
        "    # can reshape:\n",
        "    big_image = image_grid.transpose(0, 2, 1, 3).reshape(n_rows * size,\n",
        "                                                         images_per_row * size)\n",
        "    # Now that we have a big image, we just need to show it:\n",
        "    plt.imshow(big_image, cmap = mpl.cm.binary, **options)\n",
        "    plt.axis(\"off\")"
      ]
    },
    {
      "cell_type": "code",
      "execution_count": null,
      "metadata": {
        "id": "i3aqpraCxfuq"
      },
      "outputs": [],
      "source": [
        "plt.figure(figsize=(9,9))\n",
        "example_images = X[:100]\n",
        "plot_digits(example_images, images_per_row=10)\n",
        "save_fig(\"more_digits_plot\")\n",
        "plt.show()"
      ]
    },
    {
      "cell_type": "markdown",
      "source": [
        "# Découpage des données\n",
        "\n",
        "Comme les chiffres sont déjà bien mélangés, nous allons juste découper les datasets en Train et Test"
      ],
      "metadata": {
        "id": "Kem1CLiK2IWA"
      }
    },
    {
      "cell_type": "code",
      "execution_count": null,
      "metadata": {
        "id": "gygT4pE3xfur"
      },
      "outputs": [],
      "source": [
        "X_train, X_test, y_train, y_test = X[:60000], X[60000:], y[:60000], y[60000:]"
      ]
    },
    {
      "cell_type": "markdown",
      "source": [
        "## Question : sauriez-vous faire la même chose en utilisant la fonction `train_test_split` de ScikitLearn ?"
      ],
      "metadata": {
        "id": "Ok9mMEY52U4k"
      }
    },
    {
      "cell_type": "code",
      "source": [],
      "metadata": {
        "id": "cZBaB_ha2iAO"
      },
      "execution_count": null,
      "outputs": []
    },
    {
      "cell_type": "markdown",
      "metadata": {
        "id": "mGux1urGxfur"
      },
      "source": [
        "# Un Classifieur Binaire"
      ]
    },
    {
      "cell_type": "markdown",
      "source": [
        "Pour simplifier l'apprentissage, nous allons choisir juste un chiffre (par exemple **5**) et créer un classifieur où la question sera \"Est-ce un 5 ou pas\".\n",
        "\n",
        "On commence donc par créer des dataframes avec seulement le chiffre 5)."
      ],
      "metadata": {
        "id": "1Ft3RvkS2ocj"
      }
    },
    {
      "cell_type": "code",
      "execution_count": null,
      "metadata": {
        "id": "xV5_MZqUxfur"
      },
      "outputs": [],
      "source": [
        "y_train_5 = (y_train == 5)\n",
        "y_test_5 = (y_test == 5)"
      ]
    },
    {
      "cell_type": "markdown",
      "metadata": {
        "id": "zpuQp79dxfur"
      },
      "source": [
        "Nous allons utiliser un autre algorithme non vu en cours. Le pricipe est le même que pour des arbres de décision ou des SVM, vous pouvez plus tard comparer les algorithmes."
      ]
    },
    {
      "cell_type": "code",
      "execution_count": null,
      "metadata": {
        "id": "228245bXxfur"
      },
      "outputs": [],
      "source": [
        "from sklearn.linear_model import SGDClassifier\n",
        "\n",
        "sgd_clf = SGDClassifier(max_iter=1000, tol=1e-3, random_state=42)\n",
        "sgd_clf.fit(X_train, y_train_5)"
      ]
    },
    {
      "cell_type": "code",
      "execution_count": null,
      "metadata": {
        "id": "hehtE5O8xfur"
      },
      "outputs": [],
      "source": [
        "sgd_clf.predict([X[500]])"
      ]
    },
    {
      "cell_type": "markdown",
      "source": [
        "# Analyse des métriques avec une validation croisée\n",
        "\n",
        "Dans cette partie, nous allons utiliser une nouvelle technique appellée validation croisée. Au lieu de tester sur le groupe \"test\" uniquement, nous allons faire 5 sous-groupes, chacun évalué séparemment."
      ],
      "metadata": {
        "id": "NbL4Myni9gsu"
      }
    },
    {
      "cell_type": "code",
      "source": [
        "from sklearn.model_selection import cross_val_score\n",
        "\n",
        "\n",
        "cross_val_score(sgd_clf,X_train,y_train_5,cv=5,scoring=\"accuracy\")\n"
      ],
      "metadata": {
        "id": "cuNod_8D-WnX"
      },
      "execution_count": null,
      "outputs": []
    },
    {
      "cell_type": "markdown",
      "source": [
        "Les valeurs obtenus sont intéresants (>94%), mais ils sont trompeurs. En effet, le chiffre 5 ne représente qu'environ 10% des données. On peut vérifier ce \"biais\" avec un modèle bidon qui retourne \"pas 5\" systèmatiquement."
      ],
      "metadata": {
        "id": "XzmwJW4c-eQy"
      }
    },
    {
      "cell_type": "code",
      "source": [
        "from sklearn.base import BaseEstimator\n",
        "\n",
        "class Never5(BaseEstimator):\n",
        "    def fit(self,X,y=None):\n",
        "        return self\n",
        "    def predict(self,X):\n",
        "        return np.zeros((len(X),1),dtype=bool)"
      ],
      "metadata": {
        "id": "ER_vYqWG-3al"
      },
      "execution_count": null,
      "outputs": []
    },
    {
      "cell_type": "code",
      "source": [
        "never_5=Never5()\n",
        "cross_val_score(never_5,X_train,y_train_5,cv=5,scoring=\"accuracy\")"
      ],
      "metadata": {
        "id": "BtztoJcX-6OD"
      },
      "execution_count": null,
      "outputs": []
    },
    {
      "cell_type": "markdown",
      "source": [
        "Comme dans notre modèle, on voit une accuracy importante (>90%) alors que c'est un modèle sans aucun intérêt. Voilà donc une raison de ne pas croire uniquement à Accuracy."
      ],
      "metadata": {
        "id": "GsnCS0rT-7v_"
      }
    },
    {
      "cell_type": "markdown",
      "source": [
        "# Matrice de confusion\n",
        "\n",
        "Afin de mieux observer le modèle, nous pouvons utiliser la matrice de confusion."
      ],
      "metadata": {
        "id": "SGRKwenw_Ki3"
      }
    },
    {
      "cell_type": "code",
      "execution_count": null,
      "metadata": {
        "id": "t4fgEmqMxfus"
      },
      "outputs": [],
      "source": [
        "from sklearn.model_selection import cross_val_predict\n",
        "\n",
        "y_train_pred = cross_val_predict(sgd_clf, X_train, y_train_5, cv=3)"
      ]
    },
    {
      "cell_type": "code",
      "execution_count": null,
      "metadata": {
        "id": "_OfDmu9bxfus"
      },
      "outputs": [],
      "source": [
        "from sklearn.metrics import confusion_matrix\n",
        "\n",
        "confusion_matrix(y_train_5, y_train_pred)"
      ]
    },
    {
      "cell_type": "markdown",
      "source": [
        "On peut la montrer graphiquement aussi :"
      ],
      "metadata": {
        "id": "6j4YPIGc_ryw"
      }
    },
    {
      "cell_type": "code",
      "source": [
        "from sklearn.metrics import ConfusionMatrixDisplay\n",
        "\n",
        "_=ConfusionMatrixDisplay.from_predictions(y_train_5,y_train_pred)"
      ],
      "metadata": {
        "id": "1fBckFvv_vn3"
      },
      "execution_count": null,
      "outputs": []
    },
    {
      "cell_type": "markdown",
      "source": [
        "Chaque ligne de la matrice de confusion contient la classe réelle tandis que les colonnes sont constituées de la classe prédite.\n",
        "\n",
        "Ici, la première ligne représente la classe non-5 réelle (la fausse classe). Plus de 53000  d'entre eux ont été correctement classés comme non-5 (vrai négatif) tandis que moins de 1000 ont été classés comme 5 (faux positif).\n",
        "\n",
        "De même, la deuxième ligne contient la classe 5 réelle (la vraie classe). Un peu plus de 1800 ont été classés comme non-5 (faux négatif) tandis que 3530 ont été classés comme 5 (vrai positif)."
      ],
      "metadata": {
        "id": "uHu1Ic_9_2bI"
      }
    },
    {
      "cell_type": "markdown",
      "source": [
        "# Precision, Recall et F1-Score\n",
        "\n",
        "Afin de balancer le résultat de Accuracy, nous pouvons regarder ceux d'autres métriques, telles que le Recall, la Précision ou le Score F1."
      ],
      "metadata": {
        "id": "VUp8K0WoAVjM"
      }
    },
    {
      "cell_type": "code",
      "execution_count": null,
      "metadata": {
        "id": "6RP32yuTxfus"
      },
      "outputs": [],
      "source": [
        "from sklearn.metrics import precision_score, recall_score\n",
        "\n",
        "precision_score(y_train_5, y_train_pred)"
      ]
    },
    {
      "cell_type": "code",
      "execution_count": null,
      "metadata": {
        "id": "kKN5CpDqxfut"
      },
      "outputs": [],
      "source": [
        "recall_score(y_train_5, y_train_pred)"
      ]
    },
    {
      "cell_type": "code",
      "execution_count": null,
      "metadata": {
        "id": "9jfbWuP7xfut"
      },
      "outputs": [],
      "source": [
        "from sklearn.metrics import f1_score\n",
        "f1_score(y_train_5, y_train_pred)"
      ]
    },
    {
      "cell_type": "markdown",
      "source": [
        "# Exercice\n",
        "\n",
        "Maintenant, créer un RandomForestClassifier et entraîner de la même manière.\n",
        "Comparez les métriques Accuracy, Recall, Precision et F1-Score obtenues."
      ],
      "metadata": {
        "id": "jJFwtXSwBWiU"
      }
    },
    {
      "cell_type": "code",
      "source": [],
      "metadata": {
        "id": "AWg52ykABkSv"
      },
      "execution_count": null,
      "outputs": []
    }
  ],
  "metadata": {
    "kernelspec": {
      "display_name": "Python 3",
      "language": "python",
      "name": "python3"
    },
    "language_info": {
      "codemirror_mode": {
        "name": "ipython",
        "version": 3
      },
      "file_extension": ".py",
      "mimetype": "text/x-python",
      "name": "python",
      "nbconvert_exporter": "python",
      "pygments_lexer": "ipython3",
      "version": "3.6.6"
    },
    "nav_menu": {},
    "toc": {
      "navigate_menu": true,
      "number_sections": true,
      "sideBar": true,
      "threshold": 6,
      "toc_cell": false,
      "toc_section_display": "block",
      "toc_window_display": false
    },
    "colab": {
      "provenance": [],
      "include_colab_link": true
    }
  },
  "nbformat": 4,
  "nbformat_minor": 0
}