{
  "nbformat": 4,
  "nbformat_minor": 0,
  "metadata": {
    "colab": {
      "name": "WineQuality.ipynb",
      "provenance": [],
      "include_colab_link": true
    },
    "kernelspec": {
      "name": "python3",
      "display_name": "Python 3"
    }
  },
  "cells": [
    {
      "cell_type": "markdown",
      "metadata": {
        "id": "view-in-github",
        "colab_type": "text"
      },
      "source": [
        "<a href=\"https://colab.research.google.com/github/lsteffenel/CHPS0704/blob/main/TP2/TP2.1-Qualit%C3%A9%20du%20vin.ipynb\" target=\"_parent\"><img src=\"https://colab.research.google.com/assets/colab-badge.svg\" alt=\"Open In Colab\"/></a>"
      ]
    },
    {
      "cell_type": "markdown",
      "metadata": {
        "id": "g1v1FSysORmW"
      },
      "source": [
        "**Importer les bibliothèques Python**"
      ]
    },
    {
      "cell_type": "code",
      "metadata": {
        "id": "XmDV4L-MOI7O"
      },
      "source": [
        "import numpy as np\n",
        "import pandas as pd\n",
        "\n",
        "import seaborn as sns\n",
        "import matplotlib.pyplot as plt"
      ],
      "execution_count": null,
      "outputs": []
    },
    {
      "cell_type": "markdown",
      "metadata": {
        "id": "L_7aMJA_Of39"
      },
      "source": [
        "**Télécharger le Dataset**"
      ]
    },
    {
      "cell_type": "code",
      "metadata": {
        "id": "raeX52l7Oe5K"
      },
      "source": [
        "data = pd.read_csv('http://archive.ics.uci.edu/ml/machine-learning-databases/wine-quality/winequality-red.csv',sep=';')\n",
        "\n",
        "data.head()"
      ],
      "execution_count": null,
      "outputs": []
    },
    {
      "cell_type": "markdown",
      "metadata": {
        "id": "TTZ3r1dE7zs5"
      },
      "source": [
        "## Premiers pas : identifier les données"
      ]
    },
    {
      "cell_type": "markdown",
      "source": [
        "### Quels sont les noms des colonnes ?"
      ],
      "metadata": {
        "id": "t7Kt5o9teqPA"
      }
    },
    {
      "cell_type": "code",
      "metadata": {
        "id": "tuDht_a3O575"
      },
      "source": [],
      "execution_count": null,
      "outputs": []
    },
    {
      "cell_type": "markdown",
      "source": [
        "### Utiliser describe() et info() pour étudier le dataset\n",
        "Question 1 : Il y a combien d'entrées (registres) ?\n",
        "Question 2 : Est-ce qu'il y a des données manquantes ?"
      ],
      "metadata": {
        "id": "62yTiHyiexvD"
      }
    },
    {
      "cell_type": "code",
      "metadata": {
        "id": "FWtm8MrLb1Yl"
      },
      "source": [],
      "execution_count": null,
      "outputs": []
    },
    {
      "cell_type": "code",
      "metadata": {
        "id": "j2cZ5b4PPGom"
      },
      "source": [],
      "execution_count": null,
      "outputs": []
    },
    {
      "cell_type": "markdown",
      "source": [
        "Combien d'entrées existent pour chaque valeur de \"quality\" ?"
      ],
      "metadata": {
        "id": "nlVAtiEhfD18"
      }
    },
    {
      "cell_type": "code",
      "metadata": {
        "id": "sV7S16lMPNbj"
      },
      "source": [],
      "execution_count": null,
      "outputs": []
    },
    {
      "cell_type": "markdown",
      "metadata": {
        "id": "NF8lRUyoPlb_"
      },
      "source": [
        "**Visualization des données**"
      ]
    },
    {
      "cell_type": "markdown",
      "metadata": {
        "id": "sTS2dJ4DPrSU"
      },
      "source": [
        "**Analyse Bivariate**"
      ]
    },
    {
      "cell_type": "code",
      "metadata": {
        "id": "jrd0WLdQPaul"
      },
      "source": [
        "# Vérifier la variation de \"fixed acidity\" dans les différentes catégories de qualité du vin\n",
        "\n",
        "plt.scatter(data['quality'], data['fixed acidity'], color = 'green')\n",
        "plt.title('relation of fixed acidity with wine')\n",
        "plt.xlabel('quality')\n",
        "plt.ylabel('fixed acidity')\n",
        "plt.legend()\n",
        "plt.show()"
      ],
      "execution_count": null,
      "outputs": []
    },
    {
      "cell_type": "code",
      "metadata": {
        "id": "VYlKkprMQzaT"
      },
      "source": [
        "# Vérifier la variation de l'alcool dans les différentes catégories de qualité du vin\n",
        "\n",
        "plt.bar(data['quality'], data['alcohol'], color = 'maroon')\n",
        "plt.title('relation of alcohol with wine')\n",
        "plt.xlabel('quality')\n",
        "plt.ylabel('alcohol')\n",
        "plt.legend()\n",
        "plt.show()"
      ],
      "execution_count": null,
      "outputs": []
    },
    {
      "cell_type": "code",
      "metadata": {
        "id": "Z_0HWbEUUYNE"
      },
      "source": [
        "plt.bar(data['quality'], data['alcohol'], color = 'maroon')\n",
        "plt.title('relation of alcohol with wine')\n",
        "plt.xlabel('quality')\n",
        "plt.ylabel('alcohol')\n",
        "plt.legend()\n",
        "plt.show()\n",
        "print(data.groupby('quality').mean())\n"
      ],
      "execution_count": null,
      "outputs": []
    },
    {
      "cell_type": "code",
      "metadata": {
        "id": "uUscawRncSIy"
      },
      "source": [
        "# Et pour l'acide citrique ?\n",
        "\n",
        "fig = plt.figure(figsize = (10,6))\n",
        "sns.boxplot(x = 'quality', y = #### à remplir #### , data = data)\n",
        "\n"
      ],
      "execution_count": null,
      "outputs": []
    },
    {
      "cell_type": "code",
      "metadata": {
        "id": "-0tQJFcVcufI"
      },
      "source": [
        "# Les variations du taux de sucre\n",
        "\n",
        "fig = plt.figure(figsize = (10,6))\n",
        "sns.barplot(x = 'quality', y = 'residual sugar', data = data)"
      ],
      "execution_count": null,
      "outputs": []
    },
    {
      "cell_type": "code",
      "metadata": {
        "id": "gTKPr7cwc2W5"
      },
      "source": [
        "## Le \"chloride\"\n",
        "\n",
        "fig = plt.figure(figsize = (10,6))\n",
        "sns.barplot(x = 'quality', y = 'chlorides', data = data)"
      ],
      "execution_count": null,
      "outputs": []
    },
    {
      "cell_type": "code",
      "metadata": {
        "id": "2gxmC8J_dAuP"
      },
      "source": [
        "# Le dioxide de souffre (free sulfur dioxide)\n",
        "\n",
        "fig = plt.figure(figsize = (10,6))\n",
        "sns.barplot(x = 'quality', y = 'free sulfur dioxide', data = data)\n",
        "\n"
      ],
      "execution_count": null,
      "outputs": []
    },
    {
      "cell_type": "code",
      "metadata": {
        "id": "HSv6zwjBdQ7C"
      },
      "source": [
        "# total sulfur dioxide\n",
        "\n",
        "fig = plt.figure(figsize = (10,6))\n",
        "sns.barplot(x = 'quality', y = 'total sulfur dioxide', data = data)"
      ],
      "execution_count": null,
      "outputs": []
    },
    {
      "cell_type": "code",
      "metadata": {
        "id": "20tzCWuAd0P7"
      },
      "source": [
        "# et finalement, les sulphates\n",
        "\n",
        "fig = plt.figure(figsize = (10,6))\n",
        "sns.barplot(x = 'quality', y = 'sulphates', data = data)"
      ],
      "execution_count": null,
      "outputs": []
    },
    {
      "cell_type": "markdown",
      "metadata": {
        "id": "C9kBmRLx7zs-"
      },
      "source": [
        "## Question: Est-ce qu'il y a des colonnes manquantes dans cette liste ? Essayez de les visualiser aussi."
      ]
    },
    {
      "cell_type": "code",
      "source": [],
      "metadata": {
        "id": "DZInBE2dgicm"
      },
      "execution_count": null,
      "outputs": []
    },
    {
      "cell_type": "markdown",
      "metadata": {
        "id": "T1jjcN9ShcOh"
      },
      "source": [
        "## Choix des variables\n",
        "\n",
        "Comme nous pouvons le voir ci-dessus, certains éléments n'ont pas une forte relation avec la variable dépendante (qualité). Nous devons donc présenter un graphique de corrélation pour vérifier lesquels des éléments sont les plus liés à la variable dépendante et quels éléments sont les moins liés."
      ]
    },
    {
      "cell_type": "code",
      "metadata": {
        "id": "ksM_G58cekXx"
      },
      "source": [
        "\n",
        "f, ax = plt.subplots(figsize=(10, 8))\n",
        "corr = data.corr()\n",
        "sns.heatmap(corr, mask=np.zeros_like(corr, dtype=bool), cmap=sns.diverging_palette(220, 10, as_cmap=True),\n",
        "            square=True, ax=ax)"
      ],
      "execution_count": null,
      "outputs": []
    },
    {
      "cell_type": "markdown",
      "metadata": {
        "id": "JZ--oZc3Trtn"
      },
      "source": [
        "À partir du graphique de corrélation ci-dessus pour l'ensemble de données donné pour la prédiction de la qualité du vin, nous pouvons facilement voir quels éléments sont fortement liés les uns aux autres et quels éléments sont liés chaque semaine les uns aux autres.\n",
        "Par exemple,\n",
        "# Les éléments très correlés sont :\n",
        "\n",
        "1. _____\n",
        "2. _____\n",
        "3. _____\n",
        "4. _____\n",
        "\n",
        "Quel est l'élément le plus important pour la qualité du vin ?\n",
        "\n",
        "______________________\n",
        "\n",
        "# Les éléments peu corrélés sont :\n",
        "\n",
        "1. _____\n",
        "2. _____\n",
        "3. _____\n",
        "\n",
        "Certains n'ont aucune influence."
      ]
    },
    {
      "cell_type": "code",
      "metadata": {
        "id": "Zwz57vdrgG_Y"
      },
      "source": [
        "sns.pairplot(data)"
      ],
      "execution_count": null,
      "outputs": []
    },
    {
      "cell_type": "markdown",
      "metadata": {
        "id": "nZoQ5Ga_V_Nh"
      },
      "source": [
        "**Pré-traitement des données**"
      ]
    },
    {
      "cell_type": "code",
      "metadata": {
        "id": "Jc6FdLvtbgEL"
      },
      "source": [
        "#Suppression des colonnes inutiles de l'ensemble de données\n",
        "# Comme nous l'avons vu, l'acidité fixe, le dioxyde de soufre libre, les le sucre et le pH sont très peu liés à la\n",
        "# qualité, donc même si nous supprimons ces colonnes, la précision ne sera pas tellement affectée.\n",
        "\n",
        "data = data.drop(['fixed acidity', 'residual sugar', 'free sulfur dioxide', 'pH'], axis = 1)\n",
        "\n",
        "# checking the shape of the dataset\n",
        "#print(data.shape)"
      ],
      "execution_count": null,
      "outputs": []
    },
    {
      "cell_type": "code",
      "metadata": {
        "id": "U_H99IDDcx8r"
      },
      "source": [
        "data.columns"
      ],
      "execution_count": null,
      "outputs": []
    },
    {
      "cell_type": "markdown",
      "source": [
        "#Catégorisation des labels\n",
        "La qualité des vins est donnée actuellement comme une note entre 0 et 10. Nous allons transformer cette note en 6 classes afin de classer les vins.\n",
        "\n",
        "Plusieurs méthodes sont possibles. Dans le premier cas (code commenté), on utilise la fonction `cut()` de Pandas pour séparer les données en deux groupes (bad et good), selon des \"points de coupe\" indiqués (2 <= bad < 6.5 <= good <=8)"
      ],
      "metadata": {
        "id": "6gZVhBnxhsXN"
      }
    },
    {
      "cell_type": "code",
      "source": [
        "# converting the response variables(3-7) as binary response variables that is either good or bad\n",
        "\n",
        "#names = ['bad', 'good']\n",
        "#bins = (2, 6.5, 8)\n",
        "\n",
        "#data['quality'] = pd.cut(data['quality'], bins = bins, labels = names)\n"
      ],
      "metadata": {
        "id": "juEqxmuCiPBP"
      },
      "execution_count": null,
      "outputs": []
    },
    {
      "cell_type": "code",
      "metadata": {
        "id": "mfQE96iVe6yy"
      },
      "source": [
        "\n",
        "data['quality'] = data['quality'].map({3 : 'bad', 4 :'bad', 5: 'bad',\n",
        "                                      6: 'good', 7: 'good', 8: 'good'})\n",
        "data.info()"
      ],
      "execution_count": null,
      "outputs": []
    },
    {
      "cell_type": "code",
      "metadata": {
        "id": "RMKLZoSIh1H2"
      },
      "source": [
        "\n",
        "data.head()\n",
        "# Maintenant, combien de valeurs distinctes (classes) on trouve ?\n",
        "data['quality'].value_counts()"
      ],
      "execution_count": null,
      "outputs": []
    },
    {
      "cell_type": "markdown",
      "source": [
        "## Encodage de données catégoriques\n",
        "Maintenant que nous avons transformé les notes en catégories, il faut faire une dernière étape pour s'assurer que les labels seront bien pris en compte. Pour cela, on utilise le `LabelEncoder`vu en cours 1."
      ],
      "metadata": {
        "id": "VKOukO-di39r"
      }
    },
    {
      "cell_type": "code",
      "metadata": {
        "id": "cUesnwfaxbeE"
      },
      "source": [
        "from sklearn.preprocessing import LabelEncoder\n",
        "\n",
        "le = LabelEncoder()\n",
        "\n",
        "data['quality'] = le.fit_transform(data['quality'])\n",
        "\n",
        "data['quality'].value_counts"
      ],
      "execution_count": null,
      "outputs": []
    },
    {
      "cell_type": "code",
      "metadata": {
        "id": "5Pfnr-ZTlKYb"
      },
      "source": [
        "sns.countplot(data, x=\"quality\")"
      ],
      "execution_count": null,
      "outputs": []
    },
    {
      "cell_type": "markdown",
      "source": [
        "## Création des ensembles de train et test"
      ],
      "metadata": {
        "id": "cH6n3qBhjm-x"
      }
    },
    {
      "cell_type": "code",
      "metadata": {
        "id": "RpyDnFWHrdYS"
      },
      "source": [
        "# Séparation des colonnes x (\"features\") de celle y (\"target\")\n",
        "\n",
        "x = data.iloc[:,:7]\n",
        "y = data.iloc[:,7]\n",
        "\n",
        "# determining the shape of x and y.\n",
        "print(x.shape)\n",
        "print(y.shape)"
      ],
      "execution_count": null,
      "outputs": []
    },
    {
      "cell_type": "code",
      "metadata": {
        "id": "hkN0MN_hWvMP"
      },
      "source": [
        "# Séparation du dataset en train/test\n",
        "\n",
        "from sklearn.model_selection import train_test_split\n",
        "\n",
        "x_train, x_test, y_train, y_test = train_test_split(x, y, test_size = 0.25, random_state = 44)\n",
        "\n",
        "# determining the shapes of training and testing sets\n",
        "print(x_train.shape)\n",
        "print(y_train.shape)\n",
        "print(x_test.shape)\n",
        "print(y_test.shape)"
      ],
      "execution_count": null,
      "outputs": []
    },
    {
      "cell_type": "markdown",
      "source": [
        "Dernière étape, on utilise un scaler pour ramener toutes les variables dépendantes (x) à la même échelle de données (0 à 1 ou -1 à 1, le plus souvent). Ceci est important car on peut avoir des variables aveec des échelles très différentes (par exemple, \"nombre de pièces d'une maison\" en quelques unités et \"prix\" en miliers d'euros). Un scaler peut empechêr certains algorithmes d'être trompés par l'ordre de grandeur des valeurs."
      ],
      "metadata": {
        "id": "BbNcx7NYkCln"
      }
    },
    {
      "cell_type": "code",
      "metadata": {
        "id": "I0-FiWq_XiVa"
      },
      "source": [
        "# standard scaling\n",
        "from sklearn.preprocessing import StandardScaler\n",
        "\n",
        "sc = StandardScaler()\n",
        "x_train = sc.fit_transform(x_train)\n",
        "x_test = sc.fit_transform(x_test)\n"
      ],
      "execution_count": null,
      "outputs": []
    },
    {
      "cell_type": "markdown",
      "metadata": {
        "id": "3TWu9QqIYw5r"
      },
      "source": [
        "# Modélisation\n",
        "\n",
        "Vous pouvez enfin créer un modèle machine learning pour vos données.\n",
        "\n",
        "Le paragraphe ci-dessous utilise un arbre de décision. Rappellez-vous que la syntaxe ScikitLearn ne change que très peu, en général il suffit d'instancier un autre algorithme puis utiliser les mêmes appels fit et predict."
      ]
    },
    {
      "cell_type": "markdown",
      "metadata": {
        "id": "YsDnq0hjaVx2"
      },
      "source": [
        "**Decision Tree**"
      ]
    },
    {
      "cell_type": "code",
      "metadata": {
        "id": "YuWDSGAKaR0a"
      },
      "source": [
        "from sklearn.tree import DecisionTreeClassifier\n",
        "\n",
        "# creating model\n",
        "model = DecisionTreeClassifier()\n",
        "\n",
        "# feeding the training set into the model\n",
        "model.fit(x_train, y_train)\n",
        "\n",
        "# predicting the results for the test set\n",
        "y_pred = model.predict(x_test)\n",
        "\n",
        "# calculating the training and testing accuracies\n",
        "print(\"Training accuracy :\", model.score(x_train, y_train))\n",
        "print(\"Testing accuracy :\", model.score(x_test, y_test))"
      ],
      "execution_count": null,
      "outputs": []
    },
    {
      "cell_type": "code",
      "metadata": {
        "id": "Z7IcDlUV5Rbt"
      },
      "source": [
        "from sklearn.metrics import classification_report, confusion_matrix\n",
        "\n",
        "# classification report\n",
        "#classification_report(y_test, y_pred)\n",
        "print(classification_report(y_test, y_pred))\n",
        "\n",
        "# confusion matrix\n",
        "print(confusion_matrix(y_test, y_pred))\n"
      ],
      "execution_count": null,
      "outputs": []
    },
    {
      "cell_type": "markdown",
      "source": [
        "## Hyperparamètres\n",
        "\n",
        "Avant de tester autres algorithmes, avez-vous noté qu'on n'a passé aucun paramètre à `DecisionTreeClassifier()` ? Regardez la documentation de cette classe dans [la doc](https://scikit-learn.org/stable/modules/generated/sklearn.tree.DecisionTreeClassifier.html) et essayez d'autres paramètres (profondeur max, par exemple)."
      ],
      "metadata": {
        "id": "2CDDwRj3lhdN"
      }
    },
    {
      "cell_type": "code",
      "source": [],
      "metadata": {
        "id": "Ps9qq6JumM7r"
      },
      "execution_count": null,
      "outputs": []
    },
    {
      "cell_type": "markdown",
      "source": [
        "## Autres algorithmes\n",
        "Maintenant que vous avez fait un modèle avec les arbres de décision, créez des modèles avec d'autres algorithmes"
      ],
      "metadata": {
        "id": "Fg9rknb6mL5g"
      }
    },
    {
      "cell_type": "markdown",
      "metadata": {
        "id": "i0awjbHDa8ws"
      },
      "source": [
        "**Random Forest**\n",
        "\n",
        "`from sklearn.ensemble import RandomForestClassifier`"
      ]
    },
    {
      "cell_type": "code",
      "source": [],
      "metadata": {
        "id": "MLLPrtNAmjfU"
      },
      "execution_count": null,
      "outputs": []
    },
    {
      "cell_type": "markdown",
      "source": [
        "**Gradient Boost**\n",
        "Ici nous allons utiliser une alternative à XGBoost.\n",
        "\n",
        "`from sklearn.ensemble import GradientBoostingClassifier``"
      ],
      "metadata": {
        "id": "ehHw_8sNmlGV"
      }
    },
    {
      "cell_type": "code",
      "source": [],
      "metadata": {
        "id": "pDh5iMRkm4Zb"
      },
      "execution_count": null,
      "outputs": []
    },
    {
      "cell_type": "markdown",
      "source": [
        "**K plus proches voisins (KNN)**\n",
        "\n",
        "`from sklearn.neighbors import KNeighborsClassifier`"
      ],
      "metadata": {
        "id": "k_2s5rnOobQ-"
      }
    },
    {
      "cell_type": "code",
      "source": [],
      "metadata": {
        "id": "tI72ObQqokhL"
      },
      "execution_count": null,
      "outputs": []
    },
    {
      "cell_type": "markdown",
      "source": [
        "**Naive Bayes**\n",
        "\n",
        "`from sklearn.naive_bayes import CategoricalNB`"
      ],
      "metadata": {
        "id": "d3a8y5WtosgR"
      }
    },
    {
      "cell_type": "code",
      "source": [],
      "metadata": {
        "id": "Wvlk5QtSo_GZ"
      },
      "execution_count": null,
      "outputs": []
    },
    {
      "cell_type": "markdown",
      "metadata": {
        "id": "KDrwXgAYY3lF"
      },
      "source": [
        "**Logistic Regression**\n",
        "\n",
        "`from sklearn.linear_model import LogisticRegression``\n"
      ]
    },
    {
      "cell_type": "code",
      "source": [],
      "metadata": {
        "id": "XTMwq3ROpPpy"
      },
      "execution_count": null,
      "outputs": []
    },
    {
      "cell_type": "markdown",
      "source": [],
      "metadata": {
        "id": "5AIZa3gzpQsm"
      }
    },
    {
      "cell_type": "markdown",
      "metadata": {
        "id": "2UGT52AKvLgt"
      },
      "source": [
        "**SVM**\n",
        "\n",
        "`from sklearn.svm import SVC`\n",
        "\n",
        "La classe SVC a plusieurs hyperparamètres dont `kernel`. Essayez différents types de kernel parmi *linear*, *poly*, *rbf* (par défaut) ou *sigmoid*.\n"
      ]
    },
    {
      "cell_type": "markdown",
      "metadata": {
        "id": "OphQJJ-B7ztC"
      },
      "source": [
        "## Question 3: Quelle combinaison algorithme/hyperparamètres est la plus précise ?"
      ]
    },
    {
      "cell_type": "markdown",
      "metadata": {
        "id": "utcR7nhK7ztC"
      },
      "source": [
        "# Bonus\n",
        "\n",
        "Jusqu'à présent vous avez suivi des instructions. Essayez maintenant de faire tout seul :\n",
        "- que se passe-t-il si on utilise toutes les colonnes (au lieu de supprimer les moins correlées) ?\n",
        "- Est-ce qu'on peut améliorer l'accuracy en supprimant une colonne en plus ?\n",
        "- Est-ce qu'on peut faire une meilleure classification avec un \"category map\" différent ?\n",
        "- Comment votre modèle se comporte uniquement avec du vin blanc ? (http://archive.ics.uci.edu/ml/machine-learning-databases/wine-quality/winequality-white.csv)\n",
        "- Developez un modèle spécifique pour le vin blan et le comparez au modèle pour le vin rouge."
      ]
    },
    {
      "cell_type": "code",
      "source": [],
      "metadata": {
        "id": "xR5z6PCpwj8y"
      },
      "execution_count": null,
      "outputs": []
    }
  ]
}