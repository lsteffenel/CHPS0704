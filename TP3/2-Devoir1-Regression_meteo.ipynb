{
  "cells": [
    {
      "cell_type": "markdown",
      "metadata": {
        "id": "view-in-github",
        "colab_type": "text"
      },
      "source": [
        "<a href=\"https://colab.research.google.com/github/lsteffenel/CHPS0704/blob/main/TP3/2-Devoir1-Regression_meteo.ipynb\" target=\"_parent\"><img src=\"https://colab.research.google.com/assets/colab-badge.svg\" alt=\"Open In Colab\"/></a>"
      ]
    },
    {
      "cell_type": "markdown",
      "metadata": {
        "id": "M7VFPYZ-CQGd"
      },
      "source": [
        "# Prévision simple du temps"
      ]
    },
    {
      "cell_type": "markdown",
      "source": [],
      "metadata": {
        "id": "tKx7_-mEC_Ih"
      }
    },
    {
      "cell_type": "code",
      "execution_count": null,
      "metadata": {
        "id": "Guld51SzCQGe"
      },
      "outputs": [],
      "source": [
        "import pandas\n",
        "import matplotlib.pyplot as plt"
      ]
    },
    {
      "cell_type": "markdown",
      "metadata": {
        "id": "CssMfwbwCQGf"
      },
      "source": [
        "## Chargement des données\n"
      ]
    },
    {
      "cell_type": "code",
      "source": [
        "!wget https://raw.githubusercontent.com/lsteffenel/CHPS0704/refs/heads/main/data/weather.csv"
      ],
      "metadata": {
        "id": "ARa6bl8zCR8p"
      },
      "execution_count": null,
      "outputs": []
    },
    {
      "cell_type": "code",
      "execution_count": null,
      "metadata": {
        "id": "IVPrE_lSCQGf"
      },
      "outputs": [],
      "source": [
        "fichier_meteo = \"weather.csv\""
      ]
    },
    {
      "cell_type": "markdown",
      "metadata": {
        "id": "dgcbheD2CQGf"
      },
      "source": [
        "Afficher les colonnes"
      ]
    },
    {
      "cell_type": "code",
      "execution_count": null,
      "metadata": {
        "id": "M_eW0Ow2CQGg"
      },
      "outputs": [],
      "source": [
        "# A COMPLETER\n",
        "\n",
        "# charger les données"
      ]
    },
    {
      "cell_type": "markdown",
      "metadata": {
        "id": "dPWKscgoCQGg"
      },
      "source": [
        "# Description des données"
      ]
    },
    {
      "cell_type": "code",
      "execution_count": null,
      "metadata": {
        "id": "eQTP44LUCQGg"
      },
      "outputs": [],
      "source": [
        "# A completer\n",
        "\n",
        "# quels types de données\n",
        "# y a-t-il des données manquantes ?"
      ]
    },
    {
      "cell_type": "markdown",
      "metadata": {
        "id": "RKE-9P4vCQGg"
      },
      "source": [
        "## Séparer les données en training et test"
      ]
    },
    {
      "cell_type": "code",
      "execution_count": null,
      "metadata": {
        "id": "GTzJ2DByCQGg"
      },
      "outputs": [],
      "source": [
        "# a compléter.\n",
        "# Vous pouvez utiliser la fonction train_test_split() de sklearn.model_selection\n",
        "# utiliser un test_size de 33%"
      ]
    },
    {
      "cell_type": "markdown",
      "metadata": {
        "id": "KkLJe630CQGg"
      },
      "source": [
        "Afficher le shape (dimensions) des ensembles train et test"
      ]
    },
    {
      "cell_type": "code",
      "execution_count": null,
      "metadata": {
        "id": "0fKTMAFWCQGh"
      },
      "outputs": [],
      "source": []
    },
    {
      "cell_type": "markdown",
      "metadata": {
        "id": "i0McDxMhCQGh"
      },
      "source": [
        "Séparer maintenant les features (humidité) et le target (température).\n",
        "\n",
        "Créer un DataFrame x_train avec la colonne « Humidity » (feature) et un y_train avec la colonne « Temperature_c » (target)\n",
        "\n",
        "Faire la même chose pour les données de test (x_test et y_test)"
      ]
    },
    {
      "cell_type": "code",
      "execution_count": null,
      "metadata": {
        "id": "-ndbbR3hCQGh"
      },
      "outputs": [],
      "source": []
    },
    {
      "cell_type": "markdown",
      "metadata": {
        "id": "spfAS_f7CQGh"
      },
      "source": [
        "Utiliser un LinearRegression() pour estimer la température à partir de l'humidité"
      ]
    },
    {
      "cell_type": "code",
      "execution_count": null,
      "metadata": {
        "id": "wzfr5i5dCQGh"
      },
      "outputs": [],
      "source": []
    },
    {
      "cell_type": "code",
      "execution_count": null,
      "metadata": {
        "id": "ezAEACS-CQGh"
      },
      "outputs": [],
      "source": [
        "#afficher les coefficients obtenus\n",
        "\n",
        "intercept = model.intercept_\n",
        "coeffs = model.coef_\n",
        "\n",
        "print ('intercept :', intercept, 'Coeff humidité :', coeffs)\n",
        "\n",
        "print('Temperature = ', intercept, '+' , coeffs[0], 'x Humidity')\n"
      ]
    },
    {
      "cell_type": "markdown",
      "metadata": {
        "id": "43kf1L_sCQGh"
      },
      "source": [
        "Une fois entrainé, on peut tester le modèle avec les données de test (x_test)"
      ]
    },
    {
      "cell_type": "code",
      "execution_count": null,
      "metadata": {
        "id": "YXwpfYjtCQGh"
      },
      "outputs": [],
      "source": [
        "y_pred = model.predict ( x_test )"
      ]
    },
    {
      "cell_type": "code",
      "execution_count": null,
      "metadata": {
        "id": "zg5PtJELCQGi"
      },
      "outputs": [],
      "source": [
        "## Créer un dataframe pour la visualisation des résultats\n",
        "visu = pnd.DataFrame(y_test[target])\n",
        "visu['Predicted'] = y_pred\n",
        "visu['Humidity'] = x_test[feature_names]\n",
        "\n",
        "visu.rename(columns={'Temperature_c':'Expected'}, inplace=True)\n",
        "\n",
        "visu.head()\n"
      ]
    },
    {
      "cell_type": "code",
      "execution_count": null,
      "metadata": {
        "id": "yXe0Z8JwCQGi"
      },
      "outputs": [],
      "source": [
        "import matplotlib.pyplot as plt\n",
        "%matplotlib inline\n",
        "\n",
        "fig, axs = plt.subplots(1, 2, figsize=(18, 6)\n",
        "\n",
        "visu.plot.scatter ( x='Expected', y='Predicted', title='Correlation', ax=axs[0] )\n",
        "\n",
        "visu.set_index('Humidity')['Predicted'].plot ( title='Predicted', kind='line', ax=axs[1] )\n"
      ]
    },
    {
      "cell_type": "markdown",
      "metadata": {
        "id": "8tfpdoImCQGi"
      },
      "source": [
        "## Analyse du modèle\n",
        "\n",
        "Grâce au code suivant, que pensez-vous des résultats par rapport aux métriques obtenues ?"
      ]
    },
    {
      "cell_type": "code",
      "execution_count": null,
      "metadata": {
        "id": "re2YtioKCQGi"
      },
      "outputs": [],
      "source": [
        "from sklearn.metrics import mean_absolute_error, mean_squared_error, r2_score, explained_variance_score\n",
        "from math import sqrt\n",
        "\n",
        "mae = mean_absolute_error ( y_test , y_pred )\n",
        "\n",
        "mse = mean_squared_error ( y_test , y_pred )\n",
        "rmse = sqrt(mse)\n",
        "\n",
        "\n",
        "r2 = r2_score ( y_test , y_pred )\n",
        "\n",
        "\n",
        "expvar = explained_variance_score ( y_test , y_pred )\n",
        "\n",
        "print ('MAE={:.3f}'.format(mae) )\n",
        "print ('RMSE={0:.3f} \\t MSE={1:.3f} '.format(rmse, mse) )\n",
        "print ('R2={:.3f}'.format(r2) )\n",
        "print ('Explained Variance={:.3f}'.format(expvar)\n"
      ]
    },
    {
      "cell_type": "markdown",
      "metadata": {
        "id": "vr6fZDGsCQGi"
      },
      "source": [
        "## Pourquoi la métrique \"explained variance\" est si bas ???\n",
        "Est-ce qu'on peut faire mieux ?"
      ]
    },
    {
      "cell_type": "code",
      "execution_count": null,
      "metadata": {
        "id": "PPvi_mL0CQGi"
      },
      "outputs": [],
      "source": []
    },
    {
      "cell_type": "markdown",
      "metadata": {
        "id": "kvsOB6UfCQGi"
      },
      "source": [
        "# Modèle de Régression Linéaire Multiple\n",
        "\n",
        "Utiliser plusieurs variables (features) peut aider à améliorer la qualité du modèle !\n",
        "\n",
        "Problème : la colonne \"Description\" n'est pas numérique.\n",
        "\n",
        "Utiliser un \"One-hot-encoder\" pour transformer Description."
      ]
    },
    {
      "cell_type": "code",
      "execution_count": null,
      "metadata": {
        "id": "BtSVHM6-CQGi"
      },
      "outputs": [],
      "source": []
    },
    {
      "cell_type": "markdown",
      "metadata": {
        "id": "utIxwUozCQGi"
      },
      "source": [
        "\n",
        "Refaire la séparation training et test utiliser maintenant toutes les variables.\n"
      ]
    },
    {
      "cell_type": "code",
      "execution_count": null,
      "metadata": {
        "id": "3JRwKn3hCQGi"
      },
      "outputs": [],
      "source": []
    },
    {
      "cell_type": "markdown",
      "metadata": {
        "id": "BkOeNpjHCQGj"
      },
      "source": [
        "Entraîner le nouveau model et afficher les métriques obtenues.\n"
      ]
    },
    {
      "cell_type": "code",
      "execution_count": null,
      "metadata": {
        "id": "fFs83rRaCQGj"
      },
      "outputs": [],
      "source": []
    },
    {
      "cell_type": "code",
      "execution_count": null,
      "metadata": {
        "id": "yo6zBbrVCQGj"
      },
      "outputs": [],
      "source": []
    },
    {
      "cell_type": "markdown",
      "source": [
        "# Challenge\n",
        "\n",
        "On n'a pas vraiment étudié les modèles plus avancés (ARIMA, etc.) mais, si vous vous sentez en forme, essayez d'appliquer l'une de ces méthodes à cette prévision du temps."
      ],
      "metadata": {
        "id": "Xb2fsAcCCvku"
      }
    }
  ],
  "metadata": {
    "kernelspec": {
      "display_name": "Python 3 (ipykernel)",
      "language": "python",
      "name": "python3"
    },
    "language_info": {
      "codemirror_mode": {
        "name": "ipython",
        "version": 3
      },
      "file_extension": ".py",
      "mimetype": "text/x-python",
      "name": "python",
      "nbconvert_exporter": "python",
      "pygments_lexer": "ipython3",
      "version": "3.7.12"
    },
    "colab": {
      "provenance": [],
      "include_colab_link": true
    }
  },
  "nbformat": 4,
  "nbformat_minor": 0
}