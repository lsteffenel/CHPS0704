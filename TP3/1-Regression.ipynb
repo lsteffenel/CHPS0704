{
  "cells": [
    {
      "cell_type": "markdown",
      "metadata": {
        "id": "view-in-github",
        "colab_type": "text"
      },
      "source": [
        "<a href=\"https://colab.research.google.com/github/lsteffenel/CHPS0704/blob/main/TP3/1-Regression.ipynb\" target=\"_parent\"><img src=\"https://colab.research.google.com/assets/colab-badge.svg\" alt=\"Open In Colab\"/></a>"
      ]
    },
    {
      "cell_type": "markdown",
      "metadata": {
        "id": "J6achdZf3PJu"
      },
      "source": [
        "# Intro Régression"
      ]
    },
    {
      "cell_type": "markdown",
      "metadata": {
        "id": "WEuXpjjm3PJv"
      },
      "source": [
        "## 2. L'exemple du dataset Boston"
      ]
    },
    {
      "cell_type": "code",
      "source": [
        "!wget https://raw.githubusercontent.com/lsteffenel/CHPS0704/refs/heads/main/data/boston.txt"
      ],
      "metadata": {
        "id": "mjVriGQT38rz"
      },
      "execution_count": null,
      "outputs": []
    },
    {
      "cell_type": "markdown",
      "source": [
        "## Exercice 1 - étudier le dataset boston\n",
        "Ouvrez le fichier `boston.txt`que vous venez de télécharger.\n",
        "\n",
        "Que représente ce dataset ?\n",
        "\n",
        "A votre avis, quels sont les paramètres qui devraient influencer plus le prix moyens des maisons ?"
      ],
      "metadata": {
        "id": "O2BiUwJf4dHp"
      }
    },
    {
      "cell_type": "markdown",
      "source": [
        "## Ici on choisira des variables et appliquera une regression linéaire pour prédire le prix moyen des maisons."
      ],
      "metadata": {
        "id": "vpoima_a5LS9"
      }
    },
    {
      "cell_type": "code",
      "execution_count": null,
      "metadata": {
        "id": "S8lbr5j-3PJv"
      },
      "outputs": [],
      "source": [
        "import pandas as pd\n",
        "from sklearn.model_selection import train_test_split\n",
        "import sklearn.metrics\n",
        "from sklearn.tree import DecisionTreeRegressor\n",
        "\n",
        "# Chargement des données\n",
        "names=['CRIM', 'ZN', 'INDUS', 'CHAS', 'NOX', 'RM', 'AGE', 'DIS', 'RAD', 'TAX', 'PTRATIO', 'B', 'LSTAT', 'MEDV']\n",
        "boston_df = pd.read_fwf(\"boston.txt\", skiprows=22, header=None, names=names)\n",
        "# Séparation train - test\n",
        "y = boston_df['MEDV']\n",
        "X = boston_df.drop(labels='MEDV', axis=1)\n",
        "train_X, test_X, train_y, test_y = train_test_split(X, y, train_size=0.8, test_size=0.2, random_state=42)\n",
        "\n",
        "\n",
        "# Création d'un modèle\n",
        "regressor = DecisionTreeRegressor(max_depth=5, random_state=42)\n",
        "\n",
        "# Fit du modèle\n",
        "regressor.fit(train_X, train_y)\n",
        "\n",
        "# Prédictions\n",
        "pred_y = regressor.predict(test_X)\n",
        "\n",
        "# Evaluation\n",
        "print(sklearn.metrics.explained_variance_score(test_y, pred_y))"
      ]
    },
    {
      "cell_type": "markdown",
      "source": [
        "### Question 2 : que représente cette valeur \"explained variance score\" ? Comment vous le traduiserait pour l'expliquer à un enfant ?"
      ],
      "metadata": {
        "id": "wvqNJksa5iwY"
      }
    },
    {
      "cell_type": "markdown",
      "source": [
        "###Par la suite, nous avons plusieurs métriques. Observez les différences."
      ],
      "metadata": {
        "id": "bpFwdv485uOn"
      }
    },
    {
      "cell_type": "code",
      "execution_count": null,
      "metadata": {
        "id": "AasQwbUd3PJw"
      },
      "outputs": [],
      "source": [
        "# Erreur absolue moyenne\n",
        "sklearn.metrics.mean_absolute_error(test_y, pred_y)"
      ]
    },
    {
      "cell_type": "code",
      "execution_count": null,
      "metadata": {
        "id": "6N-DyMAO3PJw"
      },
      "outputs": [],
      "source": [
        "# Erreur absolue medianne\n",
        "sklearn.metrics.median_absolute_error(test_y, pred_y)"
      ]
    },
    {
      "cell_type": "code",
      "execution_count": null,
      "metadata": {
        "id": "LWm631r-3PJw"
      },
      "outputs": [],
      "source": [
        "# Erreur quadratique moyenne\n",
        "sklearn.metrics.mean_squared_error(test_y, pred_y)"
      ]
    },
    {
      "cell_type": "code",
      "execution_count": null,
      "metadata": {
        "id": "O-QkaGYt3PJw"
      },
      "outputs": [],
      "source": [
        "# Racine de l'erreur quadratique moyenne\n",
        "sklearn.metrics.mean_squared_error(test_y, pred_y, squared=False)"
      ]
    },
    {
      "cell_type": "code",
      "execution_count": null,
      "metadata": {
        "id": "eUZ_8aFa3PJx"
      },
      "outputs": [],
      "source": [
        "# Variance expliquée\n",
        "sklearn.metrics.explained_variance_score(test_y, pred_y)"
      ]
    },
    {
      "cell_type": "code",
      "execution_count": null,
      "metadata": {
        "id": "FVvUxDwk3PJx"
      },
      "outputs": [],
      "source": [
        "# Score R2 : coefficient de détermination\n",
        "sklearn.metrics.r2_score(test_y, pred_y)"
      ]
    },
    {
      "cell_type": "code",
      "execution_count": null,
      "metadata": {
        "id": "nOhZwmQK3PJx"
      },
      "outputs": [],
      "source": [
        "# Erreur maximale\n",
        "sklearn.metrics.max_error(test_y, pred_y)"
      ]
    },
    {
      "cell_type": "code",
      "execution_count": null,
      "metadata": {
        "id": "3wer6BOA3PJx"
      },
      "outputs": [],
      "source": [
        "# Erreur absolue moyenne (pourcentage)\n",
        "sklearn.metrics.mean_absolute_percentage_error(test_y, pred_y)"
      ]
    },
    {
      "cell_type": "code",
      "execution_count": null,
      "metadata": {
        "id": "dEMMu-p_3PJx"
      },
      "outputs": [],
      "source": [
        "# Erreur quadratique moyenne logarithmique\n",
        "sklearn.metrics.mean_squared_log_error(test_y, pred_y)"
      ]
    },
    {
      "cell_type": "markdown",
      "source": [
        "## Exercice 3 :\n",
        "êtes-vous capables d'obtenir des meilleurs résultats ? Comment ?\n",
        "\n",
        "*Astuce : essayez de jouer avec les variables analysées... Peut-être une matrice de corrélation pourra indiquer les variables intéressantes à garder*"
      ],
      "metadata": {
        "id": "vXYLjeTP53TB"
      }
    },
    {
      "cell_type": "code",
      "source": [
        "# à vous de jouer.\n"
      ],
      "metadata": {
        "id": "q1bfCMi46UF_"
      },
      "execution_count": null,
      "outputs": []
    },
    {
      "cell_type": "markdown",
      "metadata": {
        "id": "BF6pJXOR3PJx"
      },
      "source": [
        "## 3. Utilisation des algorithmes de classification\n",
        "\n",
        "Plutôt qu'une régression linéaire, essayons avec des algorithmes de classification"
      ]
    },
    {
      "cell_type": "markdown",
      "metadata": {
        "id": "AA0iC7oF3PJy"
      },
      "source": [
        "### 3.2 Arbres de décision et algorithmes dérivés"
      ]
    },
    {
      "cell_type": "code",
      "execution_count": null,
      "metadata": {
        "id": "LfBYo1wM3PJy"
      },
      "outputs": [],
      "source": [
        "from sklearn.tree import DecisionTreeRegressor\n",
        "\n",
        "regressor = DecisionTreeRegressor(max_depth=5, random_state=42, criterion='squared_error')\n",
        "regressor.fit(train_X, train_y)\n",
        "pred_y = regressor.predict(test_X)\n",
        "print(sklearn.metrics.mean_squared_error(test_y, pred_y))"
      ]
    },
    {
      "cell_type": "code",
      "execution_count": null,
      "metadata": {
        "id": "JJsw5nQF3PJy"
      },
      "outputs": [],
      "source": [
        "# Variables : ['CRIM', 'ZN', 'INDUS', 'CHAS', 'NOX', 'RM', 'AGE', 'DIS', 'RAD', 'TAX', 'PTRATIO', 'B', 'LSTAT', 'MEDV']\n",
        "regressor.feature_importances_"
      ]
    },
    {
      "cell_type": "code",
      "execution_count": null,
      "metadata": {
        "id": "UUeWSF7v3PJy"
      },
      "outputs": [],
      "source": [
        "# Nouvel arbre avec une profondeur de 3\n",
        "from sklearn.tree import DecisionTreeRegressor\n",
        "\n",
        "regressor = DecisionTreeRegressor(max_depth=3, random_state=42, criterion='squared_error')\n",
        "regressor.fit(train_X, train_y)\n",
        "pred_y = regressor.predict(test_X)\n",
        "print(sklearn.metrics.mean_squared_error(test_y, pred_y))"
      ]
    },
    {
      "cell_type": "code",
      "execution_count": null,
      "metadata": {
        "id": "5JQIuEyi3PJy"
      },
      "outputs": [],
      "source": [
        "from sklearn.tree import export_graphviz\n",
        "from IPython.display import Image\n",
        "\n",
        "feature_names = ['CRIM', 'ZN', 'INDUS', 'CHAS', 'NOX', 'RM', 'AGE', 'DIS', 'RAD', 'TAX', 'PTRATIO', 'B', 'LSTAT']\n",
        "export_graphviz(regressor, out_file='tree_boston.dot', feature_names=feature_names, rounded=True, filled=True)"
      ]
    },
    {
      "cell_type": "code",
      "execution_count": null,
      "metadata": {
        "id": "VnkBCCsh3PJy"
      },
      "outputs": [],
      "source": [
        "!dot -Tpng tree_boston.dot -o tree_boston.png -Gdpi=600"
      ]
    },
    {
      "cell_type": "code",
      "execution_count": null,
      "metadata": {
        "id": "MmT3ExKV3PJy"
      },
      "outputs": [],
      "source": [
        "from IPython.display import Image\n",
        "Image(filename = 'tree_boston.png')"
      ]
    },
    {
      "cell_type": "code",
      "execution_count": null,
      "metadata": {
        "id": "0uolugcL3PJy"
      },
      "outputs": [],
      "source": [
        "from sklearn.ensemble import RandomForestRegressor\n",
        "\n",
        "regressor = RandomForestRegressor(n_estimators=20, max_depth=4, random_state=42, criterion='squared_error')\n",
        "regressor.fit(train_X, train_y)\n",
        "pred_y = regressor.predict(test_X)\n",
        "print(sklearn.metrics.mean_squared_error(test_y, pred_y))"
      ]
    },
    {
      "cell_type": "code",
      "execution_count": null,
      "metadata": {
        "id": "n9AxZj7b3PJy"
      },
      "outputs": [],
      "source": [
        "# Variables : ['CRIM', 'ZN', 'INDUS', 'CHAS', 'NOX', 'RM', 'AGE', 'DIS', 'RAD', 'TAX', 'PTRATIO', 'B', 'LSTAT', 'MEDV']\n",
        "regressor.feature_importances_"
      ]
    },
    {
      "cell_type": "code",
      "execution_count": null,
      "metadata": {
        "id": "w1z7CoXg3PJz"
      },
      "outputs": [],
      "source": [
        "import xgboost\n",
        "\n",
        "xgboost = xgboost.XGBRegressor(max_depth=5, subsample=0.7, sampling_method='uniform', seed=42, n_estimators=20)\n",
        "xgboost.fit(train_X, train_y)\n",
        "pred_y = xgboost.predict(test_X)\n",
        "print(sklearn.metrics.mean_squared_error(test_y, pred_y))"
      ]
    },
    {
      "cell_type": "code",
      "execution_count": null,
      "metadata": {
        "id": "IvP6ZPvj3PJz"
      },
      "outputs": [],
      "source": [
        "# Variables : ['CRIM', 'ZN', 'INDUS', 'CHAS', 'NOX', 'RM', 'AGE', 'DIS', 'RAD', 'TAX', 'PTRATIO', 'B', 'LSTAT', 'MEDV']\n",
        "xgboost.feature_importances_"
      ]
    },
    {
      "cell_type": "markdown",
      "metadata": {
        "id": "IcUCFJ6C3PJz"
      },
      "source": [
        "### 3.3 K-plus proches voisins (KNN)"
      ]
    },
    {
      "cell_type": "code",
      "execution_count": null,
      "metadata": {
        "id": "D1XqJduI3PJz"
      },
      "outputs": [],
      "source": [
        "from sklearn.neighbors import KNeighborsRegressor\n",
        "\n",
        "regressor = KNeighborsRegressor(n_neighbors=3, weights='distance')\n",
        "regressor.fit(train_X, train_y)\n",
        "pred_y = regressor.predict(test_X)\n",
        "print(sklearn.metrics.mean_squared_error(test_y, pred_y))"
      ]
    },
    {
      "cell_type": "code",
      "execution_count": null,
      "metadata": {
        "id": "pUAahArF3PJz"
      },
      "outputs": [],
      "source": [
        "pred_y_train = regressor.predict(train_X)\n",
        "print(sklearn.metrics.mean_squared_error(train_y, pred_y_train))"
      ]
    },
    {
      "cell_type": "markdown",
      "metadata": {
        "id": "8tNL7-2G3PJz"
      },
      "source": [
        "### 3.4 Support Vector Machine (SVM)"
      ]
    },
    {
      "cell_type": "code",
      "execution_count": null,
      "metadata": {
        "id": "221zTqU43PJz"
      },
      "outputs": [],
      "source": [
        "from sklearn.svm import SVR\n",
        "\n",
        "regressor = SVR(kernel='linear', C=0.05)\n",
        "regressor.fit(train_X, train_y)\n",
        "pred_y = regressor.predict(test_X)\n",
        "print(sklearn.metrics.mean_squared_error(test_y, pred_y))"
      ]
    },
    {
      "cell_type": "code",
      "execution_count": null,
      "metadata": {
        "id": "gQlR82sW3PJz"
      },
      "outputs": [],
      "source": [
        "from sklearn.pipeline import Pipeline\n",
        "from sklearn.preprocessing import StandardScaler\n",
        "\n",
        "regressor = SVR(kernel='linear', C=0.05)\n",
        "pipeline = Pipeline([\n",
        "    ('stand', StandardScaler()),\n",
        "    ('svr', regressor)])\n",
        "pipeline.fit(train_X, train_y)\n",
        "pred_y = pipeline.predict(test_X)\n",
        "print(sklearn.metrics.mean_squared_error(test_y, pred_y))"
      ]
    },
    {
      "cell_type": "markdown",
      "source": [
        "# Exercice 4\n",
        "\n",
        "Maintenant, faites un tableau comparatif des différents algorithmes. Est-ce que l'un d'eux présente un réel avantage par rapport à la régression linéaire ?"
      ],
      "metadata": {
        "id": "Ivygzxo17c0O"
      }
    },
    {
      "cell_type": "code",
      "source": [],
      "metadata": {
        "id": "I4hHy66Z72E0"
      },
      "execution_count": null,
      "outputs": []
    },
    {
      "cell_type": "markdown",
      "metadata": {
        "id": "fRnWxQCQ3PJz"
      },
      "source": [
        "## 4. Régression linéaire et variantes\n",
        "\n",
        "Nous avons jusqu'à présent travaillé avec la regression linéaire \"simple\" ((Ordinary Least Squares). Cette section essayera des variations"
      ]
    },
    {
      "cell_type": "code",
      "execution_count": null,
      "metadata": {
        "id": "52EkpPOE3PJz"
      },
      "outputs": [],
      "source": [
        "from sklearn.linear_model import LinearRegression\n",
        "from sklearn import metrics\n",
        "\n",
        "regressor = LinearRegression()\n",
        "regressor.fit(train_X, train_y)\n",
        "pred_y = regressor.predict(test_X)\n",
        "print(metrics.mean_squared_error(test_y, pred_y))"
      ]
    },
    {
      "cell_type": "code",
      "execution_count": null,
      "metadata": {
        "id": "O0S4G3op3PJ0"
      },
      "outputs": [],
      "source": [
        "# Variables : ['CRIM', 'ZN', 'INDUS', 'CHAS', 'NOX', 'RM', 'AGE', 'DIS', 'RAD', 'TAX', 'PTRATIO', 'B', 'LSTAT', 'MEDV']\n",
        "print(regressor.coef_)"
      ]
    },
    {
      "cell_type": "code",
      "execution_count": null,
      "metadata": {
        "id": "n-pmMAXK3PJ0"
      },
      "outputs": [],
      "source": [
        "regressor.intercept_"
      ]
    },
    {
      "cell_type": "code",
      "execution_count": null,
      "metadata": {
        "id": "__g4AdsU3PJ0"
      },
      "outputs": [],
      "source": [
        "from sklearn.pipeline import Pipeline\n",
        "from sklearn.preprocessing import StandardScaler\n",
        "\n",
        "regressor = LinearRegression()\n",
        "pipeline = Pipeline([\n",
        "    ('stand', StandardScaler()),\n",
        "    ('ols', regressor)])\n",
        "pipeline.fit(train_X, train_y)\n",
        "pred_y = pipeline.predict(test_X)\n",
        "print(metrics.mean_squared_error(test_y, pred_y))"
      ]
    },
    {
      "cell_type": "code",
      "execution_count": null,
      "metadata": {
        "id": "k33Hs9ys3PJ0"
      },
      "outputs": [],
      "source": [
        "# Variables : ['CRIM', 'ZN', 'INDUS', 'CHAS', 'NOX', 'RM', 'AGE', 'DIS', 'RAD', 'TAX', 'PTRATIO', 'B', 'LSTAT', 'MEDV']\n",
        "regressor.coef_"
      ]
    },
    {
      "cell_type": "markdown",
      "source": [
        "## Question\n",
        "Que pouvez-vous observer ci-dessus ? Est-ce que l'utilisation d'un scaler a permis d'améliorer les résultats ??"
      ],
      "metadata": {
        "id": "6MUtDU348TZG"
      }
    },
    {
      "cell_type": "code",
      "source": [],
      "metadata": {
        "id": "4IMnlvZ38mTw"
      },
      "execution_count": null,
      "outputs": []
    },
    {
      "cell_type": "markdown",
      "metadata": {
        "id": "kV3-rd-R3PJ0"
      },
      "source": [
        "### 4.3 Problème de la colinéarité"
      ]
    },
    {
      "cell_type": "markdown",
      "source": [
        "On va simuler une colinéarité pour forcer les avantages des autres variantes"
      ],
      "metadata": {
        "id": "qH6yAne68n7H"
      }
    },
    {
      "cell_type": "code",
      "execution_count": null,
      "metadata": {
        "id": "M85PgVKr3PJ0"
      },
      "outputs": [],
      "source": [
        "train_X['DIS-KM'] = 1.609 * train_X['DIS']\n",
        "test_X['DIS-KM'] = 1.609 * test_X['DIS']"
      ]
    },
    {
      "cell_type": "markdown",
      "metadata": {
        "id": "j3zZYgSe3PJ0"
      },
      "source": [
        "### 4.4 Ridge regression"
      ]
    },
    {
      "cell_type": "code",
      "execution_count": null,
      "metadata": {
        "id": "SzCBqs6j3PJ3"
      },
      "outputs": [],
      "source": [
        "train_X, test_X, train_y, test_y = train_test_split(X, y, train_size=0.8, test_size=0.2, random_state=42)\n",
        "names = ['CRIM', 'ZN', 'INDUS', 'CHAS', 'NOX', 'RM', 'AGE', 'DIS', 'RAD', 'TAX', 'PTRATIO', 'B', 'LSTAT', 'MEDV']"
      ]
    },
    {
      "cell_type": "code",
      "execution_count": null,
      "metadata": {
        "id": "xEGAHe7F3PJ3"
      },
      "outputs": [],
      "source": [
        "from sklearn.linear_model import Ridge\n",
        "from sklearn import metrics\n",
        "\n",
        "regressor = Ridge(alpha=1)\n",
        "regressor.fit(train_X, train_y)\n",
        "pred_y = regressor.predict(test_X)\n",
        "print(metrics.mean_squared_error(test_y, pred_y))"
      ]
    },
    {
      "cell_type": "code",
      "execution_count": null,
      "metadata": {
        "id": "jVOI-PaO3PJ3"
      },
      "outputs": [],
      "source": [
        "regressor.intercept_"
      ]
    },
    {
      "cell_type": "code",
      "execution_count": null,
      "metadata": {
        "id": "j33O-BDl3PJ4"
      },
      "outputs": [],
      "source": [
        "# Variables : ['CRIM', 'ZN', 'INDUS', 'CHAS', 'NOX', 'RM', 'AGE', 'DIS', 'RAD', 'TAX', 'PTRATIO', 'B', 'LSTAT', 'MEDV']\n",
        "regressor.coef_"
      ]
    },
    {
      "cell_type": "code",
      "execution_count": null,
      "metadata": {
        "id": "4IAv2wRR3PJ4"
      },
      "outputs": [],
      "source": [
        "from sklearn.linear_model import RidgeCV\n",
        "import numpy as np\n",
        "\n",
        "regressor = RidgeCV(alphas=np.logspace(-6, 6, 13))\n",
        "regressor.fit(train_X, train_y)\n",
        "pred_y = regressor.predict(test_X)\n",
        "print(metrics.mean_squared_error(test_y, pred_y))"
      ]
    },
    {
      "cell_type": "code",
      "execution_count": null,
      "metadata": {
        "id": "sbdKTKow3PJ4"
      },
      "outputs": [],
      "source": [
        "regressor.alpha_"
      ]
    },
    {
      "cell_type": "code",
      "execution_count": null,
      "metadata": {
        "id": "ttKUDHzy3PJ4"
      },
      "outputs": [],
      "source": [
        "# Variables : ['CRIM', 'ZN', 'INDUS', 'CHAS', 'NOX', 'RM', 'AGE', 'DIS', 'RAD', 'TAX', 'PTRATIO', 'B', 'LSTAT', 'MEDV']\n",
        "regressor.coef_"
      ]
    },
    {
      "cell_type": "code",
      "execution_count": null,
      "metadata": {
        "id": "qufmHnqR3PJ4"
      },
      "outputs": [],
      "source": [
        "regressor.intercept_"
      ]
    },
    {
      "cell_type": "markdown",
      "metadata": {
        "id": "mF5Tz-Mr3PJ4"
      },
      "source": [
        "### 4.5 Régression Lasso"
      ]
    },
    {
      "cell_type": "code",
      "execution_count": null,
      "metadata": {
        "id": "JbzuKgaW3PJ4"
      },
      "outputs": [],
      "source": [
        "from sklearn.linear_model import Lasso\n",
        "from sklearn import metrics\n",
        "\n",
        "regressor = Lasso(alpha=1)\n",
        "regressor.fit(train_X, train_y)\n",
        "pred_y = regressor.predict(test_X)\n",
        "print(metrics.mean_squared_error(test_y, pred_y))"
      ]
    },
    {
      "cell_type": "code",
      "execution_count": null,
      "metadata": {
        "id": "Nas_r50f3PJ4"
      },
      "outputs": [],
      "source": [
        "regressor.intercept_"
      ]
    },
    {
      "cell_type": "code",
      "execution_count": null,
      "metadata": {
        "id": "8LXb7XEl3PJ4"
      },
      "outputs": [],
      "source": [
        "# Variables : ['CRIM', 'ZN', 'INDUS', 'CHAS', 'NOX', 'RM', 'AGE', 'DIS', 'RAD', 'TAX', 'PTRATIO', 'B', 'LSTAT', 'MEDV']\n",
        "regressor.coef_"
      ]
    },
    {
      "cell_type": "code",
      "execution_count": null,
      "metadata": {
        "id": "exSTDb3l3PJ5"
      },
      "outputs": [],
      "source": [
        "[names[i] for i in np.where(regressor.coef_ == 0)[0]]"
      ]
    },
    {
      "cell_type": "code",
      "execution_count": null,
      "metadata": {
        "id": "ONq93kjm3PJ5"
      },
      "outputs": [],
      "source": [
        "from sklearn.linear_model import LassoCV\n",
        "\n",
        "regressor = LassoCV(n_alphas=500)\n",
        "regressor.fit(train_X, train_y)\n",
        "pred_y = regressor.predict(test_X)\n",
        "print(metrics.mean_squared_error(test_y, pred_y))"
      ]
    },
    {
      "cell_type": "code",
      "execution_count": null,
      "metadata": {
        "id": "LwefYkrY3PJ5"
      },
      "outputs": [],
      "source": [
        "regressor.intercept_"
      ]
    },
    {
      "cell_type": "code",
      "execution_count": null,
      "metadata": {
        "id": "5cieVg3s3PJ5"
      },
      "outputs": [],
      "source": [
        "# Variables : ['CRIM', 'ZN', 'INDUS', 'CHAS', 'NOX', 'RM', 'AGE', 'DIS', 'RAD', 'TAX', 'PTRATIO', 'B', 'LSTAT', 'MEDV']\n",
        "regressor.coef_"
      ]
    },
    {
      "cell_type": "code",
      "execution_count": null,
      "metadata": {
        "id": "wtQb8vUy3PJ5"
      },
      "outputs": [],
      "source": [
        "regressor.alpha_"
      ]
    },
    {
      "cell_type": "markdown",
      "metadata": {
        "id": "0bGGVmI-3PJ5"
      },
      "source": [
        "## 5. Régression polynomiale\n",
        "\n",
        "Jusqu'à présent nous n'avons utilisé que de la régression linéaire. Voyons comment effectuer une régression polynomiale"
      ]
    },
    {
      "cell_type": "code",
      "execution_count": null,
      "metadata": {
        "id": "Rv96zW0z3PJ5"
      },
      "outputs": [],
      "source": [
        "from sklearn.preprocessing import PolynomialFeatures\n",
        "from sklearn.linear_model import Lasso\n",
        "from sklearn import metrics\n",
        "\n",
        "# Préprocesseur\n",
        "poly = PolynomialFeatures(degree=2, include_bias=False)\n",
        "train_X = poly.fit_transform(train_X)\n",
        "test_X = poly.transform(test_X)\n",
        "\n",
        "# Algorithme Lasso\n",
        "regressor = Lasso(max_iter=15000)\n",
        "regressor.fit(train_X, train_y)\n",
        "pred_y = regressor.predict(test_X)\n",
        "print(metrics.mean_squared_error(test_y, pred_y))"
      ]
    },
    {
      "cell_type": "code",
      "execution_count": null,
      "metadata": {
        "id": "VxNuk8M03PJ5"
      },
      "outputs": [],
      "source": [
        "# Nombre de features\n",
        "poly.n_output_features_"
      ]
    },
    {
      "cell_type": "code",
      "execution_count": null,
      "metadata": {
        "id": "jC018An63PJ6"
      },
      "outputs": [],
      "source": [
        "# Nombre de coefficients non nuls\n",
        "np.where(regressor.coef_ != 0)[0].shape"
      ]
    },
    {
      "cell_type": "markdown",
      "metadata": {
        "id": "uOOSVyqb3PJ6"
      },
      "source": [
        "## 6. Cas particulier de la prédiction\n",
        "\n",
        "### 6.1 Prédiction et séries temporelles\n",
        "\n",
        "Bien que la régression linéaire soit peu puissante pour les séries temporelles, elle offre une première vue à ce domaine de recherche\n",
        "\n",
        "Nous allons commencer par générer des données synthétiques, composées d'une tendance, une saisonalité et du bruit"
      ]
    },
    {
      "cell_type": "code",
      "execution_count": null,
      "metadata": {
        "id": "GRhRCrHA3PJ6"
      },
      "outputs": [],
      "source": [
        "import pandas as pd\n",
        "import random\n",
        "\n",
        "# Tendance\n",
        "trend = pd.DataFrame([x/2 for x in range(1, 100)], columns=['val'])"
      ]
    },
    {
      "cell_type": "code",
      "execution_count": null,
      "metadata": {
        "id": "lXu0Qsda3PJ6"
      },
      "outputs": [],
      "source": [
        "trend.plot().get_figure().savefig('trend.png')"
      ]
    },
    {
      "cell_type": "code",
      "execution_count": null,
      "metadata": {
        "id": "gUwmEq2l3PJ6"
      },
      "outputs": [],
      "source": [
        "# Saisonnalités\n",
        "import math\n",
        "\n",
        "season = pd.DataFrame([10*math.sin(x/3) for x in range(1, 100)], columns=['val'])"
      ]
    },
    {
      "cell_type": "code",
      "execution_count": null,
      "metadata": {
        "id": "l56R_Xp63PJ6"
      },
      "outputs": [],
      "source": [
        "season.plot().get_figure().savefig('season.png')"
      ]
    },
    {
      "cell_type": "code",
      "execution_count": null,
      "metadata": {
        "id": "dex1P2fR3PJ6"
      },
      "outputs": [],
      "source": [
        "# Bruit\n",
        "random.seed(42)\n",
        "noise = pd.DataFrame([random.random()*10-5 for x in range(1, 100)], columns=['val'])"
      ]
    },
    {
      "cell_type": "code",
      "execution_count": null,
      "metadata": {
        "id": "OA6ew3LI3PJ6"
      },
      "outputs": [],
      "source": [
        "noise.plot().get_figure().savefig('noise.png')"
      ]
    },
    {
      "cell_type": "code",
      "execution_count": null,
      "metadata": {
        "id": "-QKz1oUY3PJ6"
      },
      "outputs": [],
      "source": [
        "# Courbe totale\n",
        "total = pd.DataFrame(trend['val'] + season['val'] + noise['val'])"
      ]
    },
    {
      "cell_type": "code",
      "execution_count": null,
      "metadata": {
        "id": "TymYU6QL3PJ6"
      },
      "outputs": [],
      "source": [
        "total.plot().get_figure().savefig('total.png')"
      ]
    },
    {
      "cell_type": "markdown",
      "metadata": {
        "id": "BGcQY7rC3PJ7"
      },
      "source": [
        "### 6.3 Application en Scikit-Learn"
      ]
    },
    {
      "cell_type": "code",
      "execution_count": null,
      "metadata": {
        "id": "wUO3_rcu3PJ7"
      },
      "outputs": [],
      "source": [
        "import pandas as pd\n",
        "import random\n",
        "\n",
        "random.seed(42)\n",
        "\n",
        "data = pd.DataFrame([x + 5 * random.random()- 5/2 for x in range(1, 100)], columns=['val'])"
      ]
    },
    {
      "cell_type": "code",
      "execution_count": null,
      "metadata": {
        "id": "Y3TqzcCy3PJ7"
      },
      "outputs": [],
      "source": [
        "data.plot().get_figure().savefig('data.png')"
      ]
    },
    {
      "cell_type": "code",
      "execution_count": null,
      "metadata": {
        "id": "770_5rvY3PJ7"
      },
      "outputs": [],
      "source": [
        "# Ici on reformate les données pour avoir les \"fenêtres glissantes\"\n",
        "def create_horizon(data, size):\n",
        "    for i in range(1, size+1):\n",
        "        data['minus'+str(i)] = data['val'].shift(i)\n",
        "    data.dropna(inplace=True)\n",
        "    return data\n",
        "\n",
        "data = create_horizon(data, 3)"
      ]
    },
    {
      "cell_type": "code",
      "execution_count": null,
      "metadata": {
        "id": "rC_gjaKU3PJ7"
      },
      "outputs": [],
      "source": [
        "data.head()"
      ]
    },
    {
      "cell_type": "code",
      "execution_count": null,
      "metadata": {
        "id": "k_aqMrTw3PJ7"
      },
      "outputs": [],
      "source": [
        "y = data['val']\n",
        "X = data.drop('val', axis=1)"
      ]
    },
    {
      "cell_type": "code",
      "execution_count": null,
      "metadata": {
        "id": "_NUwLpoj3PJ7"
      },
      "outputs": [],
      "source": [
        "train_y = y[:80]\n",
        "test_y = y[80:]\n",
        "train_X = X[:80]\n",
        "test_X = X[80:]"
      ]
    },
    {
      "cell_type": "code",
      "execution_count": null,
      "metadata": {
        "id": "I3eSIDzJ3PJ7"
      },
      "outputs": [],
      "source": [
        "from sklearn.linear_model import LassoCV\n",
        "from sklearn import metrics\n",
        "\n",
        "regressor = LassoCV(n_alphas=200)\n",
        "regressor.fit(train_X, train_y)\n",
        "pred_y = regressor.predict(test_X)\n",
        "print(metrics.mean_squared_error(test_y, pred_y))"
      ]
    },
    {
      "cell_type": "code",
      "execution_count": null,
      "metadata": {
        "id": "xci4CJha3PJ9"
      },
      "outputs": [],
      "source": [
        "regressor.intercept_"
      ]
    },
    {
      "cell_type": "code",
      "execution_count": null,
      "metadata": {
        "id": "tUHYCJqs3PJ9"
      },
      "outputs": [],
      "source": [
        "regressor.coef_"
      ]
    },
    {
      "cell_type": "code",
      "execution_count": null,
      "metadata": {
        "id": "lgmzXVDA3PJ9"
      },
      "outputs": [],
      "source": [
        "regressor.alpha_"
      ]
    },
    {
      "cell_type": "code",
      "execution_count": null,
      "metadata": {
        "id": "6vKXjPks3PJ9"
      },
      "outputs": [],
      "source": [
        "import matplotlib.pyplot as plt\n",
        "\n",
        "test_y.reset_index()['val'].plot(marker='+', linestyle='None')\n",
        "plt.plot([x for x in range(84,100)], '--')\n",
        "plt.plot(pred_y, 'gx')\n",
        "\n",
        "plt.savefig('pred.png')"
      ]
    },
    {
      "cell_type": "markdown",
      "source": [
        "La régression semble tenir bien la tendance. Par contre, est-ce qu'on peut prédire correctement les variations d'une entrée à l'autre ?\n",
        "\n",
        "Nous allons créer une colonne supplémentaire qui enregistre cette différence."
      ],
      "metadata": {
        "id": "QkHyVWsb9yXp"
      }
    },
    {
      "cell_type": "code",
      "execution_count": null,
      "metadata": {
        "id": "ClsBZuWM3PJ9"
      },
      "outputs": [],
      "source": [
        "data['dif'] = data['val'] - data['minus1']\n",
        "data.head()"
      ]
    },
    {
      "cell_type": "code",
      "execution_count": null,
      "metadata": {
        "id": "dr8sbxpr3PJ-"
      },
      "outputs": [],
      "source": [
        "y = data['dif']\n",
        "X = data.drop(['dif', 'val'], axis=1)"
      ]
    },
    {
      "cell_type": "code",
      "execution_count": null,
      "metadata": {
        "id": "I1Zg1m4w3PJ-"
      },
      "outputs": [],
      "source": [
        "train_y = y[:80]\n",
        "test_y = y[80:]\n",
        "train_X = X[:80]\n",
        "test_X = X[80:]"
      ]
    },
    {
      "cell_type": "code",
      "execution_count": null,
      "metadata": {
        "id": "boLSIHiq3PJ-"
      },
      "outputs": [],
      "source": [
        "from sklearn.linear_model import LassoCV\n",
        "from sklearn import metrics\n",
        "\n",
        "regressor = LassoCV(n_alphas=200, max_iter=50000)\n",
        "regressor.fit(train_X, train_y)\n",
        "pred_y = regressor.predict(test_X)\n",
        "print(metrics.mean_squared_error(test_y, pred_y))"
      ]
    },
    {
      "cell_type": "code",
      "execution_count": null,
      "metadata": {
        "id": "glpxdQ523PJ-"
      },
      "outputs": [],
      "source": [
        "regressor.intercept_"
      ]
    },
    {
      "cell_type": "code",
      "execution_count": null,
      "metadata": {
        "id": "fcPCQEXx3PJ-"
      },
      "outputs": [],
      "source": [
        "regressor.coef_"
      ]
    },
    {
      "cell_type": "code",
      "execution_count": null,
      "metadata": {
        "id": "3ZLIc0B93PJ-"
      },
      "outputs": [],
      "source": [
        "regressor.alpha_"
      ]
    },
    {
      "cell_type": "code",
      "execution_count": null,
      "metadata": {
        "id": "hcOtUz1l3PJ-"
      },
      "outputs": [],
      "source": [
        "import matplotlib.pyplot as plt\n",
        "\n",
        "test_y.reset_index()['dif'].plot(marker='+', linestyle='None')\n",
        "plt.plot([1 for x in range(84,100)], '--')\n",
        "plt.plot(pred_y, 'gx')\n",
        "\n",
        "plt.savefig('pred2.png')"
      ]
    },
    {
      "cell_type": "markdown",
      "source": [
        "Que pensez-vous ? Est-ce que la régression linéaire nous aide à prévoir les variations \"journalières\" ?"
      ],
      "metadata": {
        "id": "ePwzFDMM-Bao"
      }
    },
    {
      "cell_type": "markdown",
      "metadata": {
        "id": "1jKrJWkM3PJ-"
      },
      "source": [
        "### 6.4 Utilisation de modèles spécifiques\n"
      ]
    },
    {
      "cell_type": "code",
      "execution_count": null,
      "metadata": {
        "id": "2XPeww3t3PJ-"
      },
      "outputs": [],
      "source": [
        "data.head()"
      ]
    },
    {
      "cell_type": "code",
      "execution_count": null,
      "metadata": {
        "id": "P2s3RVt23PJ_"
      },
      "outputs": [],
      "source": [
        "y = data['val']\n",
        "X = data.drop(['val', 'dif'], axis=1)"
      ]
    },
    {
      "cell_type": "code",
      "execution_count": null,
      "metadata": {
        "id": "1QWjjt3_3PJ_"
      },
      "outputs": [],
      "source": [
        "train_y = y[:80]\n",
        "test_y = y[80:]\n",
        "train_X = X[:80]\n",
        "test_X = X[80:]"
      ]
    },
    {
      "cell_type": "code",
      "execution_count": null,
      "metadata": {
        "id": "7En-WUtn3PJ_"
      },
      "outputs": [],
      "source": [
        "from sklearn.linear_model import LassoCV\n",
        "from sklearn import metrics\n",
        "\n",
        "regressor = LassoCV(n_alphas=200)\n",
        "regressor.fit(train_X, train_y)\n",
        "pred_y = regressor.predict(test_X)\n",
        "print(metrics.mean_squared_error(test_y, pred_y))"
      ]
    },
    {
      "cell_type": "code",
      "execution_count": null,
      "metadata": {
        "id": "Wac52Q6F3PJ_"
      },
      "outputs": [],
      "source": [
        "metrics.mean_squared_error(test_y, test_X['minus1'])"
      ]
    },
    {
      "cell_type": "code",
      "execution_count": null,
      "metadata": {
        "id": "ot6ic2_Y3PJ_"
      },
      "outputs": [],
      "source": [
        "total = create_horizon(total, 3)"
      ]
    },
    {
      "cell_type": "code",
      "execution_count": null,
      "metadata": {
        "id": "445Myew-3PJ_"
      },
      "outputs": [],
      "source": [
        "y = total['val']\n",
        "X = total.drop('val', axis=1)"
      ]
    },
    {
      "cell_type": "code",
      "execution_count": null,
      "metadata": {
        "id": "zUtde-wz3PJ_"
      },
      "outputs": [],
      "source": [
        "train_y = y[:80]\n",
        "test_y = y[80:]\n",
        "train_X = X[:80]\n",
        "test_X = X[80:]"
      ]
    },
    {
      "cell_type": "code",
      "execution_count": null,
      "metadata": {
        "id": "XOVq70PR3PJ_"
      },
      "outputs": [],
      "source": [
        "regressor = LassoCV(n_alphas=200)\n",
        "regressor.fit(train_X, train_y)\n",
        "pred_y = regressor.predict(test_X)\n",
        "print(metrics.mean_squared_error(test_y, pred_y))"
      ]
    },
    {
      "cell_type": "code",
      "execution_count": null,
      "metadata": {
        "id": "dwKfkgCo3PJ_"
      },
      "outputs": [],
      "source": [
        "metrics.mean_squared_error(test_y, test_X['minus1'])"
      ]
    },
    {
      "cell_type": "code",
      "execution_count": null,
      "metadata": {
        "id": "n5DDN_Fn3PKA"
      },
      "outputs": [],
      "source": [
        "df = create_horizon(total, 18)"
      ]
    },
    {
      "cell_type": "code",
      "execution_count": null,
      "metadata": {
        "id": "GuZr87zm3PKA"
      },
      "outputs": [],
      "source": [
        "y = df['val']\n",
        "X = df.drop('val', axis=1)\n",
        "\n",
        "train_y = y[:45]\n",
        "test_y = y[45:]\n",
        "train_X = X[:45]\n",
        "test_X = X[45:]"
      ]
    },
    {
      "cell_type": "code",
      "execution_count": null,
      "metadata": {
        "id": "x4nH0cWn3PKA"
      },
      "outputs": [],
      "source": [
        "from sklearn.linear_model import LassoCV\n",
        "from sklearn import metrics\n",
        "\n",
        "regressor = LassoCV(n_alphas=200)\n",
        "regressor.fit(train_X, train_y)\n",
        "pred_y = regressor.predict(test_X)\n",
        "print(metrics.mean_squared_error(test_y, pred_y))"
      ]
    },
    {
      "cell_type": "code",
      "execution_count": null,
      "metadata": {
        "id": "sd22bk323PKA"
      },
      "outputs": [],
      "source": [
        "regressor.intercept_"
      ]
    },
    {
      "cell_type": "code",
      "execution_count": null,
      "metadata": {
        "id": "QWAI8buf3PKA"
      },
      "outputs": [],
      "source": [
        "regressor.coef_"
      ]
    },
    {
      "cell_type": "code",
      "execution_count": null,
      "metadata": {
        "id": "hIkO0hWY3PKA"
      },
      "outputs": [],
      "source": [
        "(test_y - pred_y).describe()"
      ]
    },
    {
      "cell_type": "code",
      "execution_count": null,
      "metadata": {
        "id": "Bxjx8hhh3PKA"
      },
      "outputs": [],
      "source": [
        "#  6.4.2 Algorithmes dédiés aux séries temporelles"
      ]
    },
    {
      "cell_type": "code",
      "execution_count": null,
      "metadata": {
        "id": "e1V50U5I3PKA"
      },
      "outputs": [],
      "source": [
        "total = pd.DataFrame(trend['val'] + season['val'] + noise['val'])\n",
        "\n",
        "train_y = total[:80]\n",
        "test_y = total[80:]"
      ]
    },
    {
      "cell_type": "code",
      "execution_count": null,
      "metadata": {
        "id": "pA2bLKUk3PKB"
      },
      "outputs": [],
      "source": [
        "# Autoregression avec 18 d'horizon\n",
        "import statsmodels.api as sm\n",
        "from statsmodels.tsa.ar_model import AutoReg\n",
        "\n",
        "model = AutoReg(train_y, lags=18, trend='t')\n",
        "model_fit = model.fit()\n",
        "pred = model_fit.predict(80, 98)"
      ]
    },
    {
      "cell_type": "code",
      "execution_count": null,
      "metadata": {
        "id": "03Mbv1kR3PKB"
      },
      "outputs": [],
      "source": [
        "metrics.mean_squared_error(test_y, pred)"
      ]
    },
    {
      "cell_type": "code",
      "execution_count": null,
      "metadata": {
        "id": "M0OF_Drm3PKB"
      },
      "outputs": [],
      "source": [
        "total['val'].plot()\n",
        "plt.plot(pred[-20:], 'gx')\n",
        "plt.savefig('lag18.png')"
      ]
    },
    {
      "cell_type": "code",
      "execution_count": null,
      "metadata": {
        "id": "eHhLf63r3PKB"
      },
      "outputs": [],
      "source": [
        "# Autoreg avec 3 d'horizon\n",
        "model = AutoReg(train_y, lags=3, trend='t')\n",
        "model_fit = model.fit()\n",
        "pred = model_fit.predict(80, 98)"
      ]
    },
    {
      "cell_type": "code",
      "execution_count": null,
      "metadata": {
        "id": "Hpi5rt6V3PKB"
      },
      "outputs": [],
      "source": [
        "metrics.mean_squared_error(test_y, pred)"
      ]
    },
    {
      "cell_type": "code",
      "execution_count": null,
      "metadata": {
        "id": "WUkVs7d23PKB"
      },
      "outputs": [],
      "source": [
        "total['val'].plot()\n",
        "plt.plot(pred[-20:], 'gx')\n",
        "plt.savefig('lag3.png')"
      ]
    },
    {
      "cell_type": "code",
      "execution_count": null,
      "metadata": {
        "id": "uOpLC22n3PKB"
      },
      "outputs": [],
      "source": [
        "from statsmodels.tsa.arima.model import ARIMA\n",
        "\n",
        "model = ARIMA(train_y, order=(18, 1, 4))\n",
        "model_fit = model.fit()\n",
        "pred = model_fit.predict(80, 98)"
      ]
    },
    {
      "cell_type": "code",
      "execution_count": null,
      "metadata": {
        "id": "WYUUtQEH3PKB"
      },
      "outputs": [],
      "source": [
        "metrics.mean_squared_error(test_y, pred)"
      ]
    },
    {
      "cell_type": "code",
      "execution_count": null,
      "metadata": {
        "id": "Ji2ViFY33PKB"
      },
      "outputs": [],
      "source": [
        "total['val'].plot()\n",
        "plt.plot(pred[-20:], 'gx')\n",
        "plt.savefig('arima.png')"
      ]
    },
    {
      "cell_type": "code",
      "execution_count": null,
      "metadata": {
        "id": "D3ucCHrk3PKB"
      },
      "outputs": [],
      "source": [
        "pred = model_fit.predict(80, 150)"
      ]
    },
    {
      "cell_type": "code",
      "execution_count": null,
      "metadata": {
        "id": "XwNooSlZ3PKC"
      },
      "outputs": [],
      "source": [
        "fix = pd.DataFrame([x/2 for x in range(1, 150)], columns=['val'])\n",
        "variable = pd.DataFrame([10*math.sin(x/3) for x in range(1, 150)], columns=['val'])\n",
        "theory = fix + variable"
      ]
    },
    {
      "cell_type": "code",
      "execution_count": null,
      "metadata": {
        "id": "RQkZtbQ93PKC"
      },
      "outputs": [],
      "source": [
        "total['val'][70:].plot()\n",
        "theory['val'][70:].plot()\n",
        "plt.plot(pred, 'g.')\n",
        "plt.savefig('future.png')"
      ]
    },
    {
      "cell_type": "code",
      "execution_count": null,
      "metadata": {
        "id": "iLbWPY4b3PKC"
      },
      "outputs": [],
      "source": [
        "import statsmodels.api as sm\n",
        "\n",
        "decomposition = sm.tsa.seasonal_decompose(total, model='additive', period=18)\n",
        "fig = decomposition.plot()"
      ]
    },
    {
      "cell_type": "code",
      "execution_count": null,
      "metadata": {
        "id": "Q00rP8bS3PKC"
      },
      "outputs": [],
      "source": []
    }
  ],
  "metadata": {
    "instance_type": "ml.t3.medium",
    "kernelspec": {
      "display_name": "Python 3 (ipykernel)",
      "language": "python",
      "name": "python3"
    },
    "language_info": {
      "codemirror_mode": {
        "name": "ipython",
        "version": 3
      },
      "file_extension": ".py",
      "mimetype": "text/x-python",
      "name": "python",
      "nbconvert_exporter": "python",
      "pygments_lexer": "ipython3",
      "version": "3.9.17"
    },
    "toc-autonumbering": false,
    "toc-showcode": false,
    "toc-showmarkdowntxt": false,
    "toc-showtags": false,
    "colab": {
      "provenance": [],
      "include_colab_link": true
    }
  },
  "nbformat": 4,
  "nbformat_minor": 0
}