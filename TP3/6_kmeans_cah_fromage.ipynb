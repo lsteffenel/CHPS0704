{
  "cells": [
    {
      "cell_type": "markdown",
      "metadata": {
        "id": "view-in-github",
        "colab_type": "text"
      },
      "source": [
        "<a href=\"https://colab.research.google.com/github/lsteffenel/CHPS0704/blob/main/TP3/6_kmeans_cah_fromage.ipynb\" target=\"_parent\"><img src=\"https://colab.research.google.com/assets/colab-badge.svg\" alt=\"Open In Colab\"/></a>"
      ]
    },
    {
      "cell_type": "markdown",
      "id": "88146031-b220-46a0-8509-392231c6783c",
      "metadata": {
        "id": "88146031-b220-46a0-8509-392231c6783c"
      },
      "source": [
        "K-means"
      ]
    },
    {
      "cell_type": "markdown",
      "id": "9dc48ae3-304e-4df5-83d0-570803845e31",
      "metadata": {
        "id": "9dc48ae3-304e-4df5-83d0-570803845e31"
      },
      "source": [
        "On utilise un dataset \"Fromage\" disponible sur le site de Marie Chavent à Bordeaux."
      ]
    },
    {
      "cell_type": "code",
      "execution_count": null,
      "id": "0624f70f-35b0-4699-b9c0-d18f1b861135",
      "metadata": {
        "id": "0624f70f-35b0-4699-b9c0-d18f1b861135"
      },
      "outputs": [],
      "source": [
        "import pandas as pnd\n",
        "\n",
        "fromage = pnd.read_csv('https://raw.githubusercontent.com/lsteffenel/CHPS0704/refs/heads/main/data/fromage.csv', delimiter=';',  header=[0],index_col=[0])\n",
        "fromage.info()"
      ]
    },
    {
      "cell_type": "code",
      "execution_count": null,
      "id": "0b09f6c9-f2e4-402c-8633-d6312663482d",
      "metadata": {
        "id": "0b09f6c9-f2e4-402c-8633-d6312663482d"
      },
      "outputs": [],
      "source": [
        "fromage.head()"
      ]
    },
    {
      "cell_type": "code",
      "execution_count": null,
      "id": "c9c36681-de8a-484a-af7f-42a69e3c530f",
      "metadata": {
        "id": "c9c36681-de8a-484a-af7f-42a69e3c530f"
      },
      "outputs": [],
      "source": [
        "%matplotlib inline"
      ]
    },
    {
      "cell_type": "code",
      "execution_count": null,
      "id": "56702046-4a09-45c6-9006-fbb9d3ae6ed6",
      "metadata": {
        "id": "56702046-4a09-45c6-9006-fbb9d3ae6ed6"
      },
      "outputs": [],
      "source": [
        "import seaborn as sns\n",
        "grid = sns.pairplot(data=fromage, vars=fromage.columns[0:8])"
      ]
    },
    {
      "cell_type": "markdown",
      "source": [
        "## KMeans\n",
        "\n",
        "Dans un premier temps nous allons utiliser kMeans pour trouver des \"groupes\" de fromage."
      ],
      "metadata": {
        "id": "u3XW7R31GWWT"
      },
      "id": "u3XW7R31GWWT"
    },
    {
      "cell_type": "code",
      "execution_count": null,
      "id": "7fcb9b83-e767-4414-94f0-c56fbaf26718",
      "metadata": {
        "id": "7fcb9b83-e767-4414-94f0-c56fbaf26718"
      },
      "outputs": [],
      "source": [
        "from sklearn.cluster import KMeans\n",
        "kmeansf = KMeans(n_clusters=4, random_state=11)\n",
        "kmeansf.fit(fromage)"
      ]
    },
    {
      "cell_type": "code",
      "execution_count": null,
      "id": "8ff6be27-704b-4bad-a458-b011805c44ad",
      "metadata": {
        "id": "8ff6be27-704b-4bad-a458-b011805c44ad"
      },
      "outputs": [],
      "source": [
        "print(kmeansf.labels_)"
      ]
    },
    {
      "cell_type": "code",
      "execution_count": null,
      "id": "db01b75f-c27f-49bd-9921-d3b7f91b3ba0",
      "metadata": {
        "id": "db01b75f-c27f-49bd-9921-d3b7f91b3ba0"
      },
      "outputs": [],
      "source": [
        "import numpy as np\n",
        "idk = np.argsort(kmeansf.labels_)"
      ]
    },
    {
      "cell_type": "code",
      "execution_count": null,
      "id": "188c1641-4fa7-4b8e-b5a1-3119453c4114",
      "metadata": {
        "id": "188c1641-4fa7-4b8e-b5a1-3119453c4114"
      },
      "outputs": [],
      "source": [
        "print(pnd.DataFrame(fromage.index[idk],kmeansf.labels_[idk]))"
      ]
    },
    {
      "cell_type": "code",
      "execution_count": null,
      "id": "4ca036e2-fa5c-4ac5-b4e5-0853b8f7ab0e",
      "metadata": {
        "id": "4ca036e2-fa5c-4ac5-b4e5-0853b8f7ab0e"
      },
      "outputs": [],
      "source": [
        "#librairie pour évaluation des partitions\n",
        "from sklearn import metrics\n",
        "import numpy as np\n",
        "\n",
        "#utilisation de la métrique \"silhouette\"\n",
        "#faire varier le nombre de clusters de 2 à 10\n",
        "res = np.arange(9,dtype=\"double\")\n",
        "for k in np.arange(9):\n",
        "    km = KMeans(n_clusters=k+2)\n",
        "    km.fit(fromage)\n",
        "    res[k] = metrics.silhouette_score(fromage,km.labels_)\n",
        "print(res)\n",
        "\n",
        "#graphique\n",
        "import matplotlib.pyplot as plt\n",
        "plt.title(\"Silhouette\")\n",
        "plt.xlabel(\"# of clusters\")\n",
        "plt.plot(np.arange(2,11,1),res)\n",
        "plt.show()"
      ]
    },
    {
      "cell_type": "markdown",
      "source": [
        "## Question :\n",
        "À votre avis (et en fonction du graphique Silhouette), quel serait un bon nombre de groupes de fromage ? Vous pouvez \"tricher\" et analyser les caractéristiques des fromages appartenant à chaque groupe."
      ],
      "metadata": {
        "id": "1_VgJsjMGekO"
      },
      "id": "1_VgJsjMGekO"
    },
    {
      "cell_type": "markdown",
      "source": [
        "# Clustering Hierarchique\n",
        "\n",
        "Maintenant nous allons utiliser une autre méthode de clustering, la CAH (Clustering Agglomératif Hierarchique).\n",
        "L'objectif ici est moins de déterminer le nombre optimal de cluster mais de visualiser les groupes."
      ],
      "metadata": {
        "id": "i5MxMS-bGsHf"
      },
      "id": "i5MxMS-bGsHf"
    },
    {
      "cell_type": "code",
      "execution_count": null,
      "id": "12fa099c-8748-4b16-8d3f-d1cc0d40e4b7",
      "metadata": {
        "tags": [],
        "id": "12fa099c-8748-4b16-8d3f-d1cc0d40e4b7"
      },
      "outputs": [],
      "source": [
        "from matplotlib import pyplot as plt\n",
        "from scipy.cluster.hierarchy import dendrogram, linkage, fcluster"
      ]
    },
    {
      "cell_type": "code",
      "execution_count": null,
      "id": "6616eee3-3d26-4cef-98bd-48e52b07c060",
      "metadata": {
        "id": "6616eee3-3d26-4cef-98bd-48e52b07c060"
      },
      "outputs": [],
      "source": [
        "Z = linkage(fromage,method='ward',metric='euclidean')"
      ]
    },
    {
      "cell_type": "code",
      "execution_count": null,
      "id": "e365ea4c-9a64-4d48-9757-06fc1a88904c",
      "metadata": {
        "id": "e365ea4c-9a64-4d48-9757-06fc1a88904c"
      },
      "outputs": [],
      "source": [
        "plt.title(\"CAH\")\n",
        "dendrogram(Z,labels=fromage.index,orientation='left',color_threshold=300)\n",
        "plt.show()"
      ]
    },
    {
      "cell_type": "markdown",
      "source": [
        "Disons qu'on veut s'arrêter à 4 clusters. On fera cela en \"coupant\" les clustering à l'hauteur t=300"
      ],
      "metadata": {
        "id": "f5nLoFK0HDse"
      },
      "id": "f5nLoFK0HDse"
    },
    {
      "cell_type": "code",
      "execution_count": null,
      "id": "5624d4d8-07fc-43d8-9bb3-4ee0c2d1fc5d",
      "metadata": {
        "id": "5624d4d8-07fc-43d8-9bb3-4ee0c2d1fc5d"
      },
      "outputs": [],
      "source": [
        "groupes_cah = fcluster(Z,t=300,criterion='distance')\n",
        "print(groupes_cah)"
      ]
    },
    {
      "cell_type": "code",
      "execution_count": null,
      "id": "dab52b1e-3efc-4afc-890c-38f8fe8877e9",
      "metadata": {
        "id": "dab52b1e-3efc-4afc-890c-38f8fe8877e9"
      },
      "outputs": [],
      "source": [
        "import numpy as np\n",
        "idg = np.argsort(groupes_cah)"
      ]
    },
    {
      "cell_type": "code",
      "execution_count": null,
      "id": "b6b5f95a-1100-46af-96b7-58c7ea19b43c",
      "metadata": {
        "id": "b6b5f95a-1100-46af-96b7-58c7ea19b43c"
      },
      "outputs": [],
      "source": [
        "print(pnd.DataFrame(fromage.index[idg],groupes_cah[idg]))"
      ]
    },
    {
      "cell_type": "markdown",
      "source": [
        "Enfin, on compare les clusters obtenus avec kMeans et ceux de CAH. Est-ce qu'ils sont similaires ou divergent beaucoup ? (Attention : comme les labels de kMeans et de CAH sont crées de manière aléatoire, il se peut que les indexes ne soient pas identiques)"
      ],
      "metadata": {
        "id": "zlcNe9byHL_h"
      },
      "id": "zlcNe9byHL_h"
    },
    {
      "cell_type": "code",
      "execution_count": null,
      "id": "4d4277d6-6aaa-4686-aedc-87d70bc1a660",
      "metadata": {
        "id": "4d4277d6-6aaa-4686-aedc-87d70bc1a660"
      },
      "outputs": [],
      "source": [
        "pnd.crosstab(groupes_cah,kmeansf.labels_)"
      ]
    }
  ],
  "metadata": {
    "kernelspec": {
      "display_name": "Python 3",
      "language": "python",
      "name": "python3"
    },
    "language_info": {
      "codemirror_mode": {
        "name": "ipython",
        "version": 3
      },
      "file_extension": ".py",
      "mimetype": "text/x-python",
      "name": "python",
      "nbconvert_exporter": "python",
      "pygments_lexer": "ipython3",
      "version": "3.9.1"
    },
    "colab": {
      "provenance": [],
      "include_colab_link": true
    }
  },
  "nbformat": 4,
  "nbformat_minor": 5
}